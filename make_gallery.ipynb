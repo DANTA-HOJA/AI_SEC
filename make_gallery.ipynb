{
 "cells": [
  {
   "cell_type": "code",
   "execution_count": 1,
   "metadata": {},
   "outputs": [],
   "source": [
    "import os\n",
    "import sys\n",
    "import re\n",
    "from copy import deepcopy\n",
    "from typing import List, Dict, Tuple\n",
    "from glob import glob\n",
    "import json\n",
    "import yaml\n",
    "\n",
    "from tqdm.auto import tqdm\n",
    "import cv2\n",
    "\n",
    "sys.path.append(r\"C:\\Users\\confocal_microscope\\Desktop\\ZebraFish_AP_POS\\modules\") # add path to scan customized module\n",
    "from fileop import create_new_dir\n",
    "import plt_show\n",
    "\n",
    "# print(\"=\"*100, \"\\n\")"
   ]
  },
  {
   "cell_type": "code",
   "execution_count": 2,
   "metadata": {},
   "outputs": [],
   "source": [
    "def sortFishNameForDataset(fish_name_string:str) -> Tuple[int, str, int]:\n",
    "    \n",
    "    fish_name_for_dataset = fish_name_string.split(os.sep)[-1].split(\".\")[0]\n",
    "    name_split_list = re.split(\" |_|-\", fish_name_for_dataset) # example_list : ['L', 'fish', '111', 'A', 'selected', '0']\n",
    "    \n",
    "    return int(name_split_list[2]), name_split_list[3], int(name_split_list[5])"
   ]
  },
  {
   "attachments": {},
   "cell_type": "markdown",
   "metadata": {},
   "source": [
    "Args"
   ]
  },
  {
   "cell_type": "code",
   "execution_count": 3,
   "metadata": {},
   "outputs": [],
   "source": [
    "column = 5\n",
    "\n",
    "load_dir_root = r\"C:\\Users\\confocal_microscope\\Desktop\\{Test_by_fish}_Model_history\"\n",
    "model_name = \"vit_b_16\"\n",
    "model_history = r\"20230403_03_01_49_{Tested}_{84_epochs_AugOnFly}_{best}_{avg_f1_0.89034}\""
   ]
  },
  {
   "attachments": {},
   "cell_type": "markdown",
   "metadata": {},
   "source": [
    "Load `{yaml}_conifg`"
   ]
  },
  {
   "cell_type": "code",
   "execution_count": 4,
   "metadata": {},
   "outputs": [],
   "source": [
    "load_dir = os.path.join(load_dir_root, model_name, model_history)\n",
    "\n",
    "config_path = os.path.join(load_dir, r\"train_config.yaml\")\n",
    "with open(config_path, 'r') as f_reader: \n",
    "    config = yaml.load(f_reader, Loader=yaml.FullLoader)"
   ]
  },
  {
   "attachments": {},
   "cell_type": "markdown",
   "metadata": {},
   "source": [
    "Set `vars`"
   ]
  },
  {
   "cell_type": "code",
   "execution_count": 5,
   "metadata": {},
   "outputs": [],
   "source": [
    "# dataset\n",
    "ap_dataset_root = os.path.normpath(config[\"dataset\"][\"root\"])\n",
    "dataset_name = config[\"dataset\"][\"name\"]\n",
    "dataset_gen_method = config[\"dataset\"][\"gen_method\"]\n",
    "dataset_param_name = config[\"dataset\"][\"para_mname\"]"
   ]
  },
  {
   "attachments": {},
   "cell_type": "markdown",
   "metadata": {},
   "source": [
    "Generate `path_vars`"
   ]
  },
  {
   "cell_type": "code",
   "execution_count": 6,
   "metadata": {},
   "outputs": [],
   "source": [
    "# dataset\n",
    "dataset_dir = os.path.join(ap_dataset_root, dataset_name, dataset_gen_method, dataset_param_name)\n",
    "test_selected_dir = os.path.join(dataset_dir, \"test\", \"selected\")\n",
    "test_drop_dir = os.path.join(dataset_dir, \"test\", \"drop\")\n",
    "\n",
    "# cam, cam_gallery\n",
    "cam_result_root = os.path.join(load_dir, \"GradCAM_result_with_text\")\n",
    "cam_result_gallery = os.path.join(load_dir, \"!---Gallery\")\n",
    "\n",
    "# cam_gallery_class_dir\n",
    "logs_path = os.path.join(dataset_dir, r\"{Logs}_train_selected_summary.log\")\n",
    "with open(logs_path, 'r') as f_reader: class_counts: Dict[str, int] = json.load(f_reader)\n",
    "for key, _ in class_counts.items():\n",
    "    gallery_class_dir = os.path.join(cam_result_gallery, key)\n",
    "    create_new_dir(gallery_class_dir, display_in_CLI=False)"
   ]
  },
  {
   "attachments": {},
   "cell_type": "markdown",
   "metadata": {},
   "source": [
    "Run"
   ]
  },
  {
   "cell_type": "code",
   "execution_count": 7,
   "metadata": {},
   "outputs": [
    {
     "data": {
      "application/vnd.jupyter.widget-view+json": {
       "model_id": "bb5e89e7c4354a17a608d0851d1b2eeb",
       "version_major": 2,
       "version_minor": 0
      },
      "text/plain": [
       "Gallery :   0%|          | 0/396 [00:00<?, ?it/s]"
      ]
     },
     "metadata": {},
     "output_type": "display_data"
    }
   ],
   "source": [
    "fish_name_for_dataset_list = [ path.split(os.sep)[-1] for path in glob(os.path.normpath(f\"{cam_result_root}/*\")) ]\n",
    "pbar_n_img = tqdm(total=len(fish_name_for_dataset_list), desc=\"Gallery \")\n",
    "\n",
    "\n",
    "for fish_name_for_dataset in fish_name_for_dataset_list:\n",
    "    \n",
    "    \n",
    "    pbar_n_img.desc = f\"Generate ' {fish_name_for_dataset} ' \"\n",
    "    pbar_n_img.refresh()\n",
    "    \n",
    "    \n",
    "    fish_name_for_dataset_split_list = re.split(\" |_|-\", fish_name_for_dataset)\n",
    "    \n",
    "    test_selected_path_list = glob(os.path.normpath((f\"{test_selected_dir}/{fish_name_for_dataset_split_list[0]}/\"\n",
    "                                                     f\"{fish_name_for_dataset}_selected_*.tiff\")))\n",
    "    \n",
    "    test_drop_path_list = glob(os.path.normpath((f\"{test_drop_dir}/{fish_name_for_dataset_split_list[0]}/\"\n",
    "                                                 f\"{fish_name_for_dataset}_drop_*.tiff\")))\n",
    "\n",
    "    cam_result_path_list = glob(os.path.normpath(f\"{cam_result_root}/{fish_name_for_dataset}/*.tiff\"))\n",
    "\n",
    "    orig_path_list = deepcopy(test_selected_path_list)\n",
    "    orig_path_list.extend(test_drop_path_list)\n",
    "    orig_path_list.sort(key=sortFishNameForDataset)\n",
    "    orig_img_list = [ cv2.imread(img_path) for img_path in orig_path_list ]\n",
    "    # plot with 'Auto Row Calculation'\n",
    "    kwargs_plot_with_imglist_auto_row = {\n",
    "        \"img_list\"   : orig_img_list,\n",
    "        \"column\"     : column,\n",
    "        \"fig_title\"  : f\"( original ) {fish_name_for_dataset} : {orig_img_list[-1].shape[:2]}\",\n",
    "        \"save_path\"  : f\"{cam_result_gallery}/{fish_name_for_dataset_split_list[0]}/{fish_name_for_dataset}_orig.png\",\n",
    "        \"show_fig\"   : False\n",
    "    }\n",
    "    plt_show.plot_with_imglist_auto_row(**kwargs_plot_with_imglist_auto_row)\n",
    "    \n",
    "    \n",
    "    cam_overlap_path_list = deepcopy(cam_result_path_list)\n",
    "    cam_overlap_path_list.extend(test_drop_path_list)\n",
    "    cam_overlap_path_list.sort(key=sortFishNameForDataset)\n",
    "    cam_overlap_img_list = [ cv2.imread(img_path) for img_path in cam_overlap_path_list ]\n",
    "    # plot with 'Auto Row Calculation'\n",
    "    kwargs_plot_with_imglist_auto_row = {\n",
    "        \"img_list\"   : cam_overlap_img_list,\n",
    "        \"column\"     : column,\n",
    "        \"fig_title\"  : f\"( cam overlap ) {fish_name_for_dataset} : {cam_overlap_img_list[-1].shape[:2]}\",\n",
    "        \"save_path\"  : f\"{cam_result_gallery}/{fish_name_for_dataset_split_list[0]}/{fish_name_for_dataset}_overlap.png\",\n",
    "        \"show_fig\"   : False\n",
    "    }\n",
    "    plt_show.plot_with_imglist_auto_row(**kwargs_plot_with_imglist_auto_row)\n",
    "    \n",
    "    \n",
    "    pbar_n_img.update(1)\n",
    "    pbar_n_img.refresh()\n",
    "\n",
    "\n",
    "pbar_n_img.close()"
   ]
  }
 ],
 "metadata": {
  "kernelspec": {
   "display_name": "zebrafish",
   "language": "python",
   "name": "python3"
  },
  "language_info": {
   "codemirror_mode": {
    "name": "ipython",
    "version": 3
   },
   "file_extension": ".py",
   "mimetype": "text/x-python",
   "name": "python",
   "nbconvert_exporter": "python",
   "pygments_lexer": "ipython3",
   "version": "3.8.10"
  },
  "orig_nbformat": 4
 },
 "nbformat": 4,
 "nbformat_minor": 2
}
