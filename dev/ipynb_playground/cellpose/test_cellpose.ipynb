{
 "cells": [
  {
   "cell_type": "code",
   "execution_count": null,
   "metadata": {},
   "outputs": [],
   "source": [
    "from pathlib import Path\n",
    "from cellpose import models as cpmodels\n",
    "from cellpose import io as cpio\n",
    "\n",
    "\"\"\" Cellpose Settings \"\"\"\n",
    "# r\".../ZebrafishProject/{Data}_ZebrafishData/ZebraFish_DB/{Model}_Cellpose/FishWithLyraData\"\n",
    "model_path = r\"\"\n",
    "model = cpmodels.CellposeModel(gpu=True, pretrained_model=model_path)\n",
    "\n",
    "# if diameter is set to None, the size of the cells is automatically estimated on a per image basis\n",
    "# you can set the average cell `diameter` in pixels yourself (recommended) \n",
    "# diameter can be a list or a single number for all images\n",
    "diameter: int = None\n",
    "\n",
    "# define CHANNELS to run segementation on\n",
    "# grayscale=0, R=1, G=2, B=3\n",
    "# channels = [cytoplasm, nucleus]\n",
    "# if NUCLEUS channel does not exist, set the second channel to 0\n",
    "# channels = [0,0]\n",
    "# IF ALL YOUR IMAGES ARE THE SAME TYPE, you can give a list with 2 elements\n",
    "# channels = [0,0] # IF YOU HAVE GRAYSCALE\n",
    "# channels = [2,3] # IF YOU HAVE G=cytoplasm and B=nucleus\n",
    "# channels = [2,1] # IF YOU HAVE G=cytoplasm and R=nucleus\n",
    "channels = [0, 0]\n",
    "# -----------------------------------------------------------------------------/\n",
    "\n",
    "# r\".../ZebrafishProject/{Data}_ZebrafishData/ZebraFish_DB/tmp/fish_1_A/fish_1_A.tiff\"\n",
    "img_path = Path(r\"\")\n",
    "img = cpio.imread(img_path)\n",
    "\n",
    "for img_idx, img in enumerate([img]):\n",
    "    \n",
    "    print(\"\\nSegmenting: \",img_path.stem)\n",
    "    mask, flow, style = model.eval(img, diameter=diameter, channels=channels)\n",
    "    #save images in folder with the diameter value used in cellpose\n",
    "    print(\"Segmentation complete . Saving Masks and flows\")\n",
    "    \n",
    "    break\n",
    "    #Output name for masks\n",
    "    mask_output_name=save_dir+\"MASK_\"+file_name+\".tif\"\n",
    "    #Save mask as 16-bit in case this has to be used for detecting than 255 objects\n",
    "    mask=mask.astype(np.uint16)\n",
    "    #Save flow as 8-bit\n",
    "    skimage.io.imsave(mask_output_name,mask, check_contrast=False)\n",
    "    if save_flow:\n",
    "      #Output name for flows\n",
    "      flow_output_name=flows_save_dir+\"FLOWS_\"+file_name+\".tif\"\n",
    "      #Save as 8-bit\n",
    "      flow_image=flow[0].astype(np.uint8)\n",
    "      skimage.io.imsave(flow_output_name,flow_image, check_contrast=False)"
   ]
  },
  {
   "cell_type": "code",
   "execution_count": null,
   "metadata": {},
   "outputs": [],
   "source": [
    "type(model)"
   ]
  },
  {
   "cell_type": "code",
   "execution_count": null,
   "metadata": {},
   "outputs": [],
   "source": [
    "import numpy as np\n",
    "\n",
    "type(mask)"
   ]
  },
  {
   "cell_type": "code",
   "execution_count": null,
   "metadata": {},
   "outputs": [],
   "source": [
    "import sys\n",
    "\n",
    "sys.executable"
   ]
  },
  {
   "cell_type": "code",
   "execution_count": null,
   "metadata": {},
   "outputs": [],
   "source": [
    "from pathlib import Path\n",
    "\n",
    "# r\".../ZebrafishProject/{Data}_ZebrafishData/ZebraFish_DB/{Model}_Cellpose/FishWithLyraData\"\n",
    "path = Path(r\"\")\n",
    "path.is_file(), path.stem"
   ]
  }
 ],
 "metadata": {
  "kernelspec": {
   "display_name": "Python 3",
   "language": "python",
   "name": "python3"
  },
  "language_info": {
   "codemirror_mode": {
    "name": "ipython",
    "version": 3
   },
   "file_extension": ".py",
   "mimetype": "text/x-python",
   "name": "python",
   "nbconvert_exporter": "python",
   "pygments_lexer": "ipython3",
   "version": "3.10.16"
  }
 },
 "nbformat": 4,
 "nbformat_minor": 2
}
