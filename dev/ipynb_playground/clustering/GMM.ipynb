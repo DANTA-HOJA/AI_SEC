{
 "cells": [
  {
   "attachments": {},
   "cell_type": "markdown",
   "metadata": {},
   "source": [
    "### `GMM` Method ( `TODO` )"
   ]
  },
  {
   "cell_type": "code",
   "execution_count": null,
   "metadata": {},
   "outputs": [],
   "source": [
    "import numpy as np\n",
    "import matplotlib.pyplot as plt\n",
    "from sklearn.mixture import GaussianMixture\n",
    "\n",
    "# 生成具有兩個常態分佈的隨機資料\n",
    "np.random.seed(0)\n",
    "x = np.concatenate([np.random.normal(-1, 1, 1000), np.random.normal(1, 1, 1000)])\n",
    "\n",
    "# 設定 GMM 的參數，使用兩個高斯分佈進行混合\n",
    "n_components = 2\n",
    "covariance_type = 'full'\n",
    "gmm = GaussianMixture(n_components=n_components, covariance_type=covariance_type, random_state=0)\n",
    "\n",
    "# 對資料進行擬合\n",
    "gmm.fit(x.reshape(-1, 1))\n",
    "\n",
    "# 將每個資料點分配到對應的高斯分佈中\n",
    "labels = gmm.predict(x.reshape(-1, 1))\n",
    "\n",
    "# 計算每個資料點屬於各個高斯分佈的機率密度值\n",
    "pdf = np.exp(gmm.score_samples(x.reshape(-1, 1)))\n",
    "\n",
    "# 繪製資料的直方圖和擬合曲線\n",
    "fig, ax = plt.subplots()\n",
    "ax.hist(x, bins=50, density=True, alpha=0.5, color='gray')\n",
    "for i in range(n_components):\n",
    "    mask = labels == i\n",
    "    ax.plot(x, pdf * mask, color='r')\n",
    "ax.set_xlim(-5, 5)\n",
    "plt.show()"
   ]
  }
 ],
 "metadata": {
  "language_info": {
   "name": "python"
  },
  "orig_nbformat": 4
 },
 "nbformat": 4,
 "nbformat_minor": 2
}
