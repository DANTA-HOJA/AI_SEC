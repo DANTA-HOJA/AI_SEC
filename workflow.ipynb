{
 "cells": [
  {
   "cell_type": "markdown",
   "metadata": {},
   "source": [
    "# **☆ AI Zebrafish Project ☆**"
   ]
  },
  {
   "cell_type": "markdown",
   "metadata": {},
   "source": [
    "### NOTE. Code Adjustment"
   ]
  },
  {
   "cell_type": "markdown",
   "metadata": {},
   "source": [
    "1. 將 valid set 改為和 test set 有預切 + 沒有 aug\n",
    "2. `drop_too_dark()` 計算 < intensity 的數量同時將 > intensity 的 pixel 歸零"
   ]
  },
  {
   "cell_type": "markdown",
   "metadata": {},
   "source": [
    "### ***Common Settings and Components***"
   ]
  },
  {
   "cell_type": "markdown",
   "metadata": {},
   "source": [
    "Dataset Version Note\n",
    "\n",
    "v0-2, Half_AP_Size\n",
    "- {Dataset}_Cropped_v0: RGB_HE_fusion, StdevCluster, `name_example: L_fish_111_A_selected_4.tiff` ( 沒有特別標註 U, D 分配到哪 )\n",
    "- {Dataset}_Cropped_v1: 開始應用不同 result (AliasInPath) + KMeansCluster, `name_example: L_fish_111_A_selected_4.tiff` ( 沒有特別標註 U, D 分配到哪 )\n",
    "- {Dataset}_Cropped_v2: 改採 xlsx 紀錄資訊 (1_Cropset_N_XLSX), `name_example: fish_100_A_U_crop_30.tiff`\n",
    "\n",
    "v3, 修正 label leakage\n",
    "- {Dataset}_Cropped_v3: Original_AP_Size, `name_example: fish_100_A_crop_30.tiff`\n",
    "- {Dataset}_Cropped_v3_HF: Half_AP_Size, `name_example: fish_100_A_U_crop_30.tiff`"
   ]
  },
  {
   "cell_type": "markdown",
   "metadata": {},
   "source": [
    "Storage and `Fiji (ImageJ)` Location Config : [db_path_plan.toml](script/db_path_plan.toml)"
   ]
  },
  {
   "cell_type": "code",
   "execution_count": null,
   "metadata": {},
   "outputs": [],
   "source": [
    "from modules.data.ij.zfij import ZFIJ\n",
    "from modules.data.processeddatainstance import ProcessedDataInstance\n",
    "from modules.shared.utils import get_repo_root\n",
    "# -----------------------------------------------------------------------------/\n",
    "\n",
    "\"\"\" Detect Repository \"\"\"\n",
    "print(f\"Repository: '{get_repo_root()}'\")\n",
    "\n",
    "Zebrafish_IJ = ZFIJ()\n",
    "Processed_DI = ProcessedDataInstance()"
   ]
  },
  {
   "cell_type": "markdown",
   "metadata": {},
   "source": [
    "### ***STEP 0. process_data***"
   ]
  },
  {
   "cell_type": "markdown",
   "metadata": {},
   "source": [
    "##### To adjust"
   ]
  },
  {
   "cell_type": "markdown",
   "metadata": {},
   "source": [
    "palmskin\n",
    "* 0.2.1.preprocess_palmskin.py\n",
    "* 0.2.2.select_palmskin_manualroi.py # 選ROI (`ManualROI.roi`) ----- **拆分 0.2.3.process_palmskin_manualroi.py**\n",
    "* 0.2.3.apply_palmskin_manualroi.py # apply on one of results ----- **拆分 0.2.3.process_palmskin_manualroi.py**\n",
    "* 0.2.4.process_palmskin_fixroi.py\n",
    "\n",
    "brightfield\n",
    "* 0.3.1.analyze_brightfield.py\n",
    "* 0.3.2.process_brightfield_manualarea.py # 選ROI + cvt_mask + 測量 (`02_cropped_BF.tif`)\n",
    "* 0.3.3.train_brightfield_unetarea.py ----- **ZebraFish_BF_Seg**\n",
    "* 0.3.4.predict_brightfield_unetarea.py ----- **ZebraFish_BF_Seg**\n",
    "* 0.3.5.measure_unet_area.py ----- **重命名 0.3.2.measure_unet_area.py**"
   ]
  },
  {
   "cell_type": "markdown",
   "metadata": {},
   "source": [
    "##### 0.1.x. name check"
   ]
  },
  {
   "cell_type": "markdown",
   "metadata": {},
   "source": [
    "[0.1.1.check_lif_name.py][script]\n",
    "( [0.1.1.check_lif_name.toml][Config] )\n",
    "\n",
    "[script]: script/0.process_data/0.1.1.check_lif_name.py\n",
    "[Config]: script/Config/0.1.1.check_lif_name.toml"
   ]
  },
  {
   "cell_type": "code",
   "execution_count": null,
   "metadata": {},
   "outputs": [],
   "source": [
    "from modules.data.lif.batchlifnamechecker import BatchLIFNameChecker\n",
    "# -----------------------------------------------------------------------------/\n",
    "\n",
    "batch_lif_name_checker = BatchLIFNameChecker(zfij_instance=Zebrafish_IJ)\n",
    "batch_lif_name_checker.run(\"0.1.1.check_lif_name.toml\")"
   ]
  },
  {
   "cell_type": "markdown",
   "metadata": {},
   "source": [
    "##### 0.2.x. palmskin"
   ]
  },
  {
   "cell_type": "markdown",
   "metadata": {},
   "source": [
    "[0.2.1. preprocess_palmskin.py][script]\n",
    "( [0.2.1.preprocess_palmskin.toml][Config] )\n",
    "\n",
    "[script]: script/0.process_data/0.2.1.preprocess_palmskin.py\n",
    "[Config]: script/Config/0.2.1.preprocess_palmskin.toml"
   ]
  },
  {
   "cell_type": "code",
   "execution_count": null,
   "metadata": {},
   "outputs": [],
   "source": [
    "from modules.data.lif.palmskinpreprocesser import PalmskinPreprocesser\n",
    "# -----------------------------------------------------------------------------/\n",
    "\n",
    "palmskin_preprocesser = PalmskinPreprocesser(zfij_instance=Zebrafish_IJ)\n",
    "palmskin_preprocesser.run(\"0.2.1.preprocess_palmskin.toml\")"
   ]
  },
  {
   "cell_type": "markdown",
   "metadata": {},
   "source": [
    "[0.2.3.process_palmskin_manualroi.py][script]\n",
    "( [0.2.3.process_palmskin_manualroi.toml][Config] )\n",
    "\n",
    "[script]: script/0.process_data/0.2.3.process_palmskin_manualroi.py\n",
    "[Config]: script/Config/0.2.3.process_palmskin_manualroi.toml"
   ]
  },
  {
   "cell_type": "code",
   "execution_count": null,
   "metadata": {},
   "outputs": [],
   "source": [
    "from modules.data.lif.palmskinmanualroicreator import PalmskinManualROICreator\n",
    "# -----------------------------------------------------------------------------/\n",
    "\n",
    "palmskin_manualroi_creator = PalmskinManualROICreator(zfij_instance=Zebrafish_IJ,\n",
    "                                                      processed_data_instance=Processed_DI)\n",
    "palmskin_manualroi_creator.run(\"0.2.3.process_palmskin_manualroi.toml\")"
   ]
  },
  {
   "cell_type": "markdown",
   "metadata": {},
   "source": [
    "[0.2.4.process_palmskin_fixroi.py][script]\n",
    "( [0.2.3.process_palmskin_manualroi.toml][Config] )\n",
    "\n",
    "[script]: script/0.process_data/0.2.4.process_palmskin_fixroi.py\n",
    "[Config]: script/Config/0.2.3.process_palmskin_manualroi.toml"
   ]
  },
  {
   "cell_type": "code",
   "execution_count": null,
   "metadata": {},
   "outputs": [],
   "source": [
    "from modules.data.lif.palmskinfixedroicreator import PalmskinFixedROICreator\n",
    "# -----------------------------------------------------------------------------/\n",
    "\n",
    "palmskin_fixedroi_creator = PalmskinFixedROICreator(processed_data_instance=Processed_DI)\n",
    "palmskin_fixedroi_creator.run(\"0.2.3.process_palmskin_manualroi.toml\")"
   ]
  },
  {
   "cell_type": "markdown",
   "metadata": {},
   "source": [
    "##### 0.3.x. brightfield"
   ]
  },
  {
   "cell_type": "markdown",
   "metadata": {},
   "source": [
    "[0.3.1.analyze_brightfield.py][script]\n",
    "( [0.3.1.analyze_brightfield.toml][Config] )\n",
    "\n",
    "[script]: script/0.process_data/0.3.1.analyze_brightfield.py\n",
    "[Config]: script/Config/0.3.1.analyze_brightfield.toml"
   ]
  },
  {
   "cell_type": "code",
   "execution_count": null,
   "metadata": {},
   "outputs": [],
   "source": [
    "from modules.data.lif.brightfieldanalyzer import BrightfieldAnalyzer\n",
    "# -----------------------------------------------------------------------------/\n",
    "\n",
    "brightfield_analyzer = BrightfieldAnalyzer(zfij_instance=Zebrafish_IJ)\n",
    "brightfield_analyzer.run(\"0.3.1.analyze_brightfield.toml\")"
   ]
  },
  {
   "cell_type": "markdown",
   "metadata": {},
   "source": [
    "[0.3.2.measure_unet_area.py][script]\n",
    "( [0.3.1.analyze_brightfield.toml][Config] )\n",
    "\n",
    "[script]: script/0.process_data/0.3.2.measure_unet_area.py\n",
    "[Config]: script/Config/0.3.1.analyze_brightfield.toml"
   ]
  },
  {
   "cell_type": "code",
   "execution_count": null,
   "metadata": {},
   "outputs": [],
   "source": [
    "from modules.data.lif.brightfieldunetareameter import BrightfieldUNetAreaMeter\n",
    "# -----------------------------------------------------------------------------/\n",
    "\n",
    "brightfield_unet_area_meter = BrightfieldUNetAreaMeter(zfij_instance=Zebrafish_IJ,\n",
    "                                                       processed_data_instance=Processed_DI)\n",
    "brightfield_unet_area_meter.run(\"0.3.1.analyze_brightfield.toml\")"
   ]
  },
  {
   "cell_type": "markdown",
   "metadata": {},
   "source": [
    "##### 0.4.x. `collect` and `copy` results"
   ]
  },
  {
   "cell_type": "markdown",
   "metadata": {},
   "source": [
    "[0.4.1.collect_results.py][script]\n",
    "( [0.4.1.collect_results.toml][Config] )\n",
    "\n",
    "[script]: script/0.process_data/0.4.1.collect_results.py\n",
    "[Config]: script/Config/0.4.1.collect_results.toml"
   ]
  },
  {
   "cell_type": "code",
   "execution_count": null,
   "metadata": {},
   "outputs": [],
   "source": [
    "Processed_DI.collect_results(\"0.4.collect_results.toml\")"
   ]
  },
  {
   "cell_type": "markdown",
   "metadata": {},
   "source": [
    "[0.4.2.copy_results.py][script]\n",
    "( [0.4.2.copy_results.toml][Config] )\n",
    "\n",
    "[script]: script/0.process_data/0.4.2.copy_results.py\n",
    "[Config]: script/Config/0.4.2.copy_results.toml"
   ]
  },
  {
   "cell_type": "code",
   "execution_count": null,
   "metadata": {},
   "outputs": [],
   "source": [
    "# TODO:  Not a component yet, run the script directly"
   ]
  },
  {
   "cell_type": "markdown",
   "metadata": {},
   "source": [
    "##### 0.5.x. `split` and `cluster` data"
   ]
  },
  {
   "cell_type": "markdown",
   "metadata": {},
   "source": [
    "[0.5.1.create_tabular_file.py][script]\n",
    "( [0.5.cluster_data.toml][Config] )\n",
    "\n",
    "[script]: script/0.process_data/0.5.1.create_tabular_file.py\n",
    "[Config]: script/Config/0.5.cluster_data.toml"
   ]
  },
  {
   "cell_type": "code",
   "execution_count": null,
   "metadata": {},
   "outputs": [],
   "source": [
    "Processed_DI.create_tabular_file(\"0.5.cluster_data.toml\")"
   ]
  },
  {
   "cell_type": "markdown",
   "metadata": {},
   "source": [
    "[0.5.2.split_data.py][script]\n",
    "( [0.5.cluster_data.toml][Config] )\n",
    "\n",
    "[script]: script/0.process_data/0.5.2.split_data.py\n",
    "[Config]: script/Config/0.5.cluster_data.toml"
   ]
  },
  {
   "cell_type": "code",
   "execution_count": null,
   "metadata": {},
   "outputs": [],
   "source": [
    "# TODO:  Not a component yet, run the script directly"
   ]
  },
  {
   "cell_type": "markdown",
   "metadata": {},
   "source": [
    "[0.5.3.cluster_data.py][script]\n",
    "( [0.5.cluster_data.toml][Config] )\n",
    "\n",
    "[script]: script/0.process_data/0.5.3.cluster_data.py\n",
    "[Config]: script/Config/0.5.cluster_data.toml"
   ]
  },
  {
   "cell_type": "code",
   "execution_count": null,
   "metadata": {},
   "outputs": [],
   "source": [
    "from modules.data.clustering.surfaceareakmeanscluster import SurfaceAreaKMeansCluster\n",
    "# -----------------------------------------------------------------------------/\n",
    "\n",
    "sa_kmeans_cluster = SurfaceAreaKMeansCluster(processed_data_instance=Processed_DI)\n",
    "sa_kmeans_cluster.run(\"0.5.cluster_data.toml\")"
   ]
  },
  {
   "cell_type": "markdown",
   "metadata": {},
   "source": [
    "[0.5.4.plot_cluster.py][script]\n",
    "( [0.5.cluster_data.toml][Config] )\n",
    "\n",
    "[script]: script/0.process_data/0.5.4.plot_cluster.py\n",
    "[Config]: script/Config/0.5.cluster_data.toml"
   ]
  },
  {
   "cell_type": "code",
   "execution_count": null,
   "metadata": {},
   "outputs": [],
   "source": [
    "from modules.plot.clustering.surfaceareakmeansplotter import SurfaceAreaKMeansPlotter\n",
    "# -----------------------------------------------------------------------------/\n",
    "\n",
    "sa_kmeans_plotter = SurfaceAreaKMeansPlotter(processed_data_instance=Processed_DI)\n",
    "sa_kmeans_plotter.run(\"0.5.cluster_data.toml\")"
   ]
  },
  {
   "cell_type": "markdown",
   "metadata": {},
   "source": [
    "### ***STEP 1. make_dataset***"
   ]
  },
  {
   "cell_type": "markdown",
   "metadata": {},
   "source": [
    "[1.1.crop_images.py][script]\n",
    "( [1.make_dataset.toml][Config] )\n",
    "\n",
    "[script]: script/1.make_dataset/1.1.crop_images.py\n",
    "[Config]: script/Config/1.make_dataset.toml"
   ]
  },
  {
   "cell_type": "code",
   "execution_count": null,
   "metadata": {},
   "outputs": [],
   "source": [
    "from modules.data.dataset.imagecropper import ImageCropper\n",
    "# -----------------------------------------------------------------------------/\n",
    "\n",
    "image_cropper = ImageCropper(processed_data_instance=Processed_DI)\n",
    "image_cropper.run(\"1.make_dataset.toml\")"
   ]
  },
  {
   "cell_type": "markdown",
   "metadata": {},
   "source": [
    "[1.2.create_dataset_file.py][script]\n",
    "( [1.make_dataset.toml][Config] )\n",
    "\n",
    "[script]: script/1.make_dataset/1.2.create_dataset_file.py\n",
    "[Config]: script/Config/1.make_dataset.toml"
   ]
  },
  {
   "cell_type": "code",
   "execution_count": null,
   "metadata": {},
   "outputs": [],
   "source": [
    "from modules.data.dataset.datasetfilecreator import DatasetFileCreator\n",
    "# -----------------------------------------------------------------------------/\n",
    "\n",
    "dataset_file_creator = DatasetFileCreator(processed_data_instance=Processed_DI)\n",
    "dataset_file_creator.run(\"1.make_dataset.toml\")"
   ]
  },
  {
   "cell_type": "markdown",
   "metadata": {},
   "source": [
    "### ***STEP 2. training***"
   ]
  },
  {
   "cell_type": "markdown",
   "metadata": {},
   "source": [
    "[2.a.vit_b_16.py][script]\n",
    "( [2.training.toml][Config] )\n",
    "\n",
    "[script]: script/2.training/2.a.vit_b_16.py\n",
    "[Config]: script/Config/2.training.toml"
   ]
  },
  {
   "cell_type": "code",
   "execution_count": null,
   "metadata": {},
   "outputs": [],
   "source": [
    "# With batch config mode, run the script directly"
   ]
  },
  {
   "cell_type": "markdown",
   "metadata": {},
   "source": [
    "### ***STEP 3. test_by_img***"
   ]
  },
  {
   "cell_type": "markdown",
   "metadata": {},
   "source": [
    "[3.a.vit_b_16.py][script]\n",
    "( [3.test_by_image.toml][Config] )\n",
    "\n",
    "[script]: script/3.test_by_img/3.a.vit_b_16.py\n",
    "[Config]: script/Config/3.test_by_image.toml"
   ]
  },
  {
   "cell_type": "code",
   "execution_count": null,
   "metadata": {},
   "outputs": [],
   "source": [
    "from modules.dl.tester.imagetester.vitb16imagetester import VitB16ImageTester\n",
    "# -----------------------------------------------------------------------------/\n",
    "\n",
    "vit_b_16_image_tester = VitB16ImageTester()\n",
    "vit_b_16_image_tester.run(\"3.test_by_image.toml\")"
   ]
  },
  {
   "cell_type": "markdown",
   "metadata": {},
   "source": [
    "### ***STEP 4. test_by_fish***"
   ]
  },
  {
   "cell_type": "markdown",
   "metadata": {},
   "source": [
    "[4.a.vit_b_16.py][script]\n",
    "( [4.test_by_fish.toml][Config] )\n",
    "\n",
    "[script]: script/4.test_by_fish/4.a.vit_b_16.py\n",
    "[Config]: script/Config/4.test_by_fish.toml"
   ]
  },
  {
   "cell_type": "code",
   "execution_count": null,
   "metadata": {},
   "outputs": [],
   "source": [
    "from modules.dl.tester.fishtester.vitb16fishtester import VitB16FishTester\n",
    "# -----------------------------------------------------------------------------/\n",
    "\n",
    "vit_b_16_fish_tester = VitB16FishTester()\n",
    "vit_b_16_fish_tester.run(\"4.test_by_fish.toml\")"
   ]
  },
  {
   "cell_type": "markdown",
   "metadata": {},
   "source": [
    "### ***STEP 5. make_cam_gallery***"
   ]
  },
  {
   "cell_type": "markdown",
   "metadata": {},
   "source": [
    "[5.a.mk_cam_gallery.py][script]\n",
    "( [5.make_cam_gallery.toml][Config] )\n",
    "\n",
    "[script]: script/5.make_cam_gallery/5.a.mk_cam_gallery.py\n",
    "[Config]: script/Config/5.make_cam_gallery.toml"
   ]
  },
  {
   "cell_type": "code",
   "execution_count": null,
   "metadata": {},
   "outputs": [],
   "source": [
    "from modules.plot.cam_gallery.creator.camgallerycreator import CamGalleryCreator\n",
    "# -----------------------------------------------------------------------------/\n",
    "\n",
    "cam_gallery_creator = CamGalleryCreator()\n",
    "cam_gallery_creator.run(\"5.make_cam_gallery.toml\")"
   ]
  },
  {
   "cell_type": "markdown",
   "metadata": {},
   "source": [
    "[5.b.mt_cam_gallery.py][script]\n",
    "( [5.make_cam_gallery.toml][Config] )\n",
    "\n",
    "[script]: script/5.make_cam_gallery/5.b.mt_cam_gallery.py\n",
    "[Config]: script/Config/5.make_cam_gallery.toml"
   ]
  },
  {
   "cell_type": "code",
   "execution_count": null,
   "metadata": {},
   "outputs": [],
   "source": [
    "# Enhance by multi-threading, run the script directly"
   ]
  }
 ],
 "metadata": {
  "kernelspec": {
   "display_name": "zebrafish_py310",
   "language": "python",
   "name": "python3"
  },
  "language_info": {
   "codemirror_mode": {
    "name": "ipython",
    "version": 3
   },
   "file_extension": ".py",
   "mimetype": "text/x-python",
   "name": "python",
   "nbconvert_exporter": "python",
   "pygments_lexer": "ipython3",
   "version": "3.10.12"
  }
 },
 "nbformat": 4,
 "nbformat_minor": 2
}
