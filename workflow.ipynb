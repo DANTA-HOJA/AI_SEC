{
 "cells": [
  {
   "cell_type": "markdown",
   "metadata": {},
   "source": [
    "# AI Zebrafish Project"
   ]
  },
  {
   "cell_type": "markdown",
   "metadata": {},
   "source": [
    "- code adjustment"
   ]
  },
  {
   "cell_type": "markdown",
   "metadata": {},
   "source": [
    "- 0.process_data 預計調整\n",
    "\n",
    "palmskin\n",
    "* 0.2.1.preprocess_palmskin.py\n",
    "* 0.2.2.select_palmskin_manualroi.py # 選ROI (`ManualROI.roi`) ----- **拆分 0.2.3.process_palmskin_manualroi.py**\n",
    "* 0.2.3.apply_palmskin_manualroi.py # apply on one of results ----- **拆分 0.2.3.process_palmskin_manualroi.py**\n",
    "* 0.2.4.process_palmskin_fixroi.py\n",
    "\n",
    "brightfield\n",
    "* 0.3.1.analyze_brightfield.py\n",
    "* 0.3.2.process_brightfield_manualarea.py # 選ROI + cvt_mask + 測量 (`02_cropped_BF.tif`)\n",
    "* 0.3.3.train_brightfield_unetarea.py ----- **ZebraFish_BF_Seg**\n",
    "* 0.3.4.predict_brightfield_unetarea.py ----- **ZebraFish_BF_Seg**\n",
    "* 0.3.5.measure_unet_area.py ----- **重命名 0.3.2.measure_unet_area.py**"
   ]
  },
  {
   "cell_type": "code",
   "execution_count": null,
   "metadata": {},
   "outputs": [],
   "source": [
    "from modules.data.ij.zfij import ZFIJ\n",
    "from modules.data.processeddatainstance import ProcessedDataInstance\n",
    "from modules.shared.utils import get_repo_root\n",
    "# -----------------------------------------------------------------------------/\n",
    "\n",
    "\"\"\" Detect Repository \"\"\"\n",
    "print(f\"Repository: '{get_repo_root()}'\")\n",
    "\n",
    "Zebrafish_IJ = ZFIJ()\n",
    "Processed_DI = ProcessedDataInstance()"
   ]
  },
  {
   "cell_type": "markdown",
   "metadata": {},
   "source": [
    "### STEP 0. process_data"
   ]
  },
  {
   "cell_type": "markdown",
   "metadata": {},
   "source": [
    "0.1.1. check_lif_name.py"
   ]
  },
  {
   "cell_type": "code",
   "execution_count": null,
   "metadata": {},
   "outputs": [],
   "source": [
    "from modules.data.lif.batchlifnamechecker import BatchLIFNameChecker\n",
    "# -----------------------------------------------------------------------------/\n",
    "\n",
    "batch_lif_name_checker = BatchLIFNameChecker(zfij_instance=Zebrafish_IJ)\n",
    "batch_lif_name_checker.run(\"0.1.1.check_lif_name.toml\")"
   ]
  },
  {
   "cell_type": "markdown",
   "metadata": {},
   "source": [
    "0.2.1. preprocess_palmskin.py"
   ]
  },
  {
   "cell_type": "code",
   "execution_count": null,
   "metadata": {},
   "outputs": [],
   "source": [
    "from modules.data.lif.palmskinpreprocesser import PalmskinPreprocesser\n",
    "# -----------------------------------------------------------------------------/\n",
    "\n",
    "palmskin_preprocesser = PalmskinPreprocesser(zfij_instance=Zebrafish_IJ)\n",
    "palmskin_preprocesser.run(\"0.2.1.preprocess_palmskin.toml\")"
   ]
  },
  {
   "cell_type": "markdown",
   "metadata": {},
   "source": [
    "0.3.2.measure_unet_area.py"
   ]
  },
  {
   "cell_type": "code",
   "execution_count": null,
   "metadata": {},
   "outputs": [],
   "source": [
    "from modules.data.lif.brightfieldunetareameter import BrightfieldUNetAreaMeter\n",
    "# -----------------------------------------------------------------------------/\n",
    "\n",
    "brightfield_unet_area_meter = BrightfieldUNetAreaMeter(zfij_instance=Zebrafish_IJ,\n",
    "                                                       processed_data_instance=Processed_DI)\n",
    "brightfield_unet_area_meter.run(\"0.3.1.analyze_brightfield.toml\")"
   ]
  },
  {
   "cell_type": "markdown",
   "metadata": {},
   "source": [
    "0.3.3.copy_bf_analysis.py ( [Script](script/0.process_data/0.3.3.copy_bf_analysis.py) )"
   ]
  },
  {
   "cell_type": "code",
   "execution_count": null,
   "metadata": {},
   "outputs": [],
   "source": [
    "# TODO:  Not a component yet, run the script directly"
   ]
  },
  {
   "cell_type": "markdown",
   "metadata": {},
   "source": [
    "0.4.collect_results.py"
   ]
  },
  {
   "cell_type": "code",
   "execution_count": null,
   "metadata": {},
   "outputs": [],
   "source": [
    "Processed_DI.collect_results(\"0.4.collect_results.toml\")"
   ]
  },
  {
   "cell_type": "markdown",
   "metadata": {},
   "source": [
    "0.5.1.create_tabular_file.py"
   ]
  },
  {
   "cell_type": "code",
   "execution_count": null,
   "metadata": {},
   "outputs": [],
   "source": [
    "Processed_DI.create_tabular_file(\"0.5.cluster_data.toml\")"
   ]
  },
  {
   "cell_type": "markdown",
   "metadata": {},
   "source": [
    "0.5.2.split_data.py ( [Script](script/0.process_data/0.5.2.split_data.py) )"
   ]
  },
  {
   "cell_type": "code",
   "execution_count": null,
   "metadata": {},
   "outputs": [],
   "source": [
    "# TODO:  Not a component yet, run the script directly"
   ]
  },
  {
   "cell_type": "markdown",
   "metadata": {},
   "source": [
    "0.5.3.cluster_data.py"
   ]
  },
  {
   "cell_type": "code",
   "execution_count": null,
   "metadata": {},
   "outputs": [],
   "source": [
    "from modules.data.clustering.surfaceareakmeanscluster import SurfaceAreaKMeansCluster\n",
    "# -----------------------------------------------------------------------------/\n",
    "\n",
    "sa_kmeans_cluster = SurfaceAreaKMeansCluster(processed_data_instance=Processed_DI)\n",
    "sa_kmeans_cluster.run(\"0.5.cluster_data.toml\")"
   ]
  },
  {
   "cell_type": "markdown",
   "metadata": {},
   "source": [
    "0.5.4.plot_cluster.py"
   ]
  },
  {
   "cell_type": "code",
   "execution_count": null,
   "metadata": {},
   "outputs": [],
   "source": [
    "from modules.plot.clustering.surfaceareakmeansplotter import SurfaceAreaKMeansPlotter\n",
    "# -----------------------------------------------------------------------------/\n",
    "\n",
    "sa_kmeans_plotter = SurfaceAreaKMeansPlotter(processed_data_instance=Processed_DI)\n",
    "sa_kmeans_plotter.run(\"0.5.cluster_data.toml\")"
   ]
  }
 ],
 "metadata": {
  "kernelspec": {
   "display_name": "zebrafish_py310",
   "language": "python",
   "name": "python3"
  },
  "language_info": {
   "codemirror_mode": {
    "name": "ipython",
    "version": 3
   },
   "file_extension": ".py",
   "mimetype": "text/x-python",
   "name": "python",
   "nbconvert_exporter": "python",
   "pygments_lexer": "ipython3",
   "version": "3.10.12"
  }
 },
 "nbformat": 4,
 "nbformat_minor": 2
}
