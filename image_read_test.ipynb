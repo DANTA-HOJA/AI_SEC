{
 "cells": [
  {
   "cell_type": "code",
   "execution_count": null,
   "metadata": {},
   "outputs": [],
   "source": [
    "import os\n",
    "import traceback\n",
    "from glob import glob\n",
    "import toml\n",
    "\n",
    "from tqdm.auto import tqdm\n",
    "import cv2"
   ]
  },
  {
   "cell_type": "markdown",
   "metadata": {},
   "source": [
    "Load `make_cam_gallery.toml`"
   ]
  },
  {
   "cell_type": "code",
   "execution_count": null,
   "metadata": {},
   "outputs": [],
   "source": [
    "with open(\"make_cam_gallery.toml\", mode=\"r\") as f_reader:\n",
    "    config = toml.load(f_reader)\n",
    "\n",
    "column = config[\"layout\"][\"column\"]\n",
    "\n",
    "line_color = config[\"draw\"][\"drop_image\"][\"line\"][\"color\"]\n",
    "line_width = config[\"draw\"][\"drop_image\"][\"line\"][\"width\"]\n",
    "\n",
    "cam_weight = config[\"draw\"][\"cam_image\"][\"weight\"]\n",
    "replace_cam_color = config[\"draw\"][\"cam_image\"][\"replace_color\"][\"enable\"]\n",
    "replaced_colormap  = getattr(cv2, config[\"draw\"][\"cam_image\"][\"replace_color\"][\"colormap\"])\n",
    "text_correct_color   = config[\"draw\"][\"cam_image\"][\"text\"][\"color\"][\"correct\"]\n",
    "text_incorrect_color = config[\"draw\"][\"cam_image\"][\"text\"][\"color\"][\"incorrect\"]\n",
    "text_shadow_color    = config[\"draw\"][\"cam_image\"][\"text\"][\"color\"][\"shadow\"]\n",
    "text_font_style      = config[\"draw\"][\"cam_image\"][\"text\"][\"font_style\"]\n",
    "text_font_size       = config[\"draw\"][\"cam_image\"][\"text\"][\"font_size\"] # if None, do auto-detection\n",
    "\n",
    "load_dir_root = config[\"model\"][\"history_root\"]\n",
    "model_name    = config[\"model\"][\"model_name\"]\n",
    "model_history = config[\"model\"][\"history\"]"
   ]
  },
  {
   "cell_type": "markdown",
   "metadata": {},
   "source": [
    "Load `train_config.toml`"
   ]
  },
  {
   "cell_type": "code",
   "execution_count": null,
   "metadata": {},
   "outputs": [],
   "source": [
    "load_dir = os.path.join(load_dir_root, model_name, model_history)\n",
    "train_config_path = os.path.join(load_dir, r\"train_config.toml\")\n",
    "\n",
    "with open(train_config_path, mode=\"r\") as f_reader:\n",
    "    train_config = toml.load(f_reader)\n",
    "\n",
    "dataset_root       = os.path.normpath(train_config[\"dataset\"][\"root\"])\n",
    "dataset_name       = train_config[\"dataset\"][\"name\"]\n",
    "dataset_gen_method = train_config[\"dataset\"][\"gen_method\"]\n",
    "dataset_stdev      = train_config[\"dataset\"][\"stdev\"]\n",
    "dataset_param_name = train_config[\"dataset\"][\"param_name\"]"
   ]
  },
  {
   "cell_type": "markdown",
   "metadata": {},
   "source": [
    "Generate `path_vars`"
   ]
  },
  {
   "cell_type": "code",
   "execution_count": null,
   "metadata": {},
   "outputs": [],
   "source": [
    "dataset_dir = os.path.join(dataset_root, dataset_name, dataset_gen_method, dataset_stdev, dataset_param_name)\n",
    "cam_result_root = os.path.join(load_dir, \"cam_result\")"
   ]
  },
  {
   "cell_type": "markdown",
   "metadata": {},
   "source": [
    "Run"
   ]
  },
  {
   "cell_type": "code",
   "execution_count": null,
   "metadata": {},
   "outputs": [],
   "source": [
    "train_dir_img_paths = glob(os.path.normpath(f\"{dataset_dir}/train/*/*/*.tiff\"))\n",
    "\n",
    "test_dir_img_paths = glob(os.path.normpath(f\"{dataset_dir}/test/*/*/*.tiff\"))\n",
    "\n",
    "cam_result_img_paths = glob(os.path.normpath(f\"{cam_result_root}/*/*/*.tiff\"))\n",
    "\n",
    "print(f'train_dir_img_paths {type(train_dir_img_paths)}: {len(train_dir_img_paths)}')\n",
    "print(f'test_dir_img_paths {type(test_dir_img_paths)}: {len(test_dir_img_paths)}')\n",
    "print(f'cam_result_img_paths {type(cam_result_img_paths)}: {len(cam_result_img_paths)}')"
   ]
  },
  {
   "cell_type": "code",
   "execution_count": null,
   "metadata": {},
   "outputs": [],
   "source": [
    "def image_read_test(img_path_list, pbar_desc):\n",
    "    \n",
    "    for path in tqdm(img_path_list, desc=f\"Image Read Test ({pbar_desc}) \"):\n",
    "        \n",
    "        try:\n",
    "            cv2.imread(path)\n",
    "        except Exception as e:\n",
    "            print(traceback.format_exc())\n",
    "            print(path)"
   ]
  },
  {
   "cell_type": "code",
   "execution_count": null,
   "metadata": {},
   "outputs": [],
   "source": [
    "image_read_test(train_dir_img_paths, \"train\")\n",
    "image_read_test(test_dir_img_paths, \"test\")\n",
    "image_read_test(cam_result_img_paths, \"cam_result\")"
   ]
  }
 ],
 "metadata": {
  "kernelspec": {
   "display_name": "zebrafish",
   "language": "python",
   "name": "python3"
  },
  "language_info": {
   "codemirror_mode": {
    "name": "ipython",
    "version": 3
   },
   "file_extension": ".py",
   "mimetype": "text/x-python",
   "name": "python",
   "nbconvert_exporter": "python",
   "pygments_lexer": "ipython3",
   "version": "3.10.6"
  },
  "orig_nbformat": 4
 },
 "nbformat": 4,
 "nbformat_minor": 2
}
