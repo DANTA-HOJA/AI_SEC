{
 "cells": [
  {
   "cell_type": "code",
   "execution_count": null,
   "metadata": {},
   "outputs": [],
   "source": [
    "import os\n",
    "import traceback\n",
    "from glob import glob\n",
    "import toml\n",
    "import multiprocessing as mp\n",
    "import threading as td\n",
    "\n",
    "from tqdm.auto import tqdm\n",
    "import numpy as np\n",
    "import cv2"
   ]
  },
  {
   "attachments": {},
   "cell_type": "markdown",
   "metadata": {},
   "source": [
    "Load `image_read_test.toml`"
   ]
  },
  {
   "cell_type": "code",
   "execution_count": null,
   "metadata": {},
   "outputs": [],
   "source": [
    "with open(\"image_read_test.toml\", mode=\"r\") as f_reader:\n",
    "    config = toml.load(f_reader)\n",
    "\n",
    "load_dir_root = config[\"model\"][\"history_root\"]\n",
    "model_name    = config[\"model\"][\"model_name\"]\n",
    "model_history = config[\"model\"][\"history\"]"
   ]
  },
  {
   "cell_type": "markdown",
   "metadata": {},
   "source": [
    "Load `train_config.toml`"
   ]
  },
  {
   "cell_type": "code",
   "execution_count": null,
   "metadata": {},
   "outputs": [],
   "source": [
    "load_dir = os.path.join(load_dir_root, model_name, model_history)\n",
    "train_config_path = os.path.join(load_dir, r\"train_config.toml\")\n",
    "\n",
    "with open(train_config_path, mode=\"r\") as f_reader:\n",
    "    train_config = toml.load(f_reader)\n",
    "\n",
    "dataset_root       = os.path.normpath(train_config[\"dataset\"][\"root\"])\n",
    "dataset_name       = train_config[\"dataset\"][\"name\"]\n",
    "dataset_gen_method = train_config[\"dataset\"][\"gen_method\"]\n",
    "dataset_stdev      = train_config[\"dataset\"][\"stdev\"]\n",
    "dataset_param_name = train_config[\"dataset\"][\"param_name\"]"
   ]
  },
  {
   "cell_type": "markdown",
   "metadata": {},
   "source": [
    "Generate `path_vars`"
   ]
  },
  {
   "cell_type": "code",
   "execution_count": null,
   "metadata": {},
   "outputs": [],
   "source": [
    "dataset_dir = os.path.join(dataset_root, dataset_name, dataset_gen_method, dataset_stdev, dataset_param_name)\n",
    "cam_result_root = os.path.join(load_dir, \"cam_result\")"
   ]
  },
  {
   "cell_type": "markdown",
   "metadata": {},
   "source": [
    "Run"
   ]
  },
  {
   "cell_type": "code",
   "execution_count": null,
   "metadata": {},
   "outputs": [],
   "source": [
    "train_dir_img_paths = glob(os.path.normpath(f\"{dataset_dir}/train/*/*/*.tiff\"))\n",
    "\n",
    "test_dir_img_paths = glob(os.path.normpath(f\"{dataset_dir}/test/*/*/*.tiff\"))\n",
    "\n",
    "cam_result_img_paths = glob(os.path.normpath(f\"{cam_result_root}/*/*/*.tiff\"))\n",
    "\n",
    "print(f'train_dir_img_paths {type(train_dir_img_paths)}: {len(train_dir_img_paths)}')\n",
    "print(f'test_dir_img_paths {type(test_dir_img_paths)}: {len(test_dir_img_paths)}')\n",
    "print(f'cam_result_img_paths {type(cam_result_img_paths)}: {len(cam_result_img_paths)}')"
   ]
  },
  {
   "cell_type": "code",
   "execution_count": null,
   "metadata": {},
   "outputs": [],
   "source": [
    "def image_read_test(img_path_list, pbar_desc, result_queue):\n",
    "    \n",
    "    for path in tqdm(img_path_list, desc=f\"Image Read Test ({pbar_desc}) \"):\n",
    "        \n",
    "        try:\n",
    "            img = cv2.imread(path)\n",
    "            if not isinstance(img, np.ndarray): raise TypeError(f\"Failed to read Image: {path}\")\n",
    "        except Exception as e:\n",
    "            result_queue.put(traceback.format_exc()) # queue"
   ]
  },
  {
   "cell_type": "code",
   "execution_count": null,
   "metadata": {},
   "outputs": [],
   "source": [
    "if __name__=='__main__':\n",
    "    \n",
    "    result_queue = mp.Queue()\n",
    "    \n",
    "    t_train = td.Thread(target=image_read_test, args=(train_dir_img_paths, \"train\", result_queue))\n",
    "    t_test = td.Thread(target=image_read_test, args=(test_dir_img_paths, \"test\", result_queue))\n",
    "    t_cam_result = td.Thread(target=image_read_test, args=(cam_result_img_paths, \"cam_result\", result_queue))\n",
    "    t_train.start()\n",
    "    t_test.start()\n",
    "    t_cam_result.start()\n",
    "    \n",
    "    t_train.join()\n",
    "    t_test.join()\n",
    "    t_cam_result.join()\n",
    "    \n",
    "    for i in range(result_queue.qsize()): print(result_queue.get())"
   ]
  }
 ],
 "metadata": {
  "kernelspec": {
   "display_name": "zebrafish",
   "language": "python",
   "name": "python3"
  },
  "language_info": {
   "codemirror_mode": {
    "name": "ipython",
    "version": 3
   },
   "file_extension": ".py",
   "mimetype": "text/x-python",
   "name": "python",
   "nbconvert_exporter": "python",
   "pygments_lexer": "ipython3",
   "version": "3.10.6"
  },
  "orig_nbformat": 4
 },
 "nbformat": 4,
 "nbformat_minor": 2
}
