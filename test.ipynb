{
 "cells": [
  {
   "cell_type": "code",
   "execution_count": null,
   "metadata": {},
   "outputs": [],
   "source": [
    "from modules.shared.baseobject import BaseObject\n",
    "\n",
    "test_obj = BaseObject()\n",
    "test_obj._cli_out.write(\"hi\")\n",
    "test_obj._path_navigator.dbpp.get_one_of_dbpp_roots(\"data_nasdl\")"
   ]
  },
  {
   "cell_type": "code",
   "execution_count": null,
   "metadata": {},
   "outputs": [],
   "source": [
    "import shutil\n",
    "\n",
    "src = r\"C:\\Users\\confocal_microscope\\Desktop\\新增資料夾_CMP1\\20220610_CE001_palmskin_8dpf - Series001_fish_1_BF\"\n",
    "dst = r\"C:\\Users\\confocal_microscope\\Desktop\\新增資料夾 _CMP2\"\n",
    "\n",
    "shutil.copytree(src, dst)"
   ]
  },
  {
   "cell_type": "code",
   "execution_count": null,
   "metadata": {},
   "outputs": [],
   "source": [
    "def error_msg():\n",
    "    return \"test\"\n",
    "\n",
    "assert False, error_msg()"
   ]
  },
  {
   "cell_type": "code",
   "execution_count": null,
   "metadata": {},
   "outputs": [],
   "source": [
    "from modules.data.processeddatainstance import ProcessedDataInstance\n",
    "\n",
    "processed_di = ProcessedDataInstance()\n",
    "processed_di.parse_config(\"test.toml\")\n",
    "processed_di.clustered_files_dict"
   ]
  },
  {
   "cell_type": "code",
   "execution_count": null,
   "metadata": {},
   "outputs": [],
   "source": [
    "import tomlkit\n",
    "\n",
    "path = r\"C:\\Users\\confocal_microscope\\Desktop\\ZebraFish_AP_POS\\script\\Config\\0.5.cluster_data.toml\"\n",
    "with open(path, mode=\"r\") as f:\n",
    "    file = dict(tomlkit.load(f))\n",
    "\n",
    "from rich import json\n",
    "from rich import print\n",
    "from rich.pretty import pprint, Pretty\n",
    "\n",
    "pprint(file, expand_all=True)"
   ]
  },
  {
   "cell_type": "code",
   "execution_count": null,
   "metadata": {},
   "outputs": [],
   "source": [
    "from rich.console import Console\n",
    "from rich.console import Group\n",
    "from rich.panel import Panel\n",
    "from rich.text import Text\n",
    "from rich import print\n",
    "from rich.pretty import Pretty, pprint\n",
    "\n",
    "console = Console()\n",
    "\n",
    "panel_group = Group(\n",
    "    Panel(\"Hello\", style=\"on blue\"),\n",
    "    Panel(\"World\", style=\"on red\"),\n",
    ")\n",
    "\n",
    "try:\n",
    "    raise ValueError(Text.from_markup(\"[#FFFF00 bold]Test\"))\n",
    "except ValueError:\n",
    "    console.print_exception()"
   ]
  },
  {
   "cell_type": "code",
   "execution_count": null,
   "metadata": {},
   "outputs": [],
   "source": [
    "import os\n",
    "\n",
    "os.path.basename(r\"C:\\Users\\confocal_microscope\\Desktop\\ZebraFish_AP_POS\\test.toml\")"
   ]
  },
  {
   "cell_type": "code",
   "execution_count": null,
   "metadata": {},
   "outputs": [],
   "source": [
    "a = ['SURF3C', 'KMeansORIG', 'RND2022']\n",
    "\"_\".join(a[1:-1])"
   ]
  },
  {
   "cell_type": "code",
   "execution_count": null,
   "metadata": {},
   "outputs": [],
   "source": [
    "from modules.data.dataset import dsname\n",
    "from rich import print\n",
    "\n",
    "print(dsname.get_dsname_sortinfo(\"fish_13_A.tiff\"))\n",
    "print(dsname.get_dsname_sortinfo(\"fish_1_A_U.tiff\"))\n",
    "print(dsname.get_dsname_sortinfo(\"fish_13_A_crop_00.tiff\"))\n",
    "print(dsname.get_dsname_sortinfo(\"fish_1_A_U_crop_00.tiff\"))"
   ]
  },
  {
   "cell_type": "code",
   "execution_count": null,
   "metadata": {},
   "outputs": [],
   "source": [
    "from modules.dl.dataset.augmentation import *\n",
    "import cv2\n",
    "import matplotlib\n",
    "import matplotlib.pyplot as plt\n",
    "\n",
    "print(matplotlib.is_interactive())\n",
    "\n",
    "cropper = dynamic_crop(512)\n",
    "aug = composite_aug()\n",
    "\n",
    "file = r\"C:\\Users\\confocal_microscope\\Desktop\\20220628_CE006_palmskin_8dpf - Series006_fish_68_P_RGB.tif\"\n",
    "img = cv2.imread(file)\n",
    "\n",
    "img = cropper(image=img)\n",
    "img = aug(image=img)\n",
    "\n",
    "plt.imshow(cv2.cvtColor(img, cv2.COLOR_BGR2RGB), vmin=0, vmax=255)"
   ]
  }
 ],
 "metadata": {
  "kernelspec": {
   "display_name": "zebrafish_py310",
   "language": "python",
   "name": "python3"
  },
  "language_info": {
   "codemirror_mode": {
    "name": "ipython",
    "version": 3
   },
   "file_extension": ".py",
   "mimetype": "text/x-python",
   "name": "python",
   "nbconvert_exporter": "python",
   "pygments_lexer": "ipython3",
   "version": "3.10.12"
  }
 },
 "nbformat": 4,
 "nbformat_minor": 2
}
