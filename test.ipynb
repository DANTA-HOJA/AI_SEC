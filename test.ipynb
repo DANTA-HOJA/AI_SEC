{
 "cells": [
  {
   "cell_type": "code",
   "execution_count": null,
   "metadata": {},
   "outputs": [],
   "source": [
    "from modules.shared.baseobject import BaseObject\n",
    "\n",
    "test_obj = BaseObject()\n",
    "test_obj._cli_out.write(\"hi\")\n",
    "test_obj._path_navigator.dbpp.get_one_of_dbpp_roots(\"data_nasdl\")"
   ]
  },
  {
   "cell_type": "code",
   "execution_count": null,
   "metadata": {},
   "outputs": [],
   "source": [
    "from modules.data.processeddatainstance import ProcessedDataInstance\n",
    "\n",
    "processed_di = ProcessedDataInstance()\n",
    "processed_di.parse_config(\"test.toml\")\n",
    "processed_di.clustered_files_dict"
   ]
  },
  {
   "cell_type": "code",
   "execution_count": null,
   "metadata": {},
   "outputs": [],
   "source": [
    "class Cat:\n",
    "    \n",
    "    _color = \"orange\"\n",
    "    \n",
    "    def __init__(self) -> None:\n",
    "        self.name = \"aaaa\"\n",
    "    \n",
    "    @property\n",
    "    def color(self):\n",
    "        return self._color\n",
    "\n",
    "# Cat.name = \"aaaa\"\n",
    "\n",
    "cat = Cat()\n",
    "cat.name = \"bbb\"\n",
    "\n",
    "hasattr(cat, \"name\")\n",
    "\n",
    "# cat.name = \"pig\"\n",
    "Cat.name = \"ccc\"\n",
    "\n",
    "cat = Cat()\n",
    "cat.name"
   ]
  },
  {
   "cell_type": "code",
   "execution_count": null,
   "metadata": {},
   "outputs": [],
   "source": [
    "def error_msg():\n",
    "    return \"test\"\n",
    "\n",
    "assert False, error_msg()"
   ]
  },
  {
   "cell_type": "code",
   "execution_count": null,
   "metadata": {},
   "outputs": [],
   "source": [
    "from rich.pretty import Pretty, pprint\n",
    "from modules.shared.config import load_config\n",
    "\n",
    "config = load_config(\"test.toml\")\n",
    "pprint(config, expand_all=True)"
   ]
  },
  {
   "cell_type": "code",
   "execution_count": null,
   "metadata": {},
   "outputs": [],
   "source": [
    "from rich.console import Console, Group\n",
    "from rich.panel import Panel\n",
    "from rich.pretty import Pretty, pprint\n",
    "from rich.text import Text\n",
    "\n",
    "console = Console()\n",
    "\n",
    "panel_group = Group(\n",
    "    Panel(\"Hello\", style=\"on blue\"),\n",
    "    Panel(\"World\", style=\"on red\"),\n",
    ")\n",
    "\n",
    "try:\n",
    "    raise ValueError(Text.from_markup(\"[#FFFF00 bold]Test\"))\n",
    "except ValueError:\n",
    "    console.print_exception()"
   ]
  },
  {
   "cell_type": "code",
   "execution_count": null,
   "metadata": {},
   "outputs": [],
   "source": [
    "import os\n",
    "from pathlib import Path\n",
    "from modules.shared.config import load_config\n",
    "\n",
    "path = Path(load_config(\"test.toml\")[\"file\"]); print(f\"{path}\\n\")\n",
    "os.path.basename(path)"
   ]
  },
  {
   "cell_type": "code",
   "execution_count": null,
   "metadata": {},
   "outputs": [],
   "source": [
    "a = ['SURF3C', 'KMeansORIG', 'RND2022']\n",
    "\"_\".join(a[1:-1])"
   ]
  },
  {
   "cell_type": "code",
   "execution_count": null,
   "metadata": {},
   "outputs": [],
   "source": [
    "import cv2\n",
    "import matplotlib\n",
    "import matplotlib.pyplot as plt\n",
    "from modules.dl.dataset.augmentation import *\n",
    "from pathlib import Path\n",
    "from modules.shared.config import load_config\n",
    "\n",
    "path = Path(load_config(\"test.toml\")[\"img\"]); print(f\"{path}\\n\")\n",
    "cropper = dynamic_crop(512)\n",
    "aug = composite_aug()\n",
    "print(matplotlib.is_interactive())\n",
    "\n",
    "img = cv2.imread(str(path))\n",
    "img = cropper(image=img)\n",
    "img = aug(image=img)\n",
    "\n",
    "plt.imshow(cv2.cvtColor(img, cv2.COLOR_BGR2RGB), vmin=0, vmax=255)"
   ]
  },
  {
   "cell_type": "code",
   "execution_count": null,
   "metadata": {},
   "outputs": [],
   "source": [
    "best_found = []\n",
    "final_found = []\n",
    "found_list = [1, 1, 1, 2, 2, 2, 3, 3, 3]\n",
    "tmp_dict = {i: path for i, path in enumerate(found_list)}\n",
    "for i, term in enumerate(found_list):\n",
    "    if 2 == term: best_found.append(tmp_dict.pop(i))\n",
    "    elif 3 == term: final_found.append(tmp_dict.pop(i))\n",
    "found_list = list(tmp_dict.values())\n",
    "\n",
    "print(best_found)\n",
    "print(final_found)\n",
    "print(found_list)"
   ]
  },
  {
   "cell_type": "code",
   "execution_count": null,
   "metadata": {},
   "outputs": [],
   "source": [
    "import shutil\n",
    "from pathlib import Path\n",
    "from modules.shared.config import load_config\n",
    "\n",
    "path = Path(load_config(\"test.toml\")[\"dir\"]); print(f\"{path}\\n\")\n",
    "\n",
    "rank_dict: dict = {}\n",
    "for i in range(10+1):\n",
    "    if i < 5: rank_dict[i*10] = f\"Match{str(i*10)}_(misMatch)\"\n",
    "    elif i == 10: rank_dict[i*10] = f\"Match{str(i*10)}_(Full)\"\n",
    "    else: rank_dict[i*10] =  f\"Match{str(i*10)}\"\n",
    "        \n",
    "for key in [\"BG\", \"L\", \"M\", \"S\"]:\n",
    "    for _, value in rank_dict.items():\n",
    "        rank_dir = path.joinpath(key, value)\n",
    "        pngs = list(rank_dir.glob(\"**/*.png\"))\n",
    "        if not any(pngs):\n",
    "            print(rank_dir)\n",
    "            shutil.rmtree(rank_dir)\n",
    "\n",
    "paths = list(path.glob(\"**/*.png\"))\n",
    "print(len(paths))"
   ]
  },
  {
   "cell_type": "code",
   "execution_count": null,
   "metadata": {},
   "outputs": [],
   "source": [
    "from pathlib import Path\n",
    "\n",
    "path = Path(\".\").resolve()\n",
    "\n",
    "print(path.parts)\n",
    "list(path.parents)"
   ]
  },
  {
   "cell_type": "code",
   "execution_count": null,
   "metadata": {},
   "outputs": [],
   "source": [
    "from modules.data import dname\n",
    "from pathlib import Path\n",
    "from modules.shared.config import load_config\n",
    "\n",
    "path = Path(load_config(\"test.toml\")[\"dname\"]); print(f\"{path}\\n\")\n",
    "name = path.parts[-1]\n",
    "\n",
    "print(dname.get_dname_sortinfo(path))\n",
    "print(dname.get_dname_sortinfo(name))"
   ]
  },
  {
   "cell_type": "code",
   "execution_count": null,
   "metadata": {},
   "outputs": [],
   "source": [
    "from rich.pretty import pprint\n",
    "from modules.data.dataset import dsname\n",
    "\n",
    "pprint(dsname.get_dsname_sortinfo(\"fish_13_A.tiff\"))\n",
    "pprint(dsname.get_dsname_sortinfo(\"fish_1_A_U.tiff\"))\n",
    "pprint(dsname.get_dsname_sortinfo(\"fish_13_A_crop_00.tiff\"))\n",
    "pprint(dsname.get_dsname_sortinfo(\"fish_1_A_U_crop_00.tiff\"))"
   ]
  },
  {
   "cell_type": "code",
   "execution_count": null,
   "metadata": {},
   "outputs": [],
   "source": [
    "from modules.data.processeddatainstance import ProcessedDataInstance\n",
    "\n",
    "pdi = ProcessedDataInstance()\n",
    "pdi._set_attrs(\"0.5.cluster_data.toml\")\n",
    "a = pdi.get_sorted_results_dict(\"palmskin\", \"ManualROI.roi\")\n",
    "\n",
    "a[0], len(a[1])"
   ]
  },
  {
   "cell_type": "code",
   "execution_count": null,
   "metadata": {},
   "outputs": [],
   "source": [
    "import os\n",
    "from pathlib import Path\n",
    "from modules.shared.config import load_config\n",
    "\n",
    "path = Path(load_config(\"test.toml\")[\"dname\"]); print(f\"{path}\\n\")\n",
    "\n",
    "tmp_list = list(path.glob(\"*.tif\"))\n",
    "tmp_list.extend(list(path.glob(\"MetaImage/*.tif\")))\n",
    "# tmp_list = list(path.glob(\"**/*.tif\"))\n",
    "found_list = sorted(tmp_list, key=lambda x: os.path.split(x)[1])\n",
    "result_sn = int(found_list[-1].parts[-1].split(\"_\")[0])+1\n",
    "\n",
    "result_sn"
   ]
  },
  {
   "cell_type": "code",
   "execution_count": null,
   "metadata": {},
   "outputs": [],
   "source": [
    "import cv2\n",
    "import numpy as np\n",
    "from pathlib import Path\n",
    "from modules.shared.config import load_config\n",
    "\n",
    "path = Path(load_config(\"test.toml\")[\"img\"]); print(f\"{path}\\n\")\n",
    "img = cv2.imread(str(path))\n",
    "\n",
    "img_up = img[:512,:,:]\n",
    "img_down = img[512:,:,:]\n",
    "print(img_up.shape, img_down.shape)\n",
    "\n",
    "up_last = img_up[-1, :, :]\n",
    "down_first = img_down[0, :, :]\n",
    "assert np.array_equal(up_last, down_first)\n",
    "\n",
    "img_up.shape, img_down.shape"
   ]
  },
  {
   "cell_type": "code",
   "execution_count": null,
   "metadata": {},
   "outputs": [],
   "source": [
    "import cv2\n",
    "import numpy as np\n",
    "from collections import Counter\n",
    "from modules.data.dataset.utils import gen_crop_img, gen_crop_img_v2\n",
    "from pathlib import Path\n",
    "from modules.shared.config import load_config\n",
    "\n",
    "path = Path(load_config(\"test.toml\")[\"img\"]); print(f\"{path}\\n\")\n",
    "img = cv2.imread(str(path))\n",
    "# img = img[:,320:704,:]\n",
    "\n",
    "config = {\"param\": {}}\n",
    "config[\"param\"][\"crop_size\"] = 256\n",
    "config[\"param\"][\"shift_region\"] = \"1/4\"\n",
    "\n",
    "img_list = gen_crop_img(img, config)\n",
    "img_list_2 = gen_crop_img_v2(img, config)\n",
    "\n",
    "\n",
    "# for (img, img2) in zip(img_list, img_list_2):\n",
    "#     assert np.array_equal(img, img2)\n",
    "# for i, img in enumerate(img_list):\n",
    "#     assert np.array_equal(img, img_list_2[i*1])\n",
    "\n",
    "img_list_cnt = Counter()\n",
    "for img in img_list: img_list_cnt.update([img.shape])\n",
    "print(img_list_cnt)\n",
    "\n",
    "img_list_2_cnt = Counter()\n",
    "for img in img_list_2: img_list_2_cnt.update([img.shape])\n",
    "print(img_list_2_cnt)"
   ]
  },
  {
   "cell_type": "code",
   "execution_count": null,
   "metadata": {},
   "outputs": [],
   "source": [
    "from pathlib import Path\n",
    "from collections import Counter\n",
    "from modules.shared.config import load_config\n",
    "\n",
    "path = Path(load_config(\"test.toml\")[\"dname\"]); print(f\"{path}\\n\")\n",
    "name_cnt = Counter()\n",
    "\n",
    "for file in path.glob(\"**/*.*\"):\n",
    "    name_cnt.update([file.parts[-1]])\n",
    "\n",
    "len(name_cnt), name_cnt\n",
    "\n",
    "for k, v in name_cnt.items():\n",
    "    assert v == 1"
   ]
  },
  {
   "cell_type": "code",
   "execution_count": null,
   "metadata": {},
   "outputs": [],
   "source": [
    "import json\n",
    "from collections import Counter\n",
    "from pathlib import Path\n",
    "from modules.shared.config import load_config\n",
    "\n",
    "path = Path(load_config(\"test.toml\")[\"file\"]); print(f\"{path}\\n\")\n",
    "\n",
    "with open(path, mode=\"r\") as f:\n",
    "    pred_ans_dict:dict = json.load(f)\n",
    "\n",
    "gt_cnt: dict[str, Counter] = {}\n",
    "for crop_name, ans in pred_ans_dict.items():\n",
    "    name = \"_\".join(crop_name.split(\"_\")[:4])\n",
    "    if name not in gt_cnt:\n",
    "        gt_cnt[name] = Counter()\n",
    "    gt_cnt[name].update([ans[\"gt\"]])\n",
    "\n",
    "for k, v in gt_cnt.items():\n",
    "    if v.most_common(1)[0][0] == \"BG\":\n",
    "        print(k)\n",
    "\n",
    "print()\n",
    "\n",
    "pred_cnt: dict[str, Counter] = {}\n",
    "for crop_name, ans in pred_ans_dict.items():\n",
    "    name = \"_\".join(crop_name.split(\"_\")[:4])\n",
    "    if name not in pred_cnt:\n",
    "        pred_cnt[name] = Counter()\n",
    "    pred_cnt[name].update([ans[\"pred\"]])\n",
    "\n",
    "for k, v in pred_cnt.items():\n",
    "    if v.most_common(1)[0][0] == \"BG\":\n",
    "        print(k)"
   ]
  }
 ],
 "metadata": {
  "kernelspec": {
   "display_name": "zebrafish_py310",
   "language": "python",
   "name": "python3"
  },
  "language_info": {
   "codemirror_mode": {
    "name": "ipython",
    "version": 3
   },
   "file_extension": ".py",
   "mimetype": "text/x-python",
   "name": "python",
   "nbconvert_exporter": "python",
   "pygments_lexer": "ipython3",
   "version": "3.10.12"
  }
 },
 "nbformat": 4,
 "nbformat_minor": 2
}
