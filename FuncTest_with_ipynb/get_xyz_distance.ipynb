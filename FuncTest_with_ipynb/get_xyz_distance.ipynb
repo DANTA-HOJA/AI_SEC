{
 "cells": [
  {
   "cell_type": "markdown",
   "metadata": {},
   "source": [
    "# Initialize PyImageJ"
   ]
  },
  {
   "cell_type": "code",
   "execution_count": 1,
   "metadata": {},
   "outputs": [],
   "source": [
    "# Import module\n",
    "import jpype\n",
    "# Enable Java imports\n",
    "import jpype.imports\n",
    "# Pull in types\n",
    "from jpype.types import *\n",
    "\n",
    "import scyjava as sj # scyjava : Supercharged Java access from Python, see https://github.com/scijava/scyjava\n",
    "import imagej\n",
    "\n",
    "# Configurations\n",
    "# NOTE: The ImageJ2 gateway is initialized through a Java Virtual Machine (JVM). If you want to configure the JVM, it must be done before initializing an ImageJ2 gateway.\n",
    "# sj.config.add_option('-Xmx10g') # adjust memory available to Java\n",
    "sj.config.endpoints.append('ome:formats-gpl:6.11.1')"
   ]
  },
  {
   "cell_type": "code",
   "execution_count": 2,
   "metadata": {},
   "outputs": [
    {
     "name": "stdout",
     "output_type": "stream",
     "text": [
      "ImageJ2 2.9.0/1.54b; Java 1.8.0_362 [amd64]; 210MB of 14542MB\n"
     ]
    }
   ],
   "source": [
    "Fiji_Local = r\"C:\\Users\\confocal_microscope\\Desktop\\Tools\\Fiji.app\"\n",
    "\n",
    "# ij = imagej.init(Fiji_Local) # Same as \"ij = imagej.init(Fiji_Local, mode='headless')\", PyImageJ’s default mode is headless\n",
    "# ij = imagej.init(Fiji_Local, mode='gui') # GUI mode (會卡在這一行 -> blocking), for more explainations : https://pyimagej.readthedocs.io/en/latest/Initialization.html#gui-mode\n",
    "ij = imagej.init(Fiji_Local, mode='interactive') # Interactive mode (可以繼續向下執行 -> non-blocking), for more explainations : https://pyimagej.readthedocs.io/en/latest/Initialization.html#interactive-mode\n",
    "ij.ui().showUI() # display the Fiji GUI\n",
    "\n",
    "print(ij.getApp().getInfo(True)) # ImageJ2 2.9.0/1.54b"
   ]
  },
  {
   "cell_type": "markdown",
   "metadata": {},
   "source": [
    "# Import Customized modules and Create ImageJ Object"
   ]
  },
  {
   "cell_type": "code",
   "execution_count": 3,
   "metadata": {},
   "outputs": [],
   "source": [
    "import os\n",
    "import sys\n",
    "import re\n",
    "from typing import TextIO\n",
    "from datetime import datetime\n",
    "\n",
    "from glob import glob\n",
    "import logging\n",
    "from skimage.io import imread, imshow, imsave\n",
    "\n",
    "\n",
    "sys.path.append(r\"C:\\Users\\confocal_microscope\\Desktop\\ZebraFish_AP_POS\\modules\") # add path to scan customized module\n",
    "\n",
    "from logger import init_logger\n",
    "from fileop import create_new_dir\n",
    "from composite_ij import dump_info, median_R1_and_mean3D_R2"
   ]
  },
  {
   "cell_type": "code",
   "execution_count": 4,
   "metadata": {},
   "outputs": [],
   "source": [
    "# Bio-Format Reader\n",
    "loci = jpype.JPackage(\"loci\")\n",
    "loci.common.DebugTools.setRootLevel(\"ERROR\")\n",
    "Reader = loci.formats.ImageReader()\n",
    "\n",
    "# [IMPORTANT] some ImageJ plugins need to be new before use\n",
    "from ij.plugin.frame import RoiManager\n",
    "from ij.plugin import ImageCalculator\n",
    "from ij.plugin import ChannelSplitter\n",
    "from ij.plugin import ZProjector\n",
    "from ij.plugin import RGBStackMerge\n",
    "from ij.plugin import RGBStackConverter\n",
    "\n",
    "rm = RoiManager()\n",
    "imageCalculator = ImageCalculator()\n",
    "channelSplitter = ChannelSplitter()\n",
    "zProjector = ZProjector()\n",
    "rgbStackMerge = RGBStackMerge()\n",
    "rgbStackConverter = RGBStackConverter()"
   ]
  },
  {
   "cell_type": "code",
   "execution_count": 5,
   "metadata": {},
   "outputs": [],
   "source": [
    "log = init_logger(r\"ImageJ\")"
   ]
  },
  {
   "cell_type": "markdown",
   "metadata": {},
   "source": [
    "# Start Process"
   ]
  },
  {
   "cell_type": "code",
   "execution_count": 6,
   "metadata": {},
   "outputs": [
    {
     "name": "stderr",
     "output_type": "stream",
     "text": [
      "| 2023-03-03 07:22:52,785 | ImageJ | INFO | seriesCount : 6\n"
     ]
    }
   ],
   "source": [
    "# lif_path = r\"C:\\Users\\confocal_microscope\\Desktop\\{NAS_DL}_Academia_Sinica_Data\\{20230213_DirNameAdjust}_Zebrafish_A_P_strategies\\palmskin_RGB_RAW\\Before_20221109\\20220610 CE001 palmskin_8dpf.lif\"\n",
    "lif_path = r\"C:\\Users\\confocal_microscope\\Desktop\\{NAS_DL}_Academia_Sinica_Data\\{20230213_DirNameAdjust}_Zebrafish_A_P_strategies\\BrightField_RAW\\Before_20221109\\20220610 CE001 palmskin_8dpf.lif\"\n",
    "\n",
    "Reader.setId(lif_path)\n",
    "seriesCount = Reader.getSeriesCount()\n",
    "log.info(f'seriesCount : {seriesCount}')"
   ]
  },
  {
   "cell_type": "code",
   "execution_count": 7,
   "metadata": {},
   "outputs": [],
   "source": [
    "SeriesNum = 1\n",
    "\n",
    "ij.IJ.run(\"Bio-Formats Importer\", f\"open='{lif_path}' color_mode=Default rois_import=[ROI manager] view=Hyperstack stack_order=XYCZT series_{SeriesNum}\")\n",
    "img = ij.WindowManager.getCurrentImage() # get image, <java class 'ij.ImagePlus'>"
   ]
  },
  {
   "cell_type": "code",
   "execution_count": 8,
   "metadata": {},
   "outputs": [
    {
     "name": "stdout",
     "output_type": "stream",
     "text": [
      "    name  : 20220610 CE001 palmskin_8dpf.lif - Series001 fish 1 palmskin 8dpf\n",
      "    type  : <java class 'ij.ImagePlus'>\n",
      "    dtype : N/A\n",
      "    shape : (2048, 2048)\n",
      "    dims  : ('X', 'Y')\n",
      "\n"
     ]
    }
   ],
   "source": [
    "dump_info(img)\n",
    "img.show()\n",
    "# img.hide()"
   ]
  },
  {
   "attachments": {},
   "cell_type": "markdown",
   "metadata": {},
   "source": [
    "RGB "
   ]
  },
  {
   "cell_type": "code",
   "execution_count": 10,
   "metadata": {},
   "outputs": [
    {
     "name": "stderr",
     "output_type": "stream",
     "text": [
      "| 2023-03-02 14:49:54,815 | ImageJ | INFO | image_name <java class 'java.lang.String'>: Series001 fish 1 palmskin_8dpf_A\n",
      "| 2023-03-02 14:49:54,815 | ImageJ | INFO | z_length <java class 'JDouble'>: 7.19568e-05\n",
      "| 2023-03-02 14:49:54,816 | ImageJ | INFO | z_slice <java class 'JDouble'>: 37.0\n",
      "| 2023-03-02 14:49:54,816 | ImageJ | INFO | voxel_z <class 'float'>: 1.9988 micron\n"
     ]
    }
   ],
   "source": [
    "image_name = img.getProp(\"Image name\")\n",
    "log.info(f'image_name {type(image_name)}: {image_name}')\n",
    "\n",
    "\n",
    "z_length = img.getNumericProperty(\"Image #0|DimensionDescription #6|Length\")\n",
    "z_slice = img.getNumericProperty(\"Image #0|DimensionDescription #6|NumberOfElements\")\n",
    "log.info(f'z_length {type(z_length)}: {z_length}')\n",
    "log.info(f'z_slice {type(z_slice)}: {z_slice}')\n",
    "\n",
    "voxel_z = z_length/(z_slice-1)*(10**6)\n",
    "log.info(f'voxel_z {type(voxel_z)}: {voxel_z:.4f} micron/pixel')"
   ]
  },
  {
   "attachments": {},
   "cell_type": "markdown",
   "metadata": {},
   "source": [
    "BF"
   ]
  },
  {
   "cell_type": "code",
   "execution_count": 10,
   "metadata": {},
   "outputs": [
    {
     "name": "stderr",
     "output_type": "stream",
     "text": [
      "| 2023-03-03 07:23:09,670 | ImageJ | INFO | image_name <java class 'java.lang.String'>: Series001 fish 1 palmskin 8dpf\n",
      "| 2023-03-03 07:23:09,671 | ImageJ | INFO | dim1_length <java class 'JDouble'>: 0.00665275\n",
      "| 2023-03-03 07:23:09,672 | ImageJ | INFO | dim1_elem <java class 'JDouble'>: 2048.0\n",
      "| 2023-03-03 07:23:09,674 | ImageJ | INFO | dim2_length <java class 'JDouble'>: 0.00665275\n",
      "| 2023-03-03 07:23:09,674 | ImageJ | INFO | dim2_elem <java class 'JDouble'>: 2048.0\n",
      "| 2023-03-03 07:23:09,675 | ImageJ | INFO | Voxel_X_Y <class 'float'>: 3.25\n"
     ]
    }
   ],
   "source": [
    "image_name = img.getProp(\"Image name\")\n",
    "log.info(f'image_name {type(image_name)}: {image_name}')\n",
    "\n",
    "\n",
    "dim1_length = img.getNumericProperty(\"Image #0|DimensionDescription #1|Length\")\n",
    "dim1_elem = img.getNumericProperty(\"Image #0|DimensionDescription #1|NumberOfElements\")\n",
    "log.info(f'dim1_length {type(dim1_length)}: {dim1_length}')\n",
    "log.info(f'dim1_elem {type(dim1_elem)}: {dim1_elem}')\n",
    "\n",
    "dim2_length = img.getNumericProperty(\"Image #0|DimensionDescription #2|Length\")\n",
    "dim2_elem = img.getNumericProperty(\"Image #0|DimensionDescription #2|NumberOfElements\")\n",
    "log.info(f'dim2_length {type(dim2_length)}: {dim2_length}')\n",
    "log.info(f'dim2_elem {type(dim2_elem)}: {dim2_elem}')\n",
    "\n",
    "dim1_unit = dim1_length/(dim1_elem-1)*(10**6)\n",
    "dim2_unit = dim2_length/(dim2_elem-1)*(10**6)\n",
    "\n",
    "assert dim1_unit == dim2_unit, f\"Voxel_X != Voxel_Y, Voxel_X, Voxel_Y = ({dim1_unit}, {dim2_unit}) micron/pixel\"\n",
    "\n",
    "log.info(f'Voxel_X_Y {type(dim1_unit)}: {dim1_unit}')"
   ]
  }
 ],
 "metadata": {
  "kernelspec": {
   "display_name": "zebrafish",
   "language": "python",
   "name": "python3"
  },
  "language_info": {
   "codemirror_mode": {
    "name": "ipython",
    "version": 3
   },
   "file_extension": ".py",
   "mimetype": "text/x-python",
   "name": "python",
   "nbconvert_exporter": "python",
   "pygments_lexer": "ipython3",
   "version": "3.8.10"
  },
  "orig_nbformat": 4,
  "vscode": {
   "interpreter": {
    "hash": "ae46fe3be2f97d3a16702042bc6c7abd422dd0bfb5ce5527ad30c3a287e1c756"
   }
  }
 },
 "nbformat": 4,
 "nbformat_minor": 2
}
