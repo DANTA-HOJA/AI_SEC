{
 "cells": [
  {
   "cell_type": "code",
   "execution_count": 1,
   "metadata": {},
   "outputs": [
    {
     "name": "stdout",
     "output_type": "stream",
     "text": [
      "i = 1, rand_int = 235\n",
      "i = 2, rand_int = 5192\n",
      "i = 3, rand_int = 905\n",
      "i = 4, rand_int = 7813\n",
      "i = 5, rand_int = 2895\n",
      "i = 6, rand_int = 5056\n",
      "i = 7, rand_int = 144\n",
      "i = 8, rand_int = 4225\n",
      "i = 9, rand_int = 7751\n",
      "i = 10, rand_int = 3462\n",
      "i = 11, rand_int = 9394\n",
      "i = 12, rand_int = 5396\n",
      "i = 13, rand_int = 5374\n",
      "i = 14, rand_int = 2962\n",
      "i = 15, rand_int = 2516\n",
      "i = 16, rand_int = 8444\n",
      "i = 17, rand_int = 3562\n",
      "i = 18, rand_int = 4764\n",
      "i = 19, rand_int = 8093\n",
      "i = 20, rand_int = 6542\n",
      "i = 21, rand_int = 562\n",
      "i = 22, rand_int = 8151\n",
      "i = 23, rand_int = 3049\n",
      "i = 24, rand_int = 753\n",
      "i = 25, rand_int = 9719\n",
      "Exception: i = 25\n"
     ]
    }
   ],
   "source": [
    "import os\n",
    "import time\n",
    "import numpy as np\n",
    "\n",
    "np.random.seed(1)\n",
    "run_time = 10000\n",
    "exp_num = 25\n",
    "\n",
    "try:\n",
    "    for i in range(1, run_time+1):\n",
    "        \n",
    "        rand_int = np.random.randint(10000)\n",
    "        \n",
    "        print(f\"i = {i}, rand_int = {rand_int}\")\n",
    "        if ((i % exp_num) == 0) and (i > 0) : raise ValueError(f\"i = {i}\")\n",
    "        \n",
    "        time.sleep(0.5)\n",
    "        \n",
    "except KeyboardInterrupt as e:\n",
    "    print(\"KeyboardInterrupt\")\n",
    "    \n",
    "except Exception as e:\n",
    "    print(f\"Exception: {e}\")"
   ]
  },
  {
   "cell_type": "code",
   "execution_count": 4,
   "metadata": {},
   "outputs": [
    {
     "name": "stdout",
     "output_type": "stream",
     "text": [
      "i = 6, rand_int = 5056\n",
      "i = 7, rand_int = 144\n",
      "i = 8, rand_int = 4225\n",
      "i = 9, rand_int = 7751\n",
      "i = 10, rand_int = 3462\n",
      "Exception: i = 10\n"
     ]
    }
   ],
   "source": [
    "import os\n",
    "import time\n",
    "import numpy as np\n",
    "\n",
    "np.random.seed(1)\n",
    "run_time = 10000\n",
    "exp_num = 5\n",
    "\n",
    "recover_flag = True\n",
    "recover_num = 0\n",
    "\n",
    "if recover_flag: \n",
    "    with open(\"recover_test.txt\", mode=\"r\") as f: recover_num = f.read()\n",
    "\n",
    "try:\n",
    "    for i in range(1, run_time+1):\n",
    "        \n",
    "        rand_int = np.random.randint(10000)\n",
    "        if i <= int(recover_num) : continue # 因涉及 randomize consistency，必須使用跳過的方式執行，\n",
    "                                            # 若僅使用 \"欲執行總次數 - 上次中斷的次數\" 來繼續(恢復)訓練， \n",
    "                                            # random 會因為被執行次數不同而產生不相同的 value。\n",
    "        \n",
    "        print(f\"i = {i}, rand_int = {rand_int}\")\n",
    "        if ((i % exp_num) == 0) and (i > 0) : raise ValueError(f\"i = {i}\")\n",
    "        \n",
    "        time.sleep(0.5)\n",
    "        \n",
    "except KeyboardInterrupt as e:\n",
    "    print(\"KeyboardInterrupt\")\n",
    "    \n",
    "except Exception as e:\n",
    "    print(f\"Exception: {e}\")\n",
    "    with open(\"recover_test.txt\", mode=\"w\") as f: f.write(str(i))"
   ]
  }
 ],
 "metadata": {
  "kernelspec": {
   "display_name": "zebrafish",
   "language": "python",
   "name": "python3"
  },
  "language_info": {
   "codemirror_mode": {
    "name": "ipython",
    "version": 3
   },
   "file_extension": ".py",
   "mimetype": "text/x-python",
   "name": "python",
   "nbconvert_exporter": "python",
   "pygments_lexer": "ipython3",
   "version": "3.8.10"
  },
  "orig_nbformat": 4
 },
 "nbformat": 4,
 "nbformat_minor": 2
}
