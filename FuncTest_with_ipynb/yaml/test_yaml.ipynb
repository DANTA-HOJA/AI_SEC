{
 "cells": [
  {
   "cell_type": "code",
   "execution_count": 6,
   "metadata": {},
   "outputs": [
    {
     "data": {
      "text/plain": [
       "{'name': 'myenv',\n",
       " 'channels': ['conda-forge', 'defaults'],\n",
       " 'dependencies': ['python=3.8',\n",
       "  'numpy',\n",
       "  'pandas',\n",
       "  {'key1': 'value1', 'key2': 'value2'},\n",
       "  'torch']}"
      ]
     },
     "execution_count": 6,
     "metadata": {},
     "output_type": "execute_result"
    }
   ],
   "source": [
    "import os\n",
    "import yaml\n",
    "import json\n",
    "\n",
    "config_path = os.path.join(\"config.yaml\")\n",
    "with open(config_path, 'r') as f_reader: \n",
    "    config = yaml.load(f_reader, Loader=yaml.SafeLoader)\n",
    "\n",
    "config\n",
    "# print(json.dumps(config, indent=4))"
   ]
  }
 ],
 "metadata": {
  "kernelspec": {
   "display_name": "zebrafish",
   "language": "python",
   "name": "python3"
  },
  "language_info": {
   "codemirror_mode": {
    "name": "ipython",
    "version": 3
   },
   "file_extension": ".py",
   "mimetype": "text/x-python",
   "name": "python",
   "nbconvert_exporter": "python",
   "pygments_lexer": "ipython3",
   "version": "3.8.10"
  },
  "orig_nbformat": 4
 },
 "nbformat": 4,
 "nbformat_minor": 2
}
