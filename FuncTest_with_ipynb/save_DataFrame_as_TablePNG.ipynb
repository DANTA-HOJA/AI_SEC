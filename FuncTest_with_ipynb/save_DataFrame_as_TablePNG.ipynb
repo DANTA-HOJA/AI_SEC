{
 "cells": [
  {
   "attachments": {},
   "cell_type": "markdown",
   "metadata": {},
   "source": [
    "# Save Dataframe as Table ( may be useful when uploading to ```Mindomo``` )"
   ]
  },
  {
   "cell_type": "code",
   "execution_count": 1,
   "metadata": {},
   "outputs": [
    {
     "data": {
      "image/png": "[encoded data removed]",
      "text/plain": [
       "<Figure size 576x216 with 1 Axes>"
      ]
     },
     "metadata": {
      "needs_background": "light"
     },
     "output_type": "display_data"
    }
   ],
   "source": [
    "import pandas as pd\n",
    "from PIL import Image\n",
    "from io import BytesIO\n",
    "import matplotlib.pyplot as plt\n",
    "\n",
    "# 創建一個 DataFrame\n",
    "df = pd.DataFrame({'name': ['Alice', 'Bob', 'Charlie', 'Dave'],\n",
    "                   'age': [25, 30, 35, 40],\n",
    "                   'gender': ['F', 'M', 'M', 'M']})\n",
    "\n",
    "# 將 DataFrame 轉換為圖片\n",
    "fig, ax =plt.subplots(figsize=(8,3))\n",
    "ax.axis('off')\n",
    "ax.table(cellText=df.values, colLabels=df.columns, loc='center', cellLoc='center', bbox=[0, 0, 1, 1])\n",
    "plt.show()\n",
    "\n",
    "# buffer = BytesIO()\n",
    "# buffer.seek(0)\n",
    "# img = Image.open(buffer)\n",
    "\n",
    "# # 顯示圖片\n",
    "# img.show()\n",
    "\n",
    "# # 儲存圖片\n",
    "# img.save('my_table.png')\n",
    "\n",
    "fig.savefig('my_table.png')\n"
   ]
  }
 ],
 "metadata": {
  "kernelspec": {
   "display_name": "zebrafish",
   "language": "python",
   "name": "python3"
  },
  "language_info": {
   "codemirror_mode": {
    "name": "ipython",
    "version": 3
   },
   "file_extension": ".py",
   "mimetype": "text/x-python",
   "name": "python",
   "nbconvert_exporter": "python",
   "pygments_lexer": "ipython3",
   "version": "3.8.10"
  },
  "orig_nbformat": 4
 },
 "nbformat": 4,
 "nbformat_minor": 2
}
