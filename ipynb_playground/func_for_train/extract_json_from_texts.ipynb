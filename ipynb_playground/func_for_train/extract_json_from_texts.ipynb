{
 "cells": [
  {
   "attachments": {},
   "cell_type": "markdown",
   "metadata": {},
   "source": [
    "# 使用正則表達式從文件中提取JSON字符串 ( by ChatGPT )"
   ]
  },
  {
   "cell_type": "code",
   "execution_count": 4,
   "metadata": {},
   "outputs": [
    {
     "name": "stdout",
     "output_type": "stream",
     "text": [
      "data <class 'dict'>: \n",
      " {\n",
      "    \"Test\": \"20230322_03_56_58\",\n",
      "    \"model_desc\": \"best_model.pth\",\n",
      "    \"average_loss\": null,\n",
      "    \"L_f1\": 0.94772,\n",
      "    \"M_f1\": 0.70319,\n",
      "    \"S_f1\": 0.76632,\n",
      "    \"macro_f1\": 0.80574,\n",
      "    \"weighted_f1\": 0.78386,\n",
      "    \"micro_f1\": 0.78442,\n",
      "    \"average_f1\": 0.79508\n",
      "}\n"
     ]
    }
   ],
   "source": [
    "import json\n",
    "import re\n",
    "\n",
    "\n",
    "file_path = r\"C:\\Users\\confocal_microscope\\Desktop\\{Test}_Model_history\\vit_b_16\\20230322_02_35_45_{Tested}_{20_epochs}_{best}_{avg_f1_0.79508}\\{Logs}_test.log\"\n",
    "\n",
    "# 讀取文件內容\n",
    "with open(file_path, 'r') as f:\n",
    "    content = f.read()\n",
    "\n",
    "# 使用正則表達式匹配JSON字符串\n",
    "pattern = r\"(?s)\\{.*\\}\" # (?s) 表示啟用 dot-all 模式，'.*' 就能夠匹配包括換行符號在內的所有字元。\n",
    "result = re.findall(pattern, content)\n",
    "\n",
    "# 解析 JSON 字串\n",
    "data = json.loads(result[0])\n",
    "\n",
    "\n",
    "print(f'data {type(data)}: \\n', json.dumps(data, indent=4))"
   ]
  }
 ],
 "metadata": {
  "kernelspec": {
   "display_name": "zebrafish",
   "language": "python",
   "name": "python3"
  },
  "language_info": {
   "codemirror_mode": {
    "name": "ipython",
    "version": 3
   },
   "file_extension": ".py",
   "mimetype": "text/x-python",
   "name": "python",
   "nbconvert_exporter": "python",
   "pygments_lexer": "ipython3",
   "version": "3.8.10"
  },
  "orig_nbformat": 4
 },
 "nbformat": 4,
 "nbformat_minor": 2
}
