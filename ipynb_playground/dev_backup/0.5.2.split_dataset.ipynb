{
 "cells": [
  {
   "cell_type": "code",
   "execution_count": null,
   "metadata": {},
   "outputs": [],
   "source": [
    "import sys\n",
    "from pathlib import Path\n",
    "\n",
    "import pandas as pd\n",
    "from rich import print\n",
    "from rich.panel import Panel\n",
    "from rich.pretty import Pretty\n",
    "\n",
    "abs_module_path = Path(\"./../../\").resolve()\n",
    "if (abs_module_path.exists()) and (str(abs_module_path) not in sys.path):\n",
    "    sys.path.append(str(abs_module_path)) # add path to scan customized module\n",
    "\n",
    "from modules.data.processeddatainstance import ProcessedDataInstance\n",
    "from modules.shared.clioutput import CLIOutput\n",
    "from modules.shared.config import load_config\n",
    "from modules.shared.utils import get_repo_root"
   ]
  },
  {
   "cell_type": "code",
   "execution_count": null,
   "metadata": {},
   "outputs": [],
   "source": [
    "\"\"\" Detect Repository \"\"\"\n",
    "print(f\"Repository: '{get_repo_root()}'\")"
   ]
  },
  {
   "cell_type": "code",
   "execution_count": null,
   "metadata": {},
   "outputs": [],
   "source": [
    "training_ratio = 0.8\n",
    "train_ratio = 0.9"
   ]
  },
  {
   "cell_type": "code",
   "execution_count": null,
   "metadata": {},
   "outputs": [],
   "source": [
    "# set variables\n",
    "cli_out = CLIOutput()\n",
    "cli_out._set_logger(\"Split Dataset\")\n",
    "config = load_config(\"0.5.cluster_data.toml\")\n",
    "random_seed = config[\"cluster\"][\"random_seed\"]"
   ]
  },
  {
   "cell_type": "code",
   "execution_count": null,
   "metadata": {},
   "outputs": [],
   "source": [
    "# read `data.csv`\n",
    "processed_di = ProcessedDataInstance()\n",
    "processed_di.parse_config(config)\n",
    "df = pd.read_csv(processed_di.tabular_file, encoding='utf_8_sig', index_col=[0])\n",
    "cli_out.divide()"
   ]
  },
  {
   "cell_type": "code",
   "execution_count": null,
   "metadata": {},
   "outputs": [],
   "source": [
    "training_df: pd.DataFrame = df.sample(frac=training_ratio, replace=False, random_state=random_seed)\n",
    "test_df: pd.DataFrame = df[~df.index.isin(training_df.index)]\n",
    "\n",
    "train_df: pd.DataFrame = training_df.sample(frac=train_ratio, replace=False, random_state=random_seed)\n",
    "valid_df: pd.DataFrame = training_df[~training_df.index.isin(train_df.index)]"
   ]
  },
  {
   "cell_type": "code",
   "execution_count": null,
   "metadata": {},
   "outputs": [],
   "source": [
    "# display\n",
    "tmp_dict = {}\n",
    "tmp_dict[\"original_df\"] = len(df)\n",
    "tmp_dict[\"training_df\"] = len(training_df)\n",
    "tmp_dict[\"test_df\"] = len(test_df)\n",
    "tmp_dict[\"train_df\"] = len(train_df)\n",
    "tmp_dict[\"valid_df\"] = len(valid_df)\n",
    "print(Panel(Pretty(tmp_dict, expand_all=True), width=100))"
   ]
  },
  {
   "cell_type": "code",
   "execution_count": null,
   "metadata": {},
   "outputs": [],
   "source": [
    "for idx in train_df.index:\n",
    "    df.loc[idx, \"dataset\"] = \"train\"\n",
    "\n",
    "for idx in valid_df.index:\n",
    "    df.loc[idx, \"dataset\"] = \"valid\"\n",
    "\n",
    "for idx in test_df.index:\n",
    "    df.loc[idx, \"dataset\"] = \"test\""
   ]
  },
  {
   "cell_type": "code",
   "execution_count": null,
   "metadata": {},
   "outputs": [],
   "source": [
    "df.to_csv(processed_di.instance_root.joinpath(f\"datasplit_{random_seed}.csv\"), encoding='utf_8_sig')\n",
    "cli_out.new_line()"
   ]
  }
 ],
 "metadata": {
  "kernelspec": {
   "display_name": "zebrafish_py310",
   "language": "python",
   "name": "python3"
  },
  "language_info": {
   "codemirror_mode": {
    "name": "ipython",
    "version": 3
   },
   "file_extension": ".py",
   "mimetype": "text/x-python",
   "name": "python",
   "nbconvert_exporter": "python",
   "pygments_lexer": "ipython3",
   "version": "3.10.12"
  }
 },
 "nbformat": 4,
 "nbformat_minor": 2
}
