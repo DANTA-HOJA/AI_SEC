{
 "cells": [
  {
   "cell_type": "code",
   "execution_count": null,
   "metadata": {},
   "outputs": [],
   "source": [
    "from pathlib import Path\n",
    "\n",
    "import cv2\n",
    "import matplotlib.pyplot as plt\n",
    "import numpy as np\n",
    "\n",
    "grayscale_path = Path(r\"\") # give a grayscale image\n",
    "\n",
    "bgr_img = cv2.imread(str(grayscale_path)) # load as 3 channel BGR image, but 3 channel are same\n",
    "print(bgr_img.shape)\n",
    "assert np.array_equal(bgr_img[:,:,0], bgr_img[:,:,1])\n",
    "\n",
    "hsv_img = cv2.cvtColor(bgr_img, cv2.COLOR_BGR2HSV_FULL)\n",
    "\n",
    "# show\n",
    "fig, axes = plt.subplots(2, 3, figsize=(12, 8), dpi=200) # figsize = (width, height)\n",
    "\n",
    "images = [bgr_img[:,:,0], bgr_img[:,:,1], bgr_img[:,:,2],\n",
    "          hsv_img[:,:,0], hsv_img[:,:,1], hsv_img[:,:,2]]\n",
    "titles = [\"bgr_ch0\", \"bgr_ch1\", \"bgr_ch2\",\n",
    "          \"hsv_ch0\", \"hsv_ch1\", \"hsv_ch2\"]\n",
    "\n",
    "for ax, im, tl in zip(axes.flatten(), images, titles):\n",
    "    ax.imshow(im, vmin=0, vmax=255, cmap=\"gray\")\n",
    "    ax.set_title(tl, fontsize=10)\n",
    "    ax.tick_params(axis='both', which='major', labelsize=5)"
   ]
  }
 ],
 "metadata": {
  "kernelspec": {
   "display_name": "zebrafish_py310",
   "language": "python",
   "name": "python3"
  },
  "language_info": {
   "name": "python",
   "version": "3.10.12"
  }
 },
 "nbformat": 4,
 "nbformat_minor": 2
}
