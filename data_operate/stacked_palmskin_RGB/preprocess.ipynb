{
 "cells": [
  {
   "cell_type": "markdown",
   "metadata": {},
   "source": [
    "# Initialize PyImageJ"
   ]
  },
  {
   "cell_type": "code",
   "execution_count": 1,
   "metadata": {},
   "outputs": [],
   "source": [
    "# Import module\n",
    "import jpype\n",
    "# Enable Java imports\n",
    "import jpype.imports\n",
    "# Pull in types\n",
    "from jpype.types import *\n",
    "\n",
    "\n",
    "import scyjava as sj # scyjava : Supercharged Java access from Python, see https://github.com/scijava/scyjava\n",
    "\n",
    "import imagej\n",
    "import  numpy as np\n",
    "\n",
    "\n",
    "# Configurations\n",
    "# NOTE: The ImageJ2 gateway is initialized through a Java Virtual Machine (JVM). If you want to configure the JVM, it must be done before initializing an ImageJ2 gateway.\n",
    "# sj.config.add_option('-Xmx10g') # adjust memory available to Java\n",
    "sj.config.endpoints.append('ome:formats-gpl:6.11.1')"
   ]
  },
  {
   "cell_type": "code",
   "execution_count": 2,
   "metadata": {},
   "outputs": [
    {
     "name": "stdout",
     "output_type": "stream",
     "text": [
      "ImageJ2 2.9.0/1.54b; Java 1.8.0_362 [amd64]; 30MB of 14542MB\n"
     ]
    }
   ],
   "source": [
    "Fiji_Local = r\"C:\\Users\\confocal_microscope\\Desktop\\Tools\\Fiji.app\"\n",
    "\n",
    "# ij = imagej.init(Fiji_Local) # Same as \"ij = imagej.init(Fiji_Local, mode='headless')\", PyImageJ’s default mode is headless\n",
    "# ij = imagej.init(Fiji_Local, mode='gui') # GUI mode (會卡在這一行 -> blocking), for more explainations : https://pyimagej.readthedocs.io/en/latest/Initialization.html#gui-mode\n",
    "ij = imagej.init(Fiji_Local, mode='interactive') # Interactive mode (可以繼續向下執行 -> non-blocking), for more explainations : https://pyimagej.readthedocs.io/en/latest/Initialization.html#interactive-mode\n",
    "# ij.ui().showUI() # if you want to display the GUI immediately\n",
    "\n",
    "print(ij.getApp().getInfo(True))"
   ]
  },
  {
   "cell_type": "code",
   "execution_count": 3,
   "metadata": {},
   "outputs": [],
   "source": [
    "def dump_info(image, CLI_print_title:str=None):\n",
    "    \"\"\"A handy function to print details of an image object.\"\"\"\n",
    "    name = image.name if hasattr(image, 'name') else None # xarray\n",
    "    if name is None and hasattr(image, 'getName'): name = image.getName() # Dataset\n",
    "    if name is None and hasattr(image, 'getTitle'): name = image.getTitle() # ImagePlus\n",
    "    \n",
    "    if CLI_print_title is not None: print(f\"--> {CLI_print_title}:\\n\")\n",
    "    print(f\"    name  : {name or 'N/A'}\")\n",
    "    print(f\"    type  : {type(image)}\")\n",
    "    print(f\"    dtype : {image.dtype if hasattr(image, 'dtype') else 'N/A'}\")\n",
    "    print(f\"    shape : {image.shape if hasattr(image, 'shape') else 'N/A'}\")\n",
    "    print(f\"    dims  : {image.dims if hasattr(image, 'dims') else 'N/A'}\\n\")"
   ]
  },
  {
   "cell_type": "code",
   "execution_count": 4,
   "metadata": {},
   "outputs": [
    {
     "name": "stdout",
     "output_type": "stream",
     "text": [
      "seriesCount <java class 'java.lang.Double[]'>: [None]\n",
      "seriesCount <java class 'java.lang.Double[]'>: [6.0]\n",
      "seriesCount <java class 'java.lang.Double'>: 6.0\n"
     ]
    },
    {
     "name": "stderr",
     "output_type": "stream",
     "text": [
      "[java.lang.Enum.toString] LIFReader initializing C:\\Users\\confocal_microscope\\Desktop\\PyImageJ-test-data\\20220610_CE001_palmskin_8dpf.lif\n",
      "[java.lang.Enum.toString] Reading header\n",
      "[java.lang.Enum.toString] Finding image offsets\n",
      "[java.lang.Enum.toString] [WARN] Unknown Immersion value 'null' will be stored as \"Other\"\n",
      "[java.lang.Enum.toString] [WARN] Unknown Correction value 'null' will be stored as \"Other\"\n",
      "[java.lang.Enum.toString] [WARN] Unknown Immersion value 'null' will be stored as \"Other\"\n",
      "[java.lang.Enum.toString] [WARN] Unknown Correction value 'null' will be stored as \"Other\"\n",
      "[java.lang.Enum.toString] [WARN] Unknown Immersion value 'null' will be stored as \"Other\"\n",
      "[java.lang.Enum.toString] [WARN] Unknown Correction value 'null' will be stored as \"Other\"\n",
      "[java.lang.Enum.toString] [WARN] Unknown Immersion value 'null' will be stored as \"Other\"\n",
      "[java.lang.Enum.toString] [WARN] Unknown Correction value 'null' will be stored as \"Other\"\n",
      "[java.lang.Enum.toString] [WARN] Unknown Immersion value 'null' will be stored as \"Other\"\n",
      "[java.lang.Enum.toString] [WARN] Unknown Correction value 'null' will be stored as \"Other\"\n",
      "[java.lang.Enum.toString] [WARN] Unknown Immersion value 'null' will be stored as \"Other\"\n",
      "[java.lang.Enum.toString] [WARN] Unknown Correction value 'null' will be stored as \"Other\"\n"
     ]
    }
   ],
   "source": [
    "lif_path = r\"C:\\Users\\confocal_microscope\\Desktop\\PyImageJ-test-data\\20220610_CE001_palmskin_8dpf.lif\"\n",
    "\n",
    "bio_formats_loci = sj.jimport(\"loci.plugins.macro.LociFunctions\")\n",
    "Ext = bio_formats_loci()\n",
    "\n",
    "Ext.setId(lif_path)\n",
    "\n",
    "seriesCount = jpype.java.lang.Double[1]\n",
    "print(f'seriesCount {type(seriesCount)}: {seriesCount}')\n",
    "Ext.getSeriesCount(seriesCount)\n",
    "print(f'seriesCount {type(seriesCount)}: {seriesCount}')\n",
    "\n",
    "seriesCount = seriesCount[0]\n",
    "print(f'seriesCount {type(seriesCount)}: {seriesCount}')\n",
    "Ext.close()"
   ]
  },
  {
   "cell_type": "code",
   "execution_count": 5,
   "metadata": {},
   "outputs": [
    {
     "name": "stderr",
     "output_type": "stream",
     "text": [
      "[java.lang.Enum.toString] LIFReader initializing C:\\Users\\confocal_microscope\\Desktop\\PyImageJ-test-data\\20220610_CE001_palmskin_8dpf.lif\n",
      "[java.lang.Enum.toString] Reading header\n",
      "[java.lang.Enum.toString] Finding image offsets\n",
      "[java.lang.Enum.toString] [WARN] Unknown Immersion value 'null' will be stored as \"Other\"\n"
     ]
    },
    {
     "name": "stdout",
     "output_type": "stream",
     "text": [
      "seriesCount <java class 'JInt'>: 6\n"
     ]
    },
    {
     "name": "stderr",
     "output_type": "stream",
     "text": [
      "[java.lang.Enum.toString] [WARN] Unknown Correction value 'null' will be stored as \"Other\"\n",
      "[java.lang.Enum.toString] [WARN] Unknown Immersion value 'null' will be stored as \"Other\"\n",
      "[java.lang.Enum.toString] [WARN] Unknown Correction value 'null' will be stored as \"Other\"\n",
      "[java.lang.Enum.toString] [WARN] Unknown Immersion value 'null' will be stored as \"Other\"\n",
      "[java.lang.Enum.toString] [WARN] Unknown Correction value 'null' will be stored as \"Other\"\n",
      "[java.lang.Enum.toString] [WARN] Unknown Immersion value 'null' will be stored as \"Other\"\n",
      "[java.lang.Enum.toString] [WARN] Unknown Correction value 'null' will be stored as \"Other\"\n",
      "[java.lang.Enum.toString] [WARN] Unknown Immersion value 'null' will be stored as \"Other\"\n",
      "[java.lang.Enum.toString] [WARN] Unknown Correction value 'null' will be stored as \"Other\"\n",
      "[java.lang.Enum.toString] [WARN] Unknown Immersion value 'null' will be stored as \"Other\"\n",
      "[java.lang.Enum.toString] [WARN] Unknown Correction value 'null' will be stored as \"Other\"\n"
     ]
    }
   ],
   "source": [
    "lif_path = r\"C:\\Users\\confocal_microscope\\Desktop\\PyImageJ-test-data\\20220610_CE001_palmskin_8dpf.lif\"\n",
    "\n",
    "ImageReader = sj.jimport(\"loci.formats.ImageReader\")\n",
    "Reader = ImageReader()\n",
    "\n",
    "Reader.setId(lif_path)\n",
    "seriesCount = Reader.getSeriesCount()\n",
    "print(f'seriesCount {type(seriesCount)}: {seriesCount}')"
   ]
  }
 ],
 "metadata": {
  "kernelspec": {
   "display_name": "zebrafish",
   "language": "python",
   "name": "python3"
  },
  "language_info": {
   "codemirror_mode": {
    "name": "ipython",
    "version": 3
   },
   "file_extension": ".py",
   "mimetype": "text/x-python",
   "name": "python",
   "nbconvert_exporter": "python",
   "pygments_lexer": "ipython3",
   "version": "3.8.10"
  },
  "orig_nbformat": 4,
  "vscode": {
   "interpreter": {
    "hash": "ae46fe3be2f97d3a16702042bc6c7abd422dd0bfb5ce5527ad30c3a287e1c756"
   }
  }
 },
 "nbformat": 4,
 "nbformat_minor": 2
}
