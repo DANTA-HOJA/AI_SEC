{
 "cells": [
  {
   "cell_type": "markdown",
   "metadata": {},
   "source": [
    "# Initialize PyImageJ"
   ]
  },
  {
   "cell_type": "code",
   "execution_count": 1,
   "metadata": {},
   "outputs": [],
   "source": [
    "# Import module\n",
    "import jpype\n",
    "# Enable Java imports\n",
    "import jpype.imports\n",
    "# Pull in types\n",
    "from jpype.types import *\n",
    "\n",
    "import scyjava as sj # scyjava : Supercharged Java access from Python, see https://github.com/scijava/scyjava\n",
    "import imagej\n",
    "\n",
    "# Configurations\n",
    "# NOTE: The ImageJ2 gateway is initialized through a Java Virtual Machine (JVM). If you want to configure the JVM, it must be done before initializing an ImageJ2 gateway.\n",
    "# sj.config.add_option('-Xmx10g') # adjust memory available to Java\n",
    "sj.config.endpoints.append('ome:formats-gpl:6.11.1')"
   ]
  },
  {
   "cell_type": "code",
   "execution_count": 2,
   "metadata": {},
   "outputs": [
    {
     "name": "stdout",
     "output_type": "stream",
     "text": [
      "ImageJ2 2.9.0/1.54b; Java 1.8.0_362 [amd64]; 196MB of 14542MB\n"
     ]
    }
   ],
   "source": [
    "Fiji_Local = r\"C:\\Users\\confocal_microscope\\Desktop\\Tools\\Fiji.app\"\n",
    "\n",
    "# ij = imagej.init(Fiji_Local) # Same as \"ij = imagej.init(Fiji_Local, mode='headless')\", PyImageJ’s default mode is headless\n",
    "# ij = imagej.init(Fiji_Local, mode='gui') # GUI mode (會卡在這一行 -> blocking), for more explainations : https://pyimagej.readthedocs.io/en/latest/Initialization.html#gui-mode\n",
    "ij = imagej.init(Fiji_Local, mode='interactive') # Interactive mode (可以繼續向下執行 -> non-blocking), for more explainations : https://pyimagej.readthedocs.io/en/latest/Initialization.html#interactive-mode\n",
    "ij.ui().showUI() # display the Fiji GUI\n",
    "\n",
    "print(ij.getApp().getInfo(True)) # ImageJ2 2.9.0/1.54b"
   ]
  },
  {
   "cell_type": "markdown",
   "metadata": {},
   "source": [
    "# Import Customized modules and Create ImageJ Object"
   ]
  },
  {
   "cell_type": "code",
   "execution_count": 3,
   "metadata": {},
   "outputs": [],
   "source": [
    "import os\n",
    "import sys\n",
    "import re\n",
    "from typing import TextIO\n",
    "from datetime import datetime\n",
    "\n",
    "from glob import glob\n",
    "import logging\n",
    "from skimage.io import imread, imshow, imsave\n",
    "\n",
    "\n",
    "sys.path.append(r\"C:\\Users\\confocal_microscope\\Desktop\\ZebraFish_AP_POS\\modules\") # add path to scan customized module\n",
    "\n",
    "from logger import init_logger\n",
    "from fileop import create_new_dir\n",
    "from composite_ij import dump_info, median_R1_and_mean3D_R2"
   ]
  },
  {
   "cell_type": "code",
   "execution_count": 4,
   "metadata": {},
   "outputs": [],
   "source": [
    "# Bio-Format Reader\n",
    "loci = jpype.JPackage(\"loci\")\n",
    "loci.common.DebugTools.setRootLevel(\"ERROR\")\n",
    "Reader = loci.formats.ImageReader()\n",
    "\n",
    "# [IMPORTANT] some ImageJ plugins need to be new before use\n",
    "from ij.plugin.frame import RoiManager\n",
    "from ij.plugin import ImageCalculator\n",
    "from ij.plugin import ChannelSplitter\n",
    "from ij.plugin import ZProjector\n",
    "from ij.plugin import RGBStackMerge\n",
    "from ij.plugin import RGBStackConverter\n",
    "\n",
    "rm = RoiManager()\n",
    "imageCalculator = ImageCalculator()\n",
    "channelSplitter = ChannelSplitter()\n",
    "zProjector = ZProjector()\n",
    "rgbStackMerge = RGBStackMerge()\n",
    "rgbStackConverter = RGBStackConverter()"
   ]
  },
  {
   "cell_type": "code",
   "execution_count": 5,
   "metadata": {},
   "outputs": [],
   "source": [
    "log = init_logger(r\"ImageJ\")"
   ]
  },
  {
   "cell_type": "markdown",
   "metadata": {},
   "source": [
    "# Start Process"
   ]
  }
 ],
 "metadata": {
  "kernelspec": {
   "display_name": "zebrafish",
   "language": "python",
   "name": "python3"
  },
  "language_info": {
   "codemirror_mode": {
    "name": "ipython",
    "version": 3
   },
   "file_extension": ".py",
   "mimetype": "text/x-python",
   "name": "python",
   "nbconvert_exporter": "python",
   "pygments_lexer": "ipython3",
   "version": "3.8.10"
  },
  "orig_nbformat": 4,
  "vscode": {
   "interpreter": {
    "hash": "ae46fe3be2f97d3a16702042bc6c7abd422dd0bfb5ce5527ad30c3a287e1c756"
   }
  }
 },
 "nbformat": 4,
 "nbformat_minor": 2
}
