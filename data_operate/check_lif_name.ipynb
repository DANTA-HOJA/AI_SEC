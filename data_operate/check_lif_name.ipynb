{
 "cells": [
  {
   "cell_type": "markdown",
   "metadata": {},
   "source": [
    "# Initialize PyImageJ"
   ]
  },
  {
   "cell_type": "code",
   "execution_count": 1,
   "metadata": {},
   "outputs": [],
   "source": [
    "# Import module\n",
    "import jpype\n",
    "# Enable Java imports\n",
    "import jpype.imports\n",
    "# Pull in types\n",
    "from jpype.types import *\n",
    "\n",
    "import scyjava as sj # scyjava : Supercharged Java access from Python, see https://github.com/scijava/scyjava\n",
    "import imagej\n",
    "\n",
    "# Configurations\n",
    "# NOTE: The ImageJ2 gateway is initialized through a Java Virtual Machine (JVM). If you want to configure the JVM, it must be done before initializing an ImageJ2 gateway.\n",
    "# sj.config.add_option('-Xmx10g') # adjust memory available to Java\n",
    "sj.config.endpoints.append('ome:formats-gpl:6.11.1')"
   ]
  },
  {
   "cell_type": "code",
   "execution_count": 2,
   "metadata": {},
   "outputs": [
    {
     "name": "stdout",
     "output_type": "stream",
     "text": [
      "ImageJ2 2.9.0/1.54b; Java 1.8.0_362 [amd64]; 203MB of 14542MB\n"
     ]
    }
   ],
   "source": [
    "Fiji_Local = r\"C:\\Users\\confocal_microscope\\Desktop\\Tools\\Fiji.app\"\n",
    "\n",
    "# ij = imagej.init(Fiji_Local) # Same as \"ij = imagej.init(Fiji_Local, mode='headless')\", PyImageJ’s default mode is headless\n",
    "# ij = imagej.init(Fiji_Local, mode='gui') # GUI mode (會卡在這一行 -> blocking), for more explainations : https://pyimagej.readthedocs.io/en/latest/Initialization.html#gui-mode\n",
    "ij = imagej.init(Fiji_Local, mode='interactive') # Interactive mode (可以繼續向下執行 -> non-blocking), for more explainations : https://pyimagej.readthedocs.io/en/latest/Initialization.html#interactive-mode\n",
    "ij.ui().showUI() # display the Fiji GUI\n",
    "\n",
    "print(ij.getApp().getInfo(True)) # ImageJ2 2.9.0/1.54b"
   ]
  },
  {
   "cell_type": "markdown",
   "metadata": {},
   "source": [
    "# Import Customized modules and Create ImageJ Object"
   ]
  },
  {
   "cell_type": "code",
   "execution_count": 3,
   "metadata": {},
   "outputs": [],
   "source": [
    "import os\n",
    "import sys\n",
    "import re\n",
    "from typing import TextIO\n",
    "from datetime import datetime\n",
    "from glob import glob\n",
    "\n",
    "import json\n",
    "import logging\n",
    "from skimage.io import imread, imshow, imsave\n",
    "\n",
    "\n",
    "sys.path.append(r\"C:\\Users\\confocal_microscope\\Desktop\\ZebraFish_AP_POS\\modules\") # add path to scan customized module\n",
    "\n",
    "from logger import init_logger\n",
    "from lifcheck import check_image_name"
   ]
  },
  {
   "cell_type": "code",
   "execution_count": 4,
   "metadata": {},
   "outputs": [],
   "source": [
    "# Bio-Format Reader\n",
    "loci = jpype.JPackage(\"loci\")\n",
    "loci.common.DebugTools.setRootLevel(\"ERROR\")\n",
    "Reader = loci.formats.ImageReader()"
   ]
  },
  {
   "cell_type": "code",
   "execution_count": 5,
   "metadata": {},
   "outputs": [],
   "source": [
    "log = init_logger(r\"Check Lif Name\")"
   ]
  },
  {
   "attachments": {},
   "cell_type": "markdown",
   "metadata": {},
   "source": [
    "# Run"
   ]
  },
  {
   "cell_type": "code",
   "execution_count": 4,
   "metadata": {},
   "outputs": [],
   "source": [
    "nas_data_root = r\"C:\\Users\\confocal_microscope\\Desktop\\{NAS_DL}_Academia_Sinica_Data\" # constant\n",
    "ap_data_dir = r\"{20230301_Update}_Zebrafish_A_P_strategies\"\n",
    "image_type = \"BrightField_RAW\" # BrightField_RAW / palmskin_RGB_RAW\n",
    "upload_date = \"Upload_20230301\"\n",
    "\n",
    "raw_lif_dir = os.path.join(nas_data_root, ap_data_dir, image_type, upload_date)"
   ]
  },
  {
   "cell_type": "code",
   "execution_count": null,
   "metadata": {},
   "outputs": [],
   "source": [
    "lif_path_list = glob(os.path.normpath(f\"{raw_lif_dir}/*.lif\"))\n",
    "log.info(f'lif_path_list [ found {len(lif_path_list)} files ]: {lif_path_list},  \\n')\n",
    "\n",
    "\n",
    "for i, lif_path in enumerate(lif_path_list):\n",
    "    \n",
    "    log.info(f\"Processing ... {i+1}/{len(lif_path_list)}\")\n",
    "    log.info(f'LIF_FILE : {lif_path}')\n",
    "    \n",
    "    Reader.setId(lif_path)\n",
    "    seriesCount = Reader.getSeriesCount()\n",
    "    \n",
    "    for idx in range(seriesCount):\n",
    "        \n",
    "        SeriesNum = idx+1\n",
    "        \n",
    "        ij.IJ.run(\"Bio-Formats Importer\", f\"open='{lif_path}' color_mode=Default rois_import=[ROI manager] view=Hyperstack stack_order=XYCZT series_{SeriesNum}\")\n",
    "        img = ij.WindowManager.getCurrentImage() # get image, <java class 'ij.ImagePlus'>\n",
    "        # dump_info(img)\n",
    "        # img.show()\n",
    "        img.hide()\n",
    "        \n",
    "        \n",
    "        # Get names and image dimensions\n",
    "        \n",
    "        # Consociate \"palmskin_RGB_RAW\" file_name\n",
    "        file_name = lif_path.split(os.sep)[-1].split(\".\")[0]\n",
    "        file_name_list = re.split(\" |_|-\", file_name)\n",
    "        assert len(file_name_list) == 4, f\"file_name format error, current : '{file_name}', expect like : '20221125_AI005_palmskin_10dpf.lif'\"\n",
    "        file_name = \"_\".join(file_name_list)\n",
    "        \n",
    "        # Get Prop(\"Image name\")\n",
    "        image_name = img.getProp(\"Image name\")\n",
    "        image_name = str(image_name)\n",
    "        \n",
    "        # Check format of 'image_name'\n",
    "        image_name_list = re.split(\" |_|-\", image_name)\n",
    "        \n",
    "        \n",
    "        if image_type == \"BrightField_RAW\":\n",
    "            name_format_list = re.findall(\"[BF]\", image_name)\n",
    "            # print(name_format_list)\n",
    "            if len(name_format_list) > 0: failed_cnt, check_dict = check_image_name(image_name_list, \"new_bf\")\n",
    "            else: failed_cnt, check_dict = check_image_name(image_name_list, \"old_bf\")\n",
    "        \n",
    "            # Consociate image_name\n",
    "            if (check_dict[\"    format_and_type     \"] == \"old_bf\") and (failed_cnt == 0): # name check passed, generate new name\n",
    "                image_name_list.pop(3) # palmskin (old name only)\n",
    "                image_name_list.pop(3) # [num]dpf (old name only)\n",
    "                image_name_list.append(\"BF\")\n",
    "            image_name = \"_\".join(image_name_list)\n",
    "        \n",
    "        \n",
    "        if image_type == \"palmskin_RGB_RAW\":\n",
    "            name_format_list = re.findall(\"[RGB]\", image_name)\n",
    "            # print(name_format_list)\n",
    "            if len(name_format_list) > 0: failed_cnt, check_dict = check_image_name(image_name_list, \"new_rgb\")\n",
    "            else: failed_cnt, check_dict = check_image_name(image_name_list, \"old_rgb\")\n",
    "\n",
    "            # Consociate image_name\n",
    "            if (check_dict[\"    format_and_type     \"] == \"old_rgb\") and (failed_cnt == 0): # name check passed, generate new name\n",
    "                image_name_list.pop(3) # palmskin (old name only)\n",
    "                image_name_list.pop(3) # [num]dpf (old name only)\n",
    "                image_name_list.append(\"RGB\")\n",
    "            image_name = \"_\".join(image_name_list)\n",
    "        \n",
    "        \n",
    "        # Combine 2 names above\n",
    "        seN = f\"{file_name} - {image_name}\"\n",
    "        \n",
    "        # Get dimension info\n",
    "        img_dimensions = img.getDimensions()\n",
    "        \n",
    "        log.info(f\"series {SeriesNum:{len(str(seriesCount))}}/{seriesCount} : '{seN}' , Dimensions : {img_dimensions} ( width, height, channels, slices, frames )\")\n",
    "        \n",
    "        # Print ERRORs when checking 'image_name'\n",
    "        if failed_cnt == -1 : log.info(check_dict[\"  len(image_name_list)  \"])\n",
    "        if failed_cnt  >  0 : log.info(check_dict[\"     failed warning     \"])\n",
    "        \n",
    "        \n",
    "    log.info(\"\\n\")\n",
    "\n",
    "\n",
    "log.info(\" -- finished --\")"
   ]
  }
 ],
 "metadata": {
  "kernelspec": {
   "display_name": "zebrafish",
   "language": "python",
   "name": "python3"
  },
  "language_info": {
   "codemirror_mode": {
    "name": "ipython",
    "version": 3
   },
   "file_extension": ".py",
   "mimetype": "text/x-python",
   "name": "python",
   "nbconvert_exporter": "python",
   "pygments_lexer": "ipython3",
   "version": "3.8.10"
  },
  "orig_nbformat": 4
 },
 "nbformat": 4,
 "nbformat_minor": 2
}
