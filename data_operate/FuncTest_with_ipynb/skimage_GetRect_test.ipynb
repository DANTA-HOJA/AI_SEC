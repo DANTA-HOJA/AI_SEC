{
 "cells": [
  {
   "cell_type": "code",
   "execution_count": 10,
   "metadata": {},
   "outputs": [],
   "source": [
    "import os\n",
    "from glob import glob\n",
    "import re\n",
    "from typing import *\n",
    "\n",
    "import numpy as np\n",
    "from skimage import morphology, measure\n",
    "from skimage.measure import label, regionprops, regionprops_table\n",
    "from skimage.io import imread, imshow, imsave\n",
    "from skimage.draw import rectangle"
   ]
  },
  {
   "cell_type": "code",
   "execution_count": 27,
   "metadata": {},
   "outputs": [
    {
     "name": "stdout",
     "output_type": "stream",
     "text": [
      "(1024, 1024)\n",
      "<class 'numpy.ndarray'>\n",
      "40\n",
      "outer --> min_X, max_X, min_Y, max_Y = 220, 852, 492, 1023\n",
      "inner --> min_X, max_X = 253, 822\n"
     ]
    }
   ],
   "source": [
    "img_path = r\"C:\\Users\\confocal_microscope\\Desktop\\{TEMP}_img_process\\Remove_2Side_Black\\04_BW5_HE_MED_20220613 CE001 palmskin_11dpf.lif - Series001 fish 7 palmskin_11dpf_A-1.tif\"\n",
    "\n",
    "img = imread(img_path)\n",
    "print(img.shape)\n",
    "print(type(img))\n",
    "\n",
    "\n",
    "\n",
    "def create_rect(img: np.ndarray, relative_pos:str) -> np.ndarray:\n",
    "    \n",
    "    if (relative_pos!= \"inner\") and (relative_pos!=\"outer\"): raise ValueError(\"relative_pos can only be 'inner' or 'outer'. \")\n",
    "    \n",
    "    contours = measure.find_contours(img)\n",
    "    print(len(contours))\n",
    "    \n",
    "    # Get all contours' coordinate\n",
    "    all_coord = []\n",
    "    for contour in contours:\n",
    "        # print(len(contour))\n",
    "        for pt in contour:\n",
    "            all_coord.append(pt)\n",
    "            # print(pt)\n",
    "        # print(len(all_coord))\n",
    "    \n",
    "    # Find pt of outer rectangle\n",
    "    max_Y = img.shape[1]/2\n",
    "    min_Y = img.shape[1]/2\n",
    "    max_X = img.shape[0]/2\n",
    "    min_X = img.shape[0]/2\n",
    "    for pt in all_coord:\n",
    "        if pt[0] > max_Y: max_Y = int(pt[0])\n",
    "        if pt[0] < min_Y: min_Y = int(pt[0])\n",
    "        if pt[1] > max_X: max_X = int(pt[1])\n",
    "        if pt[1] < min_X: min_X = int(pt[1])    \n",
    "    print(f\"outer --> min_X, max_X, min_Y, max_Y = {min_X}, {max_X}, {min_Y}, {max_Y}\")\n",
    "    \n",
    "    # Find pt of inner rectangle\n",
    "    if relative_pos == \"inner\":\n",
    "        middle_X = (max_X - min_X)/2\n",
    "        bone_L = middle_X-50\n",
    "        bone_R = middle_X+50\n",
    "        max_X = img.shape[0]\n",
    "        min_X = 0\n",
    "        for pt in all_coord:\n",
    "            if (pt[1] > bone_R) and (pt[1] < max_X): max_X = int(pt[1])\n",
    "            if (pt[1] < bone_L) and (pt[1] > min_X): min_X = int(pt[1])\n",
    "    print(f\"inner --> min_X, max_X = {min_X}, {max_X}\")\n",
    "    \n",
    "    # Make rectangle image\n",
    "    rr, cc = rectangle(start=(0, min_X), end=(1024, max_X), shape=img.shape)\n",
    "    # print(rr, cc)\n",
    "    rect = np.zeros_like(img)\n",
    "    rect[rr, cc] = 255\n",
    "    \n",
    "    return rect\n",
    "\n",
    "\n",
    "inner_rect = create_rect(img, \"inner\")\n",
    "imsave(r\"C:\\Users\\confocal_microscope\\Desktop\\BW5_inner_Rect.tif\", inner_rect)\n",
    "\n",
    "# outer_rect = create_rect(img)\n",
    "# imsave(r\"C:\\Users\\confocal_microscope\\Desktop\\BW5_outer_Rect.tif\", outer_rect)\n"
   ]
  },
  {
   "cell_type": "code",
   "execution_count": 1,
   "metadata": {},
   "outputs": [
    {
     "name": "stdout",
     "output_type": "stream",
     "text": [
      "c:\\Users\\confocal_microscope\\Desktop\\ZebraFish_AP_POS\\data_operate\\stacked_palmskin_RGB\n",
      "c:\\Users\\confocal_microscope\\.conda\\envs\\zebrafish\\python38.zip\n",
      "c:\\Users\\confocal_microscope\\.conda\\envs\\zebrafish\\DLLs\n",
      "c:\\Users\\confocal_microscope\\.conda\\envs\\zebrafish\\lib\n",
      "c:\\Users\\confocal_microscope\\.conda\\envs\\zebrafish\n",
      "\n",
      "c:\\Users\\confocal_microscope\\.conda\\envs\\zebrafish\\lib\\site-packages\n",
      "c:\\Users\\confocal_microscope\\.conda\\envs\\zebrafish\\lib\\site-packages\\win32\n",
      "c:\\Users\\confocal_microscope\\.conda\\envs\\zebrafish\\lib\\site-packages\\win32\\lib\n",
      "c:\\Users\\confocal_microscope\\.conda\\envs\\zebrafish\\lib\\site-packages\\Pythonwin\n",
      "sys.path = [\n",
      "    'c:\\\\Users\\\\confocal_microscope\\\\Desktop\\\\ZebraFish_AP_POS\\\\data_operate\\\\stacked_palmskin_RGB',\n",
      "    'c:\\\\Users\\\\confocal_microscope\\\\.conda\\\\envs\\\\zebrafish\\\\python38.zip',\n",
      "    'c:\\\\Users\\\\confocal_microscope\\\\.conda\\\\envs\\\\zebrafish\\\\DLLs',\n",
      "    'c:\\\\Users\\\\confocal_microscope\\\\.conda\\\\envs\\\\zebrafish\\\\lib',\n",
      "    'c:\\\\Users\\\\confocal_microscope\\\\.conda\\\\envs\\\\zebrafish',\n",
      "    'c:\\\\Users\\\\confocal_microscope\\\\.conda\\\\envs\\\\zebrafish\\\\lib\\\\site-packages',\n",
      "    'c:\\\\Users\\\\confocal_microscope\\\\.conda\\\\envs\\\\zebrafish\\\\lib\\\\site-packages\\\\win32',\n",
      "    'c:\\\\Users\\\\confocal_microscope\\\\.conda\\\\envs\\\\zebrafish\\\\lib\\\\site-packages\\\\win32\\\\lib',\n",
      "    'c:\\\\Users\\\\confocal_microscope\\\\.conda\\\\envs\\\\zebrafish\\\\lib\\\\site-packages\\\\Pythonwin',\n",
      "]\n",
      "USER_BASE: 'C:\\\\Users\\\\confocal_microscope\\\\AppData\\\\Roaming\\\\Python' (exists)\n",
      "USER_SITE: 'C:\\\\Users\\\\confocal_microscope\\\\AppData\\\\Roaming\\\\Python\\\\Python38\\\\site-packages' (doesn't exist)\n",
      "ENABLE_USER_SITE: True\n"
     ]
    }
   ],
   "source": [
    "import sys\n",
    "\n",
    "for i in sys.path: print(i)\n",
    "\n",
    "!python -m site"
   ]
  }
 ],
 "metadata": {
  "kernelspec": {
   "display_name": "zebrafish",
   "language": "python",
   "name": "python3"
  },
  "language_info": {
   "codemirror_mode": {
    "name": "ipython",
    "version": 3
   },
   "file_extension": ".py",
   "mimetype": "text/x-python",
   "name": "python",
   "nbconvert_exporter": "python",
   "pygments_lexer": "ipython3",
   "version": "3.8.10"
  },
  "orig_nbformat": 4,
  "vscode": {
   "interpreter": {
    "hash": "ae46fe3be2f97d3a16702042bc6c7abd422dd0bfb5ce5527ad30c3a287e1c756"
   }
  }
 },
 "nbformat": 4,
 "nbformat_minor": 2
}
