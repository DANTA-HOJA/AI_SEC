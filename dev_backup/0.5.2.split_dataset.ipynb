{
 "cells": [
  {
   "cell_type": "code",
   "execution_count": 1,
   "metadata": {},
   "outputs": [],
   "source": [
    "import sys\n",
    "from pathlib import Path\n",
    "\n",
    "import pandas as pd\n",
    "from rich import print\n",
    "from rich.panel import Panel\n",
    "from rich.pretty import Pretty\n",
    "\n",
    "abs_module_path = Path(\"./../../\").resolve()\n",
    "if (abs_module_path.exists()) and (str(abs_module_path) not in sys.path):\n",
    "    sys.path.append(str(abs_module_path)) # add path to scan customized module\n",
    "\n",
    "from modules.data.processeddatainstance import ProcessedDataInstance\n",
    "from modules.shared.clioutput import CLIOutput\n",
    "from modules.shared.config import load_config\n",
    "from modules.shared.utils import get_repo_root"
   ]
  },
  {
   "cell_type": "code",
   "execution_count": 2,
   "metadata": {},
   "outputs": [
    {
     "data": {
      "text/html": [
       "<pre style=\"white-space:pre;overflow-x:auto;line-height:normal;font-family:Menlo,'DejaVu Sans Mono',consolas,'Courier New',monospace\">Repository: <span style=\"color: #008000; text-decoration-color: #008000\">'c:\\Users\\confocal_microscope\\Desktop\\ZebraFish_AP_POS'</span>\n",
       "</pre>\n"
      ],
      "text/plain": [
       "Repository: \u001b[32m'c:\\Users\\confocal_microscope\\Desktop\\ZebraFish_AP_POS'\u001b[0m\n"
      ]
     },
     "metadata": {},
     "output_type": "display_data"
    }
   ],
   "source": [
    "\"\"\" Detect Repository \"\"\"\n",
    "print(f\"Repository: '{get_repo_root()}'\")"
   ]
  },
  {
   "cell_type": "code",
   "execution_count": 3,
   "metadata": {},
   "outputs": [],
   "source": [
    "training_ratio = 0.8\n",
    "train_ratio = 0.9"
   ]
  },
  {
   "cell_type": "code",
   "execution_count": 4,
   "metadata": {},
   "outputs": [],
   "source": [
    "# set variables\n",
    "cli_out = CLIOutput()\n",
    "cli_out._set_logger(\"Split Dataset\")\n",
    "config = load_config(\"0.5.cluster_data.toml\")\n",
    "random_seed = config[\"cluster\"][\"random_seed\"]"
   ]
  },
  {
   "cell_type": "code",
   "execution_count": 5,
   "metadata": {},
   "outputs": [
    {
     "name": "stdout",
     "output_type": "stream",
     "text": [
      "\n",
      "\u001b[32m====================================================================================================\u001b[0m\n",
      "\n",
      "| 2024-01-10 08:42:20,031 | Processed Data Instance | INFO | Instance Root: 'C:\\Users\\confocal_microscope\\Desktop\\WorkingDir\\ZebraFish_DB\\{Data}_Processed\\{20230904_update}_Academia_Sinica_i85'\n",
      "| 2024-01-10 08:42:20,031 | Processed Data Instance | INFO | Palmskin Processed Dir: 'C:\\Users\\confocal_microscope\\Desktop\\WorkingDir\\ZebraFish_DB\\{Data}_Processed\\{20230904_update}_Academia_Sinica_i85\\{m113_m222_ku15}_PalmSkin_preprocess'\n",
      "| 2024-01-10 08:42:20,032 | Processed Data Instance | INFO | Brightfield Processed Dir: 'C:\\Users\\confocal_microscope\\Desktop\\WorkingDir\\ZebraFish_DB\\{Data}_Processed\\{20230904_update}_Academia_Sinica_i85\\{autothres_triangle}_BrightField_analyze'\n",
      "| 2024-01-10 08:42:20,046 | Processed Data Instance | INFO | Brightfield Recollect Dir: 'C:\\Users\\confocal_microscope\\Desktop\\WorkingDir\\ZebraFish_DB\\{Data}_Processed\\{20230904_update}_Academia_Sinica_i85\\{autothres_triangle}_BrightField_reCollection'\n",
      "| 2024-01-10 08:42:20,046 | Processed Data Instance | INFO | data.csv : 'C:\\Users\\confocal_microscope\\Desktop\\WorkingDir\\ZebraFish_DB\\{Data}_Processed\\{20230904_update}_Academia_Sinica_i85\\data.csv'\n",
      "\n",
      "\u001b[32m====================================================================================================\u001b[0m\n",
      "\n"
     ]
    }
   ],
   "source": [
    "# read `data.csv`\n",
    "processed_di = ProcessedDataInstance()\n",
    "processed_di.parse_config(config)\n",
    "df = pd.read_csv(processed_di.tabular_file, encoding='utf_8_sig', index_col=[0])\n",
    "cli_out.divide()"
   ]
  },
  {
   "cell_type": "code",
   "execution_count": 6,
   "metadata": {},
   "outputs": [],
   "source": [
    "training_df: pd.DataFrame = df.sample(frac=training_ratio, replace=False, random_state=random_seed)\n",
    "test_df: pd.DataFrame = df[~df.index.isin(training_df.index)]\n",
    "\n",
    "train_df: pd.DataFrame = training_df.sample(frac=train_ratio, replace=False, random_state=random_seed)\n",
    "valid_df: pd.DataFrame = training_df[~training_df.index.isin(train_df.index)]"
   ]
  },
  {
   "cell_type": "code",
   "execution_count": 7,
   "metadata": {},
   "outputs": [
    {
     "data": {
      "text/html": [
       "<pre style=\"white-space:pre;overflow-x:auto;line-height:normal;font-family:Menlo,'DejaVu Sans Mono',consolas,'Courier New',monospace\">╭──────────────────────────────────────────────────────────────────────────────────────────────────╮\n",
       "│ <span style=\"font-weight: bold\">{</span>                                                                                                │\n",
       "│     <span style=\"color: #008000; text-decoration-color: #008000\">'original_df'</span>: <span style=\"color: #008080; text-decoration-color: #008080; font-weight: bold\">41</span>,                                                                           │\n",
       "│     <span style=\"color: #008000; text-decoration-color: #008000\">'training_df'</span>: <span style=\"color: #008080; text-decoration-color: #008080; font-weight: bold\">33</span>,                                                                           │\n",
       "│     <span style=\"color: #008000; text-decoration-color: #008000\">'train_df'</span>: <span style=\"color: #008080; text-decoration-color: #008080; font-weight: bold\">30</span>,                                                                              │\n",
       "│     <span style=\"color: #008000; text-decoration-color: #008000\">'test_df'</span>: <span style=\"color: #008080; text-decoration-color: #008080; font-weight: bold\">8</span>,                                                                                │\n",
       "│     <span style=\"color: #008000; text-decoration-color: #008000\">'valid_df'</span>: <span style=\"color: #008080; text-decoration-color: #008080; font-weight: bold\">3</span>                                                                                │\n",
       "│ <span style=\"font-weight: bold\">}</span>                                                                                                │\n",
       "╰──────────────────────────────────────────────────────────────────────────────────────────────────╯\n",
       "</pre>\n"
      ],
      "text/plain": [
       "╭──────────────────────────────────────────────────────────────────────────────────────────────────╮\n",
       "│ \u001b[1m{\u001b[0m                                                                                                │\n",
       "│     \u001b[32m'original_df'\u001b[0m: \u001b[1;36m41\u001b[0m,                                                                           │\n",
       "│     \u001b[32m'training_df'\u001b[0m: \u001b[1;36m33\u001b[0m,                                                                           │\n",
       "│     \u001b[32m'train_df'\u001b[0m: \u001b[1;36m30\u001b[0m,                                                                              │\n",
       "│     \u001b[32m'test_df'\u001b[0m: \u001b[1;36m8\u001b[0m,                                                                                │\n",
       "│     \u001b[32m'valid_df'\u001b[0m: \u001b[1;36m3\u001b[0m                                                                                │\n",
       "│ \u001b[1m}\u001b[0m                                                                                                │\n",
       "╰──────────────────────────────────────────────────────────────────────────────────────────────────╯\n"
      ]
     },
     "metadata": {},
     "output_type": "display_data"
    }
   ],
   "source": [
    "# display\n",
    "tmp_dict = {}\n",
    "tmp_dict[\"original_df\"] = len(df)\n",
    "tmp_dict[\"training_df\"] = len(training_df)\n",
    "tmp_dict[\"train_df\"] = len(train_df)\n",
    "tmp_dict[\"test_df\"] = len(test_df)\n",
    "tmp_dict[\"valid_df\"] = len(valid_df)\n",
    "print(Panel(Pretty(tmp_dict, expand_all=True), width=100))"
   ]
  },
  {
   "cell_type": "code",
   "execution_count": 8,
   "metadata": {},
   "outputs": [],
   "source": [
    "for idx in train_df.index:\n",
    "    df.loc[idx, \"dataset\"] = \"train\"\n",
    "\n",
    "for idx in valid_df.index:\n",
    "    df.loc[idx, \"dataset\"] = \"valid\"\n",
    "\n",
    "for idx in test_df.index:\n",
    "    df.loc[idx, \"dataset\"] = \"test\""
   ]
  },
  {
   "cell_type": "code",
   "execution_count": 9,
   "metadata": {},
   "outputs": [
    {
     "name": "stdout",
     "output_type": "stream",
     "text": [
      "\n"
     ]
    }
   ],
   "source": [
    "df.to_csv(processed_di.instance_root.joinpath(f\"datasplit_{random_seed}.csv\"), encoding='utf_8_sig')\n",
    "cli_out.new_line()"
   ]
  }
 ],
 "metadata": {
  "kernelspec": {
   "display_name": "zebrafish_py310",
   "language": "python",
   "name": "python3"
  },
  "language_info": {
   "codemirror_mode": {
    "name": "ipython",
    "version": 3
   },
   "file_extension": ".py",
   "mimetype": "text/x-python",
   "name": "python",
   "nbconvert_exporter": "python",
   "pygments_lexer": "ipython3",
   "version": "3.10.12"
  }
 },
 "nbformat": 4,
 "nbformat_minor": 2
}
