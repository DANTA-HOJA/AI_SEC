{
 "cells": [
  {
   "cell_type": "code",
   "execution_count": null,
   "metadata": {},
   "outputs": [],
   "source": [
    "import os\n",
    "import sys\n",
    "import re\n",
    "from copy import deepcopy\n",
    "from typing import List, Dict, Tuple\n",
    "from collections import OrderedDict\n",
    "from glob import glob\n",
    "import json\n",
    "import yaml\n",
    "\n",
    "from tqdm.auto import tqdm\n",
    "import cv2\n",
    "from PIL import Image\n",
    "import numpy as np\n",
    "\n",
    "sys.path.append(r\"C:\\Users\\confocal_microscope\\Desktop\\ZebraFish_AP_POS\\modules\") # add path to scan customized module\n",
    "from fileop import create_new_dir\n",
    "from gallery_utils import draw_x_on_image, draw_predict_ans_on_image\n",
    "from datasetop import sortFishNameForDataset\n",
    "import plt_show\n",
    "\n",
    "# print(\"=\"*100, \"\\n\")"
   ]
  },
  {
   "cell_type": "markdown",
   "metadata": {},
   "source": [
    "Load `make_cam_gallery.yaml`"
   ]
  },
  {
   "cell_type": "code",
   "execution_count": null,
   "metadata": {},
   "outputs": [],
   "source": [
    "with open(\"make_cam_gallery.yaml\", mode=\"r\") as f_reader:\n",
    "    config = yaml.load(f_reader, Loader=yaml.SafeLoader)\n",
    "\n",
    "column = config[\"column\"]\n",
    "\n",
    "line_color = config[\"draw\"][\"line\"][\"color\"]\n",
    "line_width = config[\"draw\"][\"line\"][\"width\"]\n",
    "\n",
    "text_correct_color   = config[\"draw\"][\"text\"][\"color\"][\"correct\"]\n",
    "text_incorrect_color = config[\"draw\"][\"text\"][\"color\"][\"incorrect\"]\n",
    "text_shadow_color    = config[\"draw\"][\"text\"][\"color\"][\"shadow\"]\n",
    "text_font_style      = config[\"draw\"][\"text\"][\"font_style\"]\n",
    "text_font_size       = config[\"draw\"][\"text\"][\"font_size\"] # if None, do auto-detection\n",
    "\n",
    "load_dir_root = config[\"model\"][\"history_root\"]\n",
    "model_name    = config[\"model\"][\"model_name\"]\n",
    "model_history = config[\"model\"][\"history\"]"
   ]
  },
  {
   "attachments": {},
   "cell_type": "markdown",
   "metadata": {},
   "source": [
    "Load `train_config.yaml`"
   ]
  },
  {
   "cell_type": "code",
   "execution_count": null,
   "metadata": {},
   "outputs": [],
   "source": [
    "load_dir = os.path.join(load_dir_root, model_name, model_history)\n",
    "train_config_path = os.path.join(load_dir, r\"train_config.yaml\")\n",
    "\n",
    "with open(train_config_path, mode=\"r\") as f_reader:\n",
    "    train_config = yaml.load(f_reader, Loader=yaml.SafeLoader)\n",
    "\n",
    "dataset_root = os.path.normpath(train_config[\"dataset\"][\"root\"])\n",
    "dataset_name = train_config[\"dataset\"][\"name\"]\n",
    "dataset_gen_method = train_config[\"dataset\"][\"gen_method\"]\n",
    "dataset_param_name = train_config[\"dataset\"][\"param_name\"]"
   ]
  },
  {
   "attachments": {},
   "cell_type": "markdown",
   "metadata": {},
   "source": [
    "Generate `path_vars`"
   ]
  },
  {
   "cell_type": "code",
   "execution_count": null,
   "metadata": {},
   "outputs": [],
   "source": [
    "dataset_dir = os.path.join(dataset_root, dataset_name, dataset_gen_method, dataset_param_name)\n",
    "\n",
    "test_selected_dir = os.path.join(dataset_dir, \"test\", \"selected\")\n",
    "test_drop_dir = os.path.join(dataset_dir, \"test\", \"drop\")\n",
    "\n",
    "# cam_result_root, cam_gallery_dir\n",
    "cam_result_root = os.path.join(load_dir, \"GradCAM_result_with_text\")\n",
    "cam_gallery_dir = os.path.join(load_dir, \"!--- CAM Gallery\")\n",
    "\n",
    "# cam_gallery_class_dir\n",
    "logs_path = os.path.join(dataset_dir, r\"{Logs}_train_selected_summary.log\")\n",
    "with open(logs_path, 'r') as f_reader: class_counts: Dict[str, int] = json.load(f_reader)\n",
    "for key, _ in class_counts.items():\n",
    "    create_new_dir(os.path.join(cam_gallery_dir, key), display_in_CLI=False)"
   ]
  },
  {
   "attachments": {},
   "cell_type": "markdown",
   "metadata": {},
   "source": [
    "Run"
   ]
  },
  {
   "cell_type": "code",
   "execution_count": null,
   "metadata": {},
   "outputs": [],
   "source": [
    "fish_name_for_dataset_list = [ path.split(os.sep)[-1] for path in glob(os.path.normpath(f\"{cam_result_root}/*\")) ]\n",
    "pbar_n_fish = tqdm(total=len(fish_name_for_dataset_list), desc=\"CAM Gallery \")\n",
    "\n",
    "\n",
    "for fish_name_for_dataset in fish_name_for_dataset_list:\n",
    "    \n",
    "    pbar_n_fish.desc = f\"Generate ' {fish_name_for_dataset} ' \"\n",
    "    pbar_n_fish.refresh()\n",
    "    \n",
    "    fish_name_for_dataset_split_list = re.split(\" |_|-\", fish_name_for_dataset)\n",
    "    \n",
    "    test_selected_path_list = glob(os.path.normpath((f\"{test_selected_dir}/{fish_name_for_dataset_split_list[0]}/\"\n",
    "                                                     f\"{fish_name_for_dataset}_selected_*.tiff\")))\n",
    "    \n",
    "    test_drop_path_list = glob(os.path.normpath((f\"{test_drop_dir}/{fish_name_for_dataset_split_list[0]}/\"\n",
    "                                                 f\"{fish_name_for_dataset}_drop_*.tiff\")))\n",
    "\n",
    "    cam_result_path_list = glob(os.path.normpath(f\"{cam_result_root}/{fish_name_for_dataset}/*.tiff\"))\n",
    "    \n",
    "    # read images as Dict[path, cv2.Mat]\n",
    "    test_selected_img_dict = { img_path: cv2.imread(img_path) for img_path in test_selected_path_list }\n",
    "    test_drop_img_dict = { img_path: cv2.imread(img_path) for img_path in test_drop_path_list }\n",
    "    cam_result_img_dict = { img_path: cv2.imread(img_path) for img_path in cam_result_path_list }\n",
    "    \n",
    "    \n",
    "    # draw on 'drop' images\n",
    "    for path, bgr_img in test_drop_img_dict.items():\n",
    "        \n",
    "        drop_image_name = path.split(os.sep)[-1].split(\".\")[0]\n",
    "        # dark_ratio = dark_ratio_dict[fish_name_for_dataset][drop_image_name]\n",
    "\n",
    "        rgb_img = cv2.cvtColor(bgr_img, cv2.COLOR_BGR2RGB)\n",
    "        rgb_img = np.uint8(rgb_img*0.5) # suppress brightness\n",
    "        \n",
    "        rgb_img = Image.fromarray(rgb_img)\n",
    "        draw_x_on_image(rgb_img, line_color, line_width)\n",
    "        # draw_drop_info_on_image(rgb_img, intensity, dark_ratio, drop_ratio,\n",
    "        #                         text_font_style, text_font_size,\n",
    "        #                         text_selected_color,\n",
    "        #                         text_drop_color,\n",
    "        #                         text_shadow_color)\n",
    "        test_drop_img_dict[path] = cv2.cvtColor(np.array(rgb_img), cv2.COLOR_RGB2BGR)\n",
    "    \n",
    "    \n",
    "    # TODO: draw on `cam` file\n",
    "    \n",
    "    \n",
    "    orig_img_dict = deepcopy(test_selected_img_dict)\n",
    "    orig_img_dict.update(test_drop_img_dict)\n",
    "    sorted_orig_img_dict = OrderedDict(sorted(list(orig_img_dict.items()), key=lambda x: sortFishNameForDataset(x[0])))\n",
    "    orig_img_list = [ img for _, img in sorted_orig_img_dict.items() ]\n",
    "    \n",
    "    # plot with 'Auto Row Calculation'\n",
    "    kwargs_plot_with_imglist_auto_row = {\n",
    "        \"img_list\"   : orig_img_list,\n",
    "        \"column\"     : column,\n",
    "        \"fig_dpi\"    : 200,\n",
    "        \"figtitle\"   : f\"( original ) {fish_name_for_dataset} : {orig_img_list[-1].shape[:2]}\",\n",
    "        \"save_path\"  : f\"{cam_gallery_dir}/{fish_name_for_dataset_split_list[0]}/{fish_name_for_dataset}_orig.png\",\n",
    "        \"show_fig\"   : False\n",
    "    }\n",
    "    plt_show.plot_with_imglist_auto_row(**kwargs_plot_with_imglist_auto_row)\n",
    "    \n",
    "    \n",
    "    cam_overlay_img_dict = deepcopy(cam_result_img_dict)\n",
    "    cam_overlay_img_dict.update(test_drop_img_dict)\n",
    "    sorted_cam_overlay_img_dict = OrderedDict(sorted(list(cam_overlay_img_dict.items()), key=lambda x: sortFishNameForDataset(x[0])))\n",
    "    cam_overlay_img_list = [ img for _, img in sorted_cam_overlay_img_dict.items() ]\n",
    "    \n",
    "    # plot with 'Auto Row Calculation'\n",
    "    kwargs_plot_with_imglist_auto_row = {\n",
    "        \"img_list\"   : cam_overlay_img_list,\n",
    "        \"column\"     : column,\n",
    "        \"fig_dpi\"    : 200,\n",
    "        \"figtitle\"  : f\"( cam overlay ) {fish_name_for_dataset} : {cam_overlay_img_list[-1].shape[:2]}\",\n",
    "        \"save_path\"  : f\"{cam_gallery_dir}/{fish_name_for_dataset_split_list[0]}/{fish_name_for_dataset}_overlay.png\",\n",
    "        \"show_fig\"   : False\n",
    "    }\n",
    "    plt_show.plot_with_imglist_auto_row(**kwargs_plot_with_imglist_auto_row)\n",
    "    \n",
    "    \n",
    "    pbar_n_fish.update(1)\n",
    "    pbar_n_fish.refresh()\n",
    "\n",
    "\n",
    "pbar_n_fish.close()"
   ]
  }
 ],
 "metadata": {
  "kernelspec": {
   "display_name": "zebrafish",
   "language": "python",
   "name": "python3"
  },
  "language_info": {
   "codemirror_mode": {
    "name": "ipython",
    "version": 3
   },
   "file_extension": ".py",
   "mimetype": "text/x-python",
   "name": "python",
   "nbconvert_exporter": "python",
   "pygments_lexer": "ipython3",
   "version": "3.8.10"
  },
  "orig_nbformat": 4
 },
 "nbformat": 4,
 "nbformat_minor": 2
}
