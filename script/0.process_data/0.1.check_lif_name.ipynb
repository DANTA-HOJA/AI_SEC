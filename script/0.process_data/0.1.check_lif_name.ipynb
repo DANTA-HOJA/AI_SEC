{
 "cells": [
  {
   "cell_type": "markdown",
   "metadata": {},
   "source": [
    "# Import Customized modules and Create ImageJ Object"
   ]
  },
  {
   "cell_type": "code",
   "execution_count": null,
   "metadata": {},
   "outputs": [],
   "source": [
    "import os\n",
    "import sys\n",
    "import re\n",
    "from pathlib import Path\n",
    "\n",
    "abs_module_path = Path(\"./../../\").resolve()\n",
    "if (abs_module_path.exists()) and (str(abs_module_path) not in sys.path):\n",
    "    sys.path.append(str(abs_module_path)) # add path to scan customized module\n",
    "\n",
    "from modules.data.lif import LIFNameChecker, scan_lifs_under_dir\n",
    "from modules.data.get_path import get_fiji_local_path, get_lif_scan_root\n",
    "from modules.misc.logger import init_logger\n",
    "from modules.misc.utils import get_repo_root, load_config"
   ]
  },
  {
   "cell_type": "markdown",
   "metadata": {},
   "source": [
    "Initialize `Customized Object`"
   ]
  },
  {
   "cell_type": "code",
   "execution_count": null,
   "metadata": {},
   "outputs": [],
   "source": [
    "logger = init_logger(r\"Check Lif Name\")\n",
    "lif_name_checker = LIFNameChecker()"
   ]
  },
  {
   "cell_type": "code",
   "execution_count": null,
   "metadata": {},
   "outputs": [],
   "source": [
    "repo_root = get_repo_root()\n",
    "print(f\"Repository: '{repo_root}'\")"
   ]
  },
  {
   "cell_type": "markdown",
   "metadata": {},
   "source": [
    "Load `db_path_plan.toml`"
   ]
  },
  {
   "cell_type": "code",
   "execution_count": null,
   "metadata": {},
   "outputs": [],
   "source": [
    "dbpp_config = load_config(\"db_path_plan.toml\")"
   ]
  },
  {
   "cell_type": "markdown",
   "metadata": {},
   "source": [
    "Load `0.1.check_lif_name.toml`"
   ]
  },
  {
   "cell_type": "code",
   "execution_count": null,
   "metadata": {},
   "outputs": [],
   "source": [
    "config = load_config(\"0.1.check_lif_name.toml\")\n",
    "nasdl_type    = config[\"data_nasdl\"][\"type\"]\n",
    "nasdl_batches = config[\"data_nasdl\"][\"batches\"]"
   ]
  },
  {
   "cell_type": "markdown",
   "metadata": {},
   "source": [
    "Initialize `PyImageJ`"
   ]
  },
  {
   "cell_type": "code",
   "execution_count": null,
   "metadata": {},
   "outputs": [],
   "source": [
    "import jpype               # Import module\n",
    "import jpype.imports       # Enable Java imports\n",
    "from jpype.types import *  # Pull in types\n",
    "import scyjava as sj       # scyjava : Supercharged Java access from Python, see https://github.com/scijava/scyjava\n",
    "import imagej              # pyimagej\n",
    "\n",
    "\"\"\" Configurations \"\"\"\n",
    "# NOTE: The ImageJ2 gateway is initialized through a Java Virtual Machine (JVM). \n",
    "#       If you want to configure the JVM, it must be done before initializing an ImageJ2 gateway.\n",
    "# sj.config.add_option('-Xmx10g') # adjust memory available to Java\n",
    "sj.config.endpoints.append('ome:formats-gpl:6.11.1')\n",
    "\n",
    "\"\"\" Get path of Fiji(ImageJ) \"\"\"\n",
    "fiji_local = get_fiji_local_path(dbpp_config)\n",
    "\n",
    "\"\"\" Different methods to start ImageJ \"\"\"\n",
    "# ij = imagej.init(fiji_local) # Same as \"ij = imagej.init(fiji_local, mode='headless')\", PyImageJ’s default mode is headless\n",
    "# ij = imagej.init(fiji_local, mode='gui') # GUI mode (會卡在這一行 -> blocking), for more explainations : https://pyimagej.readthedocs.io/en/latest/Initialization.html#gui-mode\n",
    "ij = imagej.init(fiji_local, mode='interactive') # Interactive mode (可以繼續向下執行 -> non-blocking), for more explainations : https://pyimagej.readthedocs.io/en/latest/Initialization.html#interactive-mode\n",
    "ij.ui().showUI() # display the Fiji GUI\n",
    "\n",
    "\"\"\" Print Fiji version \"\"\"\n",
    "print(ij.getApp().getInfo(True)) # ImageJ2 2.9.0/1.54b"
   ]
  },
  {
   "cell_type": "markdown",
   "metadata": {},
   "source": [
    "Load other `Java components`"
   ]
  },
  {
   "cell_type": "code",
   "execution_count": null,
   "metadata": {},
   "outputs": [],
   "source": [
    "# Bio-Format Reader\n",
    "loci = jpype.JPackage(\"loci\")\n",
    "loci.common.DebugTools.setRootLevel(\"ERROR\")\n",
    "Reader = loci.formats.ImageReader()"
   ]
  },
  {
   "attachments": {},
   "cell_type": "markdown",
   "metadata": {},
   "source": [
    "# Run"
   ]
  },
  {
   "cell_type": "code",
   "execution_count": null,
   "metadata": {},
   "outputs": [],
   "source": [
    "lif_scan_root = get_lif_scan_root(dbpp_config, config, logger=logger)\n",
    "lif_path_list = scan_lifs_under_dir(lif_scan_root, nasdl_batches, logger=logger)\n",
    "\n",
    "\n",
    "for i, lif_path in enumerate(lif_path_list):\n",
    "    \n",
    "    logger.info(f\"Processing ... {i+1}/{len(lif_path_list)}\")\n",
    "    logger.info(f'LIF_FILE : {lif_path}')\n",
    "    \n",
    "    \n",
    "    \"\"\" normalize LIF name \"\"\"\n",
    "    file_name = lif_path.split(os.sep)[-1].split(\".\")[0]\n",
    "    file_name_list = re.split(\" |_|-\", file_name)\n",
    "    assert len(file_name_list) == 4, f\"file_name format error, current : '{file_name}', expect like : '20221125_AI005_palmskin_10dpf.lif'\"\n",
    "    file_name = \"_\".join(file_name_list)\n",
    "    \n",
    "    \"\"\" Get number of images in LIF file \"\"\"\n",
    "    Reader.setId(lif_path)\n",
    "    seriesCount = Reader.getSeriesCount()\n",
    "    \n",
    "    \n",
    "    for idx in range(seriesCount):\n",
    "        \n",
    "        SeriesNum = idx+1\n",
    "        \n",
    "        \"\"\" read image \"\"\"\n",
    "        ij.IJ.run(\"Bio-Formats Importer\", f\"open='{lif_path}' color_mode=Default rois_import=[ROI manager] view=Hyperstack stack_order=XYCZT series_{SeriesNum}\")\n",
    "        img = ij.WindowManager.getCurrentImage() # get image, <java class 'ij.ImagePlus'>\n",
    "        img.hide()\n",
    "        \n",
    "        \"\"\" Get image name \"\"\"\n",
    "        image_name = str(img.getProp(\"Image name\"))\n",
    "        \n",
    "        \n",
    "        \"\"\" BrightField_RAW \"\"\"\n",
    "        if nasdl_type == \"BrightField_RAW\":\n",
    "            if \"Before_20221109\" in lif_path:\n",
    "                lif_name_checker.check_image_name(image_name, \"old_bf\")\n",
    "            else: \n",
    "                lif_name_checker.check_image_name(image_name, \"new_bf\")\n",
    "        \n",
    "        \"\"\" PalmSkin_RAW \"\"\"\n",
    "        if nasdl_type == \"PalmSkin_RAW\":\n",
    "            if \"Before_20221109\" in lif_path:\n",
    "                lif_name_checker.check_image_name(image_name, \"old_rgb\")\n",
    "            else: \n",
    "                lif_name_checker.check_image_name(image_name, \"new_rgb\")\n",
    "        \n",
    "        \n",
    "        \"\"\" Concat LIF and image name \"\"\"\n",
    "        seN = f\"{file_name} - {image_name}\"\n",
    "        \n",
    "        \"\"\" Get image dimension \"\"\"\n",
    "        img_dimensions = img.getDimensions()\n",
    "        logger.info(f\"series {SeriesNum:{len(str(seriesCount))}}/{seriesCount} : '{seN}' , \"\n",
    "                    f\"Dimensions : {img_dimensions} ( width, height, channels, slices, frames )\")\n",
    "        \n",
    "        \"\"\" Print ERRORs after checking 'image name' \"\"\"\n",
    "        try:\n",
    "            logger.info(f\"       ##### {lif_name_checker.check_dict['failed message']}\")\n",
    "        except KeyError:\n",
    "            pass\n",
    "    \n",
    "    \n",
    "    logger.info(\"\\n\")\n",
    "\n",
    "\n",
    "logger.info(\" -- finished -- \")"
   ]
  }
 ],
 "metadata": {
  "kernelspec": {
   "display_name": "zebrafish",
   "language": "python",
   "name": "python3"
  },
  "language_info": {
   "codemirror_mode": {
    "name": "ipython",
    "version": 3
   },
   "file_extension": ".py",
   "mimetype": "text/x-python",
   "name": "python",
   "nbconvert_exporter": "python",
   "pygments_lexer": "ipython3",
   "version": "3.10.6"
  },
  "orig_nbformat": 4
 },
 "nbformat": 4,
 "nbformat_minor": 2
}
