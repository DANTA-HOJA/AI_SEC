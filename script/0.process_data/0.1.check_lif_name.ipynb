{
 "cells": [
  {
   "cell_type": "markdown",
   "metadata": {},
   "source": [
    "# Import Customized modules and Create ImageJ Object"
   ]
  },
  {
   "cell_type": "code",
   "execution_count": null,
   "metadata": {},
   "outputs": [],
   "source": [
    "import os\n",
    "import sys\n",
    "import re\n",
    "from pathlib import Path\n",
    "\n",
    "abs_module_path = Path(\"./../../\").resolve()\n",
    "if (abs_module_path.exists()) and (str(abs_module_path) not in sys.path):\n",
    "    sys.path.append(str(abs_module_path)) # add path to scan customized module\n",
    "\n",
    "from modules.data.ij.zfij import ZFIJ\n",
    "from modules.data.lif import LIFNameChecker, scan_lifs_under_dir\n",
    "from modules.shared.pathnavigator import PathNavigator\n",
    "\n",
    "from modules.shared.logger import init_logger\n",
    "from modules.shared.utils import get_repo_root, load_config\n",
    "\n",
    "from modules.assert_fn import assert_lifname_split_in_4_part"
   ]
  },
  {
   "cell_type": "markdown",
   "metadata": {},
   "source": [
    "Initialize `Customized Object`"
   ]
  },
  {
   "cell_type": "code",
   "execution_count": null,
   "metadata": {},
   "outputs": [],
   "source": [
    "logger = init_logger(r\"Check Lif Name\")\n",
    "display_kwargs = {\n",
    "    \"display_on_CLI\": True,\n",
    "    \"logger\": logger\n",
    "}\n",
    "\n",
    "lif_name_checker = LIFNameChecker()\n",
    "path_navigator = PathNavigator()\n",
    "repo_root = get_repo_root(**display_kwargs)"
   ]
  },
  {
   "cell_type": "markdown",
   "metadata": {},
   "source": [
    "Initialize `Fiji` ( This will change the working directory to where the `JVM` exists. )"
   ]
  },
  {
   "cell_type": "code",
   "execution_count": null,
   "metadata": {},
   "outputs": [],
   "source": [
    "zfij = ZFIJ()"
   ]
  },
  {
   "cell_type": "markdown",
   "metadata": {},
   "source": [
    "Load `0.1.check_lif_name.toml`"
   ]
  },
  {
   "cell_type": "code",
   "execution_count": null,
   "metadata": {},
   "outputs": [],
   "source": [
    "config = load_config(\"0.1.check_lif_name.toml\", **display_kwargs)\n",
    "nasdl_type    = config[\"data_nasdl\"][\"type\"]\n",
    "nasdl_batches = config[\"data_nasdl\"][\"batches\"]"
   ]
  },
  {
   "attachments": {},
   "cell_type": "markdown",
   "metadata": {},
   "source": [
    "# Main Process"
   ]
  },
  {
   "cell_type": "markdown",
   "metadata": {},
   "source": [
    "Get `paths`"
   ]
  },
  {
   "cell_type": "code",
   "execution_count": null,
   "metadata": {},
   "outputs": [],
   "source": [
    "lif_scan_root = path_navigator.raw_data.get_lif_scan_root(config, **display_kwargs)"
   ]
  },
  {
   "cell_type": "markdown",
   "metadata": {},
   "source": [
    "Run"
   ]
  },
  {
   "cell_type": "code",
   "execution_count": null,
   "metadata": {},
   "outputs": [],
   "source": [
    "lif_path_list = scan_lifs_under_dir(lif_scan_root, nasdl_batches, logger=logger)\n",
    "\n",
    "\n",
    "for i, lif_path in enumerate(lif_path_list):\n",
    "    \n",
    "    logger.info(f\"Processing ... {i+1}/{len(lif_path_list)}\")\n",
    "    logger.info(f'LIF_FILE : {lif_path}')\n",
    "    \n",
    "    \n",
    "    \"\"\" Normalize LIF name \"\"\"\n",
    "    lif_name = lif_path.split(os.sep)[-1].split(\".\")[0]\n",
    "    lif_name_list = re.split(\" |_|-\", lif_name)\n",
    "    assert_lifname_split_in_4_part(lif_name_list, lif_name)\n",
    "    lif_name = \"_\".join(lif_name_list)\n",
    "    \n",
    "    \"\"\" Get number of images in LIF file \"\"\"\n",
    "    zfij.imageReader.setId(lif_path)\n",
    "    series_cnt = zfij.imageReader.getSeriesCount()\n",
    "    \n",
    "    \n",
    "    for idx in range(series_cnt):\n",
    "        \n",
    "        series_num = idx+1\n",
    "        \n",
    "        \"\"\" Read image \"\"\"\n",
    "        zfij.run(\"Bio-Formats Importer\", f\"open='{lif_path}' color_mode=Default rois_import=[ROI manager] view=Hyperstack stack_order=XYCZT series_{series_num}\")\n",
    "        img = zfij.ij.WindowManager.getCurrentImage() # get image, <java class 'ij.ImagePlus'>\n",
    "        img.hide()\n",
    "        \n",
    "        \"\"\" Get image name \"\"\"\n",
    "        image_name = str(img.getProp(\"Image name\"))\n",
    "        \n",
    "        \n",
    "        \"\"\" BrightField_RAW \"\"\"\n",
    "        if nasdl_type == \"BrightField_RAW\":\n",
    "            if \"Before_20221109\" in lif_path:\n",
    "                lif_name_checker.check_image_name(image_name, \"old_bf\")\n",
    "            else: \n",
    "                lif_name_checker.check_image_name(image_name, \"new_bf\")\n",
    "        \n",
    "        \"\"\" PalmSkin_RAW \"\"\"\n",
    "        if nasdl_type == \"PalmSkin_RAW\":\n",
    "            if \"Before_20221109\" in lif_path:\n",
    "                lif_name_checker.check_image_name(image_name, \"old_rgb\")\n",
    "            else: \n",
    "                lif_name_checker.check_image_name(image_name, \"new_rgb\")\n",
    "        \n",
    "        \n",
    "        \"\"\" Concat LIF and image name \"\"\"\n",
    "        comb_name = f\"{lif_name} - {image_name}\"\n",
    "        \n",
    "        \"\"\" Get image dimension \"\"\"\n",
    "        img_dimensions = img.getDimensions()\n",
    "        logger.info(f\"series {series_num:{len(str(series_cnt))}}/{series_cnt} : '{comb_name}' , \"\n",
    "                    f\"Dimensions : {img_dimensions} ( width, height, channels, slices, frames )\")\n",
    "        \n",
    "        \"\"\" Print ERRORs after checking 'image name' \"\"\"\n",
    "        try:\n",
    "            logger.info(f\"       ##### {lif_name_checker.check_dict['failed message']}\")\n",
    "        except KeyError:\n",
    "            pass\n",
    "    \n",
    "    \n",
    "    logger.info(\"\\n\")\n",
    "\n",
    "\n",
    "logger.info(\" -- finished -- \")"
   ]
  }
 ],
 "metadata": {
  "kernelspec": {
   "display_name": "zebrafish",
   "language": "python",
   "name": "python3"
  },
  "language_info": {
   "codemirror_mode": {
    "name": "ipython",
    "version": 3
   },
   "file_extension": ".py",
   "mimetype": "text/x-python",
   "name": "python",
   "nbconvert_exporter": "python",
   "pygments_lexer": "ipython3",
   "version": "3.10.6"
  },
  "orig_nbformat": 4
 },
 "nbformat": 4,
 "nbformat_minor": 2
}
