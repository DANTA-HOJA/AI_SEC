{
 "cells": [
  {
   "cell_type": "code",
   "execution_count": null,
   "metadata": {},
   "outputs": [],
   "source": [
    "import os\n",
    "import sys\n",
    "import re\n",
    "from pathlib import Path\n",
    "\n",
    "abs_module_path = Path(\"./../../\").resolve()\n",
    "if (abs_module_path.exists()) and (str(abs_module_path) not in sys.path):\n",
    "    sys.path.append(str(abs_module_path)) # add path to scan customized module\n",
    "\n",
    "from modules.data.ProcessedDataInstance import ProcessedDataInstance\n",
    "\n",
    "processed_di_old = ProcessedDataInstance()\n",
    "processed_di_new = ProcessedDataInstance()"
   ]
  },
  {
   "cell_type": "code",
   "execution_count": null,
   "metadata": {},
   "outputs": [],
   "source": [
    "processed_di_old.load_config(\"0.3.analyze_brightfield.toml\")"
   ]
  },
  {
   "cell_type": "code",
   "execution_count": null,
   "metadata": {},
   "outputs": [],
   "source": [
    "processed_di_new.load_config(\"0.3.analyze_brightfield.toml\")"
   ]
  },
  {
   "cell_type": "code",
   "execution_count": null,
   "metadata": {},
   "outputs": [],
   "source": [
    "import shutil\n",
    "\n",
    "old_dict = processed_di_old.brightfield_processed_dname_dirs_dict\n",
    "new_dict = processed_di_new.brightfield_processed_dname_dirs_dict\n",
    "\n",
    "filenames = [\"Manual_cropped_BF--MIX.tif\", \"Manual_measured_mask.tif\", \"ManualAnalysis.csv\"]\n",
    "\n",
    "if list(old_dict.keys()) == list(new_dict.keys()):\n",
    "        \n",
    "    for key, value in old_dict.items():\n",
    "        \n",
    "        for filename in filenames:\n",
    "            \n",
    "            old_path = value.joinpath(filename)\n",
    "            new_path = new_dict[key].joinpath(filename)\n",
    "            \n",
    "            if not new_path.exists():\n",
    "                shutil.copy(old_path, new_path)\n",
    "                print(f\"{old_path} -> {new_path}\")"
   ]
  }
 ],
 "metadata": {
  "kernelspec": {
   "display_name": "zebrafish",
   "language": "python",
   "name": "python3"
  },
  "language_info": {
   "codemirror_mode": {
    "name": "ipython",
    "version": 3
   },
   "file_extension": ".py",
   "mimetype": "text/x-python",
   "name": "python",
   "nbconvert_exporter": "python",
   "pygments_lexer": "ipython3",
   "version": "3.10.6"
  },
  "orig_nbformat": 4
 },
 "nbformat": 4,
 "nbformat_minor": 2
}
