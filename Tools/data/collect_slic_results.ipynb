{
 "cells": [
  {
   "cell_type": "code",
   "execution_count": 1,
   "metadata": {},
   "outputs": [],
   "source": [
    "import os\n",
    "import shutil\n",
    "import sys\n",
    "from collections import Counter\n",
    "from copy import deepcopy\n",
    "from pathlib import Path\n",
    "\n",
    "abs_module_path = Path(\"./../../\").resolve()\n",
    "if (abs_module_path.exists()) and (str(abs_module_path) not in sys.path):\n",
    "    sys.path.append(str(abs_module_path)) # add path to scan customized module\n",
    "\n",
    "from modules.data.processeddatainstance import ProcessedDataInstance\n",
    "from modules.ml.utils import get_seg_desc\n",
    "from modules.shared.config import load_config\n",
    "from modules.shared.pathnavigator import PathNavigator\n",
    "from modules.shared.utils import create_new_dir, exclude_paths, get_repo_root"
   ]
  },
  {
   "cell_type": "code",
   "execution_count": null,
   "metadata": {},
   "outputs": [],
   "source": [
    "processed_di = ProcessedDataInstance()\n",
    "processed_di.parse_config(\"ml_analysis.toml\")"
   ]
  },
  {
   "cell_type": "code",
   "execution_count": null,
   "metadata": {},
   "outputs": [],
   "source": [
    "config = load_config(\"ml_analysis.toml\")\n",
    "# [seg_results]\n",
    "seg_desc = get_seg_desc(config)\n",
    "\n",
    "seg_desc"
   ]
  },
  {
   "cell_type": "code",
   "execution_count": null,
   "metadata": {},
   "outputs": [],
   "source": [
    "src_dir = processed_di.palmskin_processed_dir\n",
    "seg_dirs = exclude_paths(list(src_dir.glob(f\"*/{seg_desc}/*\")), [\".tif\"])\n",
    "\n",
    "seg_dirname_cnt = Counter()\n",
    "for seg_dir in seg_dirs:\n",
    "    seg_dirname = seg_dir.name\n",
    "    seg_dirname_cnt.update([seg_dirname])\n",
    "\n",
    "seg_dirname_cnt"
   ]
  },
  {
   "cell_type": "code",
   "execution_count": null,
   "metadata": {},
   "outputs": [],
   "source": [
    "path_navigator = PathNavigator()\n",
    "result_ml_dir = path_navigator.dbpp.get_one_of_dbpp_roots(\"result_ml\")\n",
    "collect_root = result_ml_dir.joinpath(\"Collected\",\n",
    "                                     processed_di.instance_name,\n",
    "                                     seg_desc)\n",
    "\n",
    "for seg_dirname in seg_dirname_cnt.keys():\n",
    "    \n",
    "    dst_dir = collect_root.joinpath(seg_dirname)\n",
    "    create_new_dir(dst_dir)\n",
    "    \n",
    "    paths = list(src_dir.glob(f\"*/{seg_desc}/{seg_dirname}/*.seg2o.png\"))\n",
    "    for path in paths:\n",
    "        \n",
    "        dname = path.relative_to(src_dir).parts[0]\n",
    "        seg_suffix = path.suffixes[-2]\n",
    "        \n",
    "        # get feature\n",
    "        path_split = deepcopy(list(path.parts))\n",
    "        path_split[-1] = path_split[-1].replace(f\"{seg_suffix}.png\", \".ana.toml\") # replace file ext.\n",
    "        toml_file = Path(*path_split) # re-construct path\n",
    "        cell_cnt = load_config(toml_file)[\"cell_count\"]\n",
    "        \n",
    "        # copy and rename image\n",
    "        new_path = dst_dir.joinpath(f\"cnt{cell_cnt}_{dname}.png\")\n",
    "        print(new_path)\n",
    "        shutil.copy(path, new_path)"
   ]
  }
 ],
 "metadata": {
  "kernelspec": {
   "display_name": "zebrafish_py310",
   "language": "python",
   "name": "python3"
  },
  "language_info": {
   "codemirror_mode": {
    "name": "ipython",
    "version": 3
   },
   "file_extension": ".py",
   "mimetype": "text/x-python",
   "name": "python",
   "nbconvert_exporter": "python",
   "pygments_lexer": "ipython3",
   "version": "3.10.12"
  }
 },
 "nbformat": 4,
 "nbformat_minor": 2
}
