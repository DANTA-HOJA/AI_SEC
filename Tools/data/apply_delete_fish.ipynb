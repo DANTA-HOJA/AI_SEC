{
 "cells": [
  {
   "cell_type": "code",
   "execution_count": null,
   "metadata": {},
   "outputs": [],
   "source": [
    "import os\n",
    "import shutil\n",
    "import sys\n",
    "from collections import Counter\n",
    "from copy import deepcopy\n",
    "from pathlib import Path\n",
    "\n",
    "from rich import print\n",
    "\n",
    "abs_module_path = Path(\"./../../\").resolve()\n",
    "if (abs_module_path.exists()) and (str(abs_module_path) not in sys.path):\n",
    "    sys.path.append(str(abs_module_path)) # add path to scan customized module\n",
    "\n",
    "from modules.data import dname\n",
    "from modules.data.processeddatainstance import ProcessedDataInstance\n",
    "from modules.shared.config import load_config"
   ]
  },
  {
   "cell_type": "code",
   "execution_count": null,
   "metadata": {},
   "outputs": [],
   "source": [
    "processed_di = ProcessedDataInstance()\n",
    "processed_di.parse_config(\"delete_fish.toml\")\n",
    "len(processed_di.palmskin_processed_dname_dirs_dict)"
   ]
  },
  {
   "cell_type": "code",
   "execution_count": null,
   "metadata": {},
   "outputs": [],
   "source": [
    "delete_log = load_config(\"delete_fish.toml\")\n",
    "delete_ids: list = delete_log[\"RGB\"][\"id\"]\n",
    "len(delete_ids)"
   ]
  },
  {
   "cell_type": "code",
   "execution_count": null,
   "metadata": {},
   "outputs": [],
   "source": [
    "for palmskin_dname, path in processed_di.palmskin_processed_dname_dirs_dict.items():\n",
    "    fish_id = dname.get_dname_sortinfo(palmskin_dname)[0]\n",
    "    if fish_id in delete_ids:\n",
    "        \n",
    "        # >>> add empty file for recovery <<<\n",
    "        with open(path.joinpath(\".delete_fish\"), mode=\"w\"): pass\n",
    "        \n",
    "        # >>> create `new_path` <<<\n",
    "        path_split = list(deepcopy(path.parts))\n",
    "        path_split.insert(-1, \"+---delete\") # add \"+---delete\" to `path`\n",
    "        new_path = Path(*path_split)\n",
    "        \n",
    "        # >>> mv file <<<\n",
    "        shutil.move(path, new_path)\n",
    "        print(f\"Move Dir, [#2596be]'{path}'\\n [#FFFFFF]--> [#be4d25]'{new_path}'\\n\")"
   ]
  },
  {
   "cell_type": "code",
   "execution_count": null,
   "metadata": {},
   "outputs": [],
   "source": [
    "\"\"\" Check if succeed\n",
    "\n",
    "Note: If encounter Permision denied error on Windows platfrom,\n",
    "        please rename `instance_name` by yourself before running this block.\n",
    "\"\"\"\n",
    "\n",
    "processed_di.parse_config(\"delete_fish.toml\")\n",
    "cnt = Counter()\n",
    "\n",
    "for palmskin_dname, path in processed_di.palmskin_processed_dname_dirs_dict.items():\n",
    "    fish_id = dname.get_dname_sortinfo(palmskin_dname)[0]\n",
    "    cnt.update([fish_id])\n",
    "\n",
    "for delete_id in delete_ids:\n",
    "    assert cnt[delete_id] == 0, f\"fish_id = {delete_id}\""
   ]
  }
 ],
 "metadata": {
  "kernelspec": {
   "display_name": "zebrafish_py310",
   "language": "python",
   "name": "python3"
  },
  "language_info": {
   "codemirror_mode": {
    "name": "ipython",
    "version": 3
   },
   "file_extension": ".py",
   "mimetype": "text/x-python",
   "name": "python",
   "nbconvert_exporter": "python",
   "pygments_lexer": "ipython3",
   "version": "3.10.12"
  }
 },
 "nbformat": 4,
 "nbformat_minor": 2
}
