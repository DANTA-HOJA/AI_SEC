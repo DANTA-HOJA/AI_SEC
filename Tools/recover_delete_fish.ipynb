{
 "cells": [
  {
   "cell_type": "code",
   "execution_count": null,
   "metadata": {},
   "outputs": [],
   "source": [
    "import os\n",
    "import shutil\n",
    "import sys\n",
    "from pathlib import Path\n",
    "from copy import deepcopy\n",
    "\n",
    "from rich import print\n",
    "\n",
    "abs_module_path = Path(\"./../\").resolve()\n",
    "if (abs_module_path.exists()) and (str(abs_module_path) not in sys.path):\n",
    "    sys.path.append(str(abs_module_path)) # add path to scan customized module\n",
    "\n",
    "from modules.data import dname\n",
    "from modules.data.processeddatainstance import ProcessedDataInstance"
   ]
  },
  {
   "cell_type": "code",
   "execution_count": null,
   "metadata": {},
   "outputs": [],
   "source": [
    "processed_di = ProcessedDataInstance()\n",
    "processed_di.parse_config(\"delete_fish.toml\")"
   ]
  },
  {
   "cell_type": "code",
   "execution_count": null,
   "metadata": {},
   "outputs": [],
   "source": [
    "mark_files = list(processed_di.palmskin_processed_dir.glob(\"**/.delete_fish\"))\n",
    "len(mark_files)"
   ]
  },
  {
   "cell_type": "code",
   "execution_count": null,
   "metadata": {},
   "outputs": [],
   "source": [
    "for file in mark_files:\n",
    "    \n",
    "    # remove mark file, file_name: '.delete_fish'\n",
    "    os.remove(file)\n",
    "    \n",
    "    dname_dir = file.parent\n",
    "    dir_split = list(deepcopy(dname_dir.parts))\n",
    "    dir_split[-2] = \"\"\n",
    "    new_path = Path(*dir_split)\n",
    "    \n",
    "    # mv file\n",
    "    shutil.move(dname_dir, new_path)\n",
    "    print(f\"Move Dir, [#2596be]'{dname_dir}'\\n [#FFFFFF]--> [#be4d25]'{new_path}'\\n\")"
   ]
  },
  {
   "cell_type": "code",
   "execution_count": null,
   "metadata": {},
   "outputs": [],
   "source": [
    "# update `ProcessedDataInstance`\n",
    "processed_di.parse_config(\"delete_fish.toml\")"
   ]
  }
 ],
 "metadata": {
  "kernelspec": {
   "display_name": "zebrafish_py310",
   "language": "python",
   "name": "python3"
  },
  "language_info": {
   "codemirror_mode": {
    "name": "ipython",
    "version": 3
   },
   "file_extension": ".py",
   "mimetype": "text/x-python",
   "name": "python",
   "nbconvert_exporter": "python",
   "pygments_lexer": "ipython3",
   "version": "3.10.12"
  }
 },
 "nbformat": 4,
 "nbformat_minor": 2
}
