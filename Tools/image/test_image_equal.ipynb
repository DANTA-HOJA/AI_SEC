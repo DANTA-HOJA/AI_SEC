{
 "cells": [
  {
   "cell_type": "code",
   "execution_count": null,
   "metadata": {},
   "outputs": [],
   "source": [
    "from pathlib import Path\n",
    "import skimage as ski\n",
    "import numpy as np\n",
    "from rich.progress import track\n",
    "\n",
    "dir_new = Path(r\"\")\n",
    "dir_old = Path(r\"\")"
   ]
  },
  {
   "cell_type": "code",
   "execution_count": null,
   "metadata": {},
   "outputs": [],
   "source": [
    "def get_sorted_info(x: Path):\n",
    "    \"\"\"\n",
    "    \"\"\"\n",
    "    dname = x.parts[9]\n",
    "    img_type = x.suffixes[-2]\n",
    "    \n",
    "    return dname, img_type\n",
    "    # -------------------------------------------------------------------------/"
   ]
  },
  {
   "cell_type": "code",
   "execution_count": null,
   "metadata": {},
   "outputs": [],
   "source": [
    "glob_new = sorted(dir_new.glob(\"*.png\"))\n",
    "\n",
    "glob_new[:10]"
   ]
  },
  {
   "cell_type": "code",
   "execution_count": null,
   "metadata": {},
   "outputs": [],
   "source": [
    "glob_old = sorted(dir_old.glob(\"*.png\"))\n",
    "\n",
    "glob_old[:10]"
   ]
  },
  {
   "cell_type": "code",
   "execution_count": null,
   "metadata": {},
   "outputs": [],
   "source": [
    "assert len(glob_new) == len(glob_old)"
   ]
  },
  {
   "cell_type": "code",
   "execution_count": null,
   "metadata": {},
   "outputs": [],
   "source": [
    "for path_old, path_new in track(zip(glob_old, glob_new),\n",
    "                                total=len(glob_new),\n",
    "                                description=\"Checking...\"):\n",
    "    \n",
    "    try:\n",
    "        img_old = ski.io.imread(path_old)\n",
    "        img_new = ski.io.imread(path_new)\n",
    "        assert np.array_equal(img_old, img_new)\n",
    "    \n",
    "    except AssertionError:\n",
    "        print(path_old, path_new)"
   ]
  }
 ],
 "metadata": {
  "kernelspec": {
   "display_name": "zebrafish_py310",
   "language": "python",
   "name": "python3"
  },
  "language_info": {
   "codemirror_mode": {
    "name": "ipython",
    "version": 3
   },
   "file_extension": ".py",
   "mimetype": "text/x-python",
   "name": "python",
   "nbconvert_exporter": "python",
   "pygments_lexer": "ipython3",
   "version": "3.10.12"
  }
 },
 "nbformat": 4,
 "nbformat_minor": 2
}
