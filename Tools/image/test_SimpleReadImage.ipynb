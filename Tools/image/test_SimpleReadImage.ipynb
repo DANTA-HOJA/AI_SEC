{
 "cells": [
  {
   "cell_type": "code",
   "execution_count": 1,
   "metadata": {},
   "outputs": [],
   "source": [
    "import sys\n",
    "from pathlib import Path\n",
    "\n",
    "import cv2\n",
    "from rich import print\n",
    "from tqdm.auto import tqdm"
   ]
  },
  {
   "cell_type": "code",
   "execution_count": 2,
   "metadata": {},
   "outputs": [],
   "source": [
    "src_root = Path(r\"\")\n",
    "glob_pattern: str = \"**/*.tiff\""
   ]
  },
  {
   "cell_type": "code",
   "execution_count": null,
   "metadata": {},
   "outputs": [],
   "source": [
    "print(f\"src_root = '{src_root}'\")\n",
    "\n",
    "found_list = list(src_root.glob(glob_pattern))\n",
    "if len(found_list) == 0:\n",
    "    raise ValueError(\"Can't find any images!\")\n",
    "print(f\"found {len(found_list)} images\")\n",
    "\n",
    "for path in tqdm(found_list, desc=\"Reading \"):\n",
    "    if cv2.imread(str(path)) is None:\n",
    "        print(path)"
   ]
  }
 ],
 "metadata": {
  "kernelspec": {
   "display_name": "zebrafish_py310",
   "language": "python",
   "name": "python3"
  },
  "language_info": {
   "codemirror_mode": {
    "name": "ipython",
    "version": 3
   },
   "file_extension": ".py",
   "mimetype": "text/x-python",
   "name": "python",
   "nbconvert_exporter": "python",
   "pygments_lexer": "ipython3",
   "version": "3.10.12"
  }
 },
 "nbformat": 4,
 "nbformat_minor": 2
}
