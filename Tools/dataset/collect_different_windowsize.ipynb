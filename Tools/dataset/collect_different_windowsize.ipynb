{
 "cells": [
  {
   "cell_type": "code",
   "execution_count": 1,
   "metadata": {},
   "outputs": [],
   "source": [
    "import os\n",
    "import shutil\n",
    "import sys\n",
    "from pathlib import Path\n",
    "\n",
    "from rich import print\n",
    "from rich.pretty import Pretty\n",
    "\n",
    "abs_module_path = Path(\"./../../\").resolve()\n",
    "if (abs_module_path.exists()) and (str(abs_module_path) not in sys.path):\n",
    "    sys.path.append(str(abs_module_path)) # add path to scan customized module\n",
    "\n",
    "from modules.shared.config import load_config\n",
    "from modules.shared.pathnavigator import PathNavigator\n",
    "from modules.shared.utils import create_new_dir"
   ]
  },
  {
   "cell_type": "code",
   "execution_count": null,
   "metadata": {},
   "outputs": [],
   "source": [
    "config = load_config(\"dataset.toml\")\n",
    "print(Pretty(config, expand_all=True))\n",
    "\n",
    "dataset_seed_dir: str = config[\"dataset\"][\"seed_dir\"]\n",
    "dataset_data: str = config[\"dataset\"][\"data\"]\n",
    "dataset_palmskin_result: str = config[\"dataset\"][\"palmskin_result\"]"
   ]
  },
  {
   "cell_type": "code",
   "execution_count": 6,
   "metadata": {},
   "outputs": [],
   "source": [
    "path_navigator = PathNavigator()\n",
    "dataset_cropped = path_navigator.dbpp.get_one_of_dbpp_roots(\"dataset_cropped_v3\")\n",
    "\n",
    "src_root = dataset_cropped.joinpath(dataset_seed_dir,\n",
    "                                    dataset_data,\n",
    "                                    dataset_palmskin_result)"
   ]
  },
  {
   "cell_type": "code",
   "execution_count": null,
   "metadata": {},
   "outputs": [],
   "source": [
    "fish_dsname = \"fish_161_A\" # Modify to find the desired file\n",
    "glob_pattern: str = f\"*/*/{fish_dsname}/*.tiff\"\n",
    "\n",
    "img_paths = list(src_root.glob(glob_pattern))\n",
    "\n",
    "len(img_paths), img_paths"
   ]
  },
  {
   "cell_type": "code",
   "execution_count": 8,
   "metadata": {},
   "outputs": [],
   "source": [
    "dst_dir = Path(r\"\") # Add directory for storing the collected images\n",
    "create_new_dir(dst_dir)\n",
    "\n",
    "for img_path in img_paths:\n",
    "    shutil.copy(img_path, dst_dir.joinpath(f\"{img_path.stem}.{img_path.parts[-4]}.tiff\"))"
   ]
  }
 ],
 "metadata": {
  "kernelspec": {
   "display_name": "zebrafish_py310",
   "language": "python",
   "name": "python3"
  },
  "language_info": {
   "codemirror_mode": {
    "name": "ipython",
    "version": 3
   },
   "file_extension": ".py",
   "mimetype": "text/x-python",
   "name": "python",
   "nbconvert_exporter": "python",
   "pygments_lexer": "ipython3",
   "version": "3.10.12"
  }
 },
 "nbformat": 4,
 "nbformat_minor": 2
}
