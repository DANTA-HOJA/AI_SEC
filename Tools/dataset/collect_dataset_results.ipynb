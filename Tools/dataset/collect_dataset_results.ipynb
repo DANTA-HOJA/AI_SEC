{
 "cells": [
  {
   "cell_type": "code",
   "execution_count": 1,
   "metadata": {},
   "outputs": [],
   "source": [
    "import os\n",
    "import shutil\n",
    "import sys\n",
    "from pathlib import Path\n",
    "\n",
    "from rich import print\n",
    "from rich.pretty import Pretty\n",
    "\n",
    "abs_module_path = Path(\"./../../\").resolve()\n",
    "if (abs_module_path.exists()) and (str(abs_module_path) not in sys.path):\n",
    "    sys.path.append(str(abs_module_path)) # add path to scan customized module\n",
    "\n",
    "from modules.shared.config import load_config\n",
    "from modules.shared.pathnavigator import PathNavigator\n",
    "from modules.shared.utils import create_new_dir"
   ]
  },
  {
   "cell_type": "code",
   "execution_count": null,
   "metadata": {},
   "outputs": [],
   "source": [
    "config = load_config(\"dataset.toml\")\n",
    "print(Pretty(config, expand_all=True))"
   ]
  },
  {
   "cell_type": "code",
   "execution_count": null,
   "metadata": {},
   "outputs": [],
   "source": [
    "v1:bool\n",
    "v2:bool\n",
    "\n",
    "if config[\"dataset\"].get(\"classif_strategy\") == \"\": v1 = False\n",
    "else: v1 = True\n",
    "\n",
    "if config[\"dataset\"].get(\"data_set\") == \"\": v2 = False\n",
    "else: v2 = True\n",
    "\n",
    "assert not (v1 and v2), \"Can't assigned both `classif_strategy` or `data_set` at a time\"\n",
    "\n",
    "if not v1:\n",
    "    config[\"dataset\"].pop(\"classif_strategy\")\n",
    "else:\n",
    "    config[\"dataset\"].pop(\"data_set\")\n",
    "\n",
    "config"
   ]
  },
  {
   "cell_type": "code",
   "execution_count": null,
   "metadata": {},
   "outputs": [],
   "source": [
    "# Remove the parts of path you want to skip\n",
    "\n",
    "# config[\"dataset\"].pop(\"seed_dir\")\n",
    "# config[\"dataset\"].pop(\"data\")\n",
    "# config[\"dataset\"].pop(\"palmskin_result\")\n",
    "# config[\"dataset\"].pop(\"base_size\")\n",
    "# config[\"dataset\"].pop(\"classif_strategy\")\n",
    "# config[\"dataset\"].pop(\"data_set\")\n",
    "# config[\"dataset\"].pop(\"fish_dsname_root\")\n",
    "config[\"dataset\"].pop(\"fish_dsname_sub\")\n",
    "# config[\"dataset\"].pop(\"file_name\")\n",
    "\n",
    "config"
   ]
  },
  {
   "cell_type": "code",
   "execution_count": null,
   "metadata": {},
   "outputs": [],
   "source": [
    "path_navigator = PathNavigator()\n",
    "src_root: Path = path_navigator.dbpp.get_one_of_dbpp_roots(\"dataset_cropped_v3\")\n",
    "tmp_list: list = []\n",
    "first_star: bool = False\n",
    "\n",
    "for enum, (k, v) in enumerate(config[\"dataset\"].items()):\n",
    "    if (\"*\" in v) and (not first_star):\n",
    "        first_star = True\n",
    "        path = \"/\".join(tmp_list)\n",
    "        src_root = src_root.joinpath(path)\n",
    "        tmp_list = [v]\n",
    "    else:\n",
    "        tmp_list.append(v)\n",
    "\n",
    "glob_pattern: str = \"/\".join(tmp_list)\n",
    "\n",
    "src_root, glob_pattern"
   ]
  },
  {
   "cell_type": "code",
   "execution_count": null,
   "metadata": {},
   "outputs": [],
   "source": [
    "img_paths = list(src_root.glob(glob_pattern))\n",
    "\n",
    "len(img_paths), img_paths"
   ]
  },
  {
   "cell_type": "code",
   "execution_count": null,
   "metadata": {},
   "outputs": [],
   "source": [
    "img_paths[0].parts"
   ]
  },
  {
   "cell_type": "code",
   "execution_count": null,
   "metadata": {},
   "outputs": [],
   "source": [
    "dst_dir = Path(r\"tmp\") # Add directory for storing the collected images\n",
    "create_new_dir(dst_dir)\n",
    "\n",
    "for img_path in img_paths:\n",
    "    \n",
    "    # Modify to the file name you want\n",
    "    save_name = img_path.stem\n",
    "    save_name += f\".{img_path.parts[9]}\"\n",
    "    save_name += f\".{img_path.parts[10]}\"\n",
    "    save_name += img_path.suffix\n",
    "    \n",
    "    print(save_name)\n",
    "    shutil.copy(img_path, dst_dir.joinpath(save_name))"
   ]
  }
 ],
 "metadata": {
  "kernelspec": {
   "display_name": "zebrafish_py310",
   "language": "python",
   "name": "python3"
  },
  "language_info": {
   "codemirror_mode": {
    "name": "ipython",
    "version": 3
   },
   "file_extension": ".py",
   "mimetype": "text/x-python",
   "name": "python",
   "nbconvert_exporter": "python",
   "pygments_lexer": "ipython3",
   "version": "3.10.12"
  }
 },
 "nbformat": 4,
 "nbformat_minor": 2
}
