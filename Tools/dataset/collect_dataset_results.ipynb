{
 "cells": [
  {
   "cell_type": "code",
   "execution_count": 1,
   "metadata": {},
   "outputs": [],
   "source": [
    "import os\n",
    "import shutil\n",
    "import sys\n",
    "from collections import Counter\n",
    "from copy import deepcopy\n",
    "from pathlib import Path\n",
    "\n",
    "from rich import print\n",
    "\n",
    "abs_module_path = Path(\"./../../\").resolve()\n",
    "if (abs_module_path.exists()) and (str(abs_module_path) not in sys.path):\n",
    "    sys.path.append(str(abs_module_path)) # add path to scan customized module\n",
    "\n",
    "from modules.data.dataset import dsname\n",
    "from modules.shared.utils import create_new_dir\n",
    "from modules.shared.config import load_config\n",
    "from modules.shared.pathnavigator import PathNavigator"
   ]
  },
  {
   "cell_type": "code",
   "execution_count": null,
   "metadata": {},
   "outputs": [],
   "source": [
    "config = load_config(\"dataset.toml\")\n",
    "print(config)\n",
    "\n",
    "dataset_seed_dir: str = config[\"dataset\"][\"seed_dir\"]\n",
    "dataset_data: str = config[\"dataset\"][\"data\"]\n",
    "dataset_palmskin_result: str = config[\"dataset\"][\"palmskin_result\"]\n",
    "dataset_base_size: str = config[\"dataset\"][\"base_size\"]"
   ]
  },
  {
   "cell_type": "code",
   "execution_count": 3,
   "metadata": {},
   "outputs": [],
   "source": [
    "path_navigator = PathNavigator()\n",
    "dataset_cropped = path_navigator.dbpp.get_one_of_dbpp_roots(\"dataset_cropped_v3\")\n",
    "\n",
    "src_root = dataset_cropped.joinpath(dataset_seed_dir,\n",
    "                                    dataset_data,\n",
    "                                    dataset_palmskin_result,\n",
    "                                    dataset_base_size)"
   ]
  },
  {
   "cell_type": "code",
   "execution_count": null,
   "metadata": {},
   "outputs": [],
   "source": [
    "glob_pattern: str = \"**/*.seg2.png\" # Modify to find the desired file\n",
    "\n",
    "img_paths = []\n",
    "for dataset in [\"test\", \"valid\", \"train\"]:\n",
    "    img_paths.extend(list(src_root.joinpath(dataset).glob(glob_pattern)))\n",
    "img_paths = sorted(img_paths, key=dsname.get_dsname_sortinfo)\n",
    "\n",
    "len(img_paths), img_paths"
   ]
  },
  {
   "cell_type": "code",
   "execution_count": 5,
   "metadata": {},
   "outputs": [],
   "source": [
    "dst_dir = Path(r\"\") # Add directory for storing the collected images\n",
    "create_new_dir(dst_dir)\n",
    "\n",
    "for img_path in img_paths:\n",
    "    shutil.copy(img_path, dst_dir)"
   ]
  }
 ],
 "metadata": {
  "kernelspec": {
   "display_name": "zebrafish_py310",
   "language": "python",
   "name": "python3"
  },
  "language_info": {
   "codemirror_mode": {
    "name": "ipython",
    "version": 3
   },
   "file_extension": ".py",
   "mimetype": "text/x-python",
   "name": "python",
   "nbconvert_exporter": "python",
   "pygments_lexer": "ipython3",
   "version": "3.10.12"
  }
 },
 "nbformat": 4,
 "nbformat_minor": 2
}
