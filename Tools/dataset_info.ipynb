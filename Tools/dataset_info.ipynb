{
 "cells": [
  {
   "cell_type": "code",
   "execution_count": null,
   "metadata": {},
   "outputs": [],
   "source": [
    "import sys\n",
    "from collections import Counter\n",
    "from pathlib import Path\n",
    "from typing import Dict, List, Tuple, Union\n",
    "\n",
    "import pandas as pd\n",
    "from rich import print\n",
    "\n",
    "abs_module_path = Path(\"./../\").resolve()\n",
    "if (abs_module_path.exists()) and (str(abs_module_path) not in sys.path):\n",
    "    sys.path.append(str(abs_module_path)) # add path to scan customized module\n",
    "\n",
    "from modules.dl.trainer.utils import calculate_class_weight\n",
    "from modules.dl.utils import gen_class_counts_dict\n",
    "from modules.shared.config import load_config"
   ]
  },
  {
   "cell_type": "code",
   "execution_count": null,
   "metadata": {},
   "outputs": [],
   "source": [
    "file = Path(load_config(\"tool-com.toml\")[\"file\"])\n",
    "print(f\"file = '{file}'\")\n",
    "\n",
    "df = pd.read_csv(file, encoding='utf_8_sig')\n",
    "df"
   ]
  },
  {
   "cell_type": "code",
   "execution_count": null,
   "metadata": {},
   "outputs": [],
   "source": [
    "num2class_list: list = sorted(Counter(df[\"class\"]).keys())\n",
    "num2class_list"
   ]
  },
  {
   "cell_type": "code",
   "execution_count": null,
   "metadata": {},
   "outputs": [],
   "source": [
    "train_df = df[(df[\"dataset\"] == \"train\")]\n",
    "valid_df = df[(df[\"dataset\"] == \"valid\")]\n",
    "test_df = df[(df[\"dataset\"] == \"test\")]"
   ]
  },
  {
   "cell_type": "markdown",
   "metadata": {},
   "source": [
    "## data samples"
   ]
  },
  {
   "cell_type": "code",
   "execution_count": null,
   "metadata": {},
   "outputs": [],
   "source": [
    "print(f\"test_df = {len(test_df)}\")\n",
    "print(f\"train_df = {len(train_df)}\")\n",
    "print(f\"valid_df = {len(valid_df)}\")"
   ]
  },
  {
   "cell_type": "markdown",
   "metadata": {},
   "source": [
    "## class_weight"
   ]
  },
  {
   "cell_type": "code",
   "execution_count": null,
   "metadata": {},
   "outputs": [],
   "source": [
    "temp_dict: Dict[str, int] = gen_class_counts_dict(test_df, num2class_list)\n",
    "print(f\"class_counts of `test_df` : {temp_dict}\")\n",
    "print(f\"class_weight of `test_df` : {calculate_class_weight(temp_dict)}\\n\")\n",
    "\n",
    "temp_dict: Dict[str, int] = gen_class_counts_dict(train_df, num2class_list)\n",
    "print(f\"class_counts of `train_df` : {temp_dict}\")\n",
    "print(f\"class_weight of `train_df` : {calculate_class_weight(temp_dict)}\\n\")\n",
    "\n",
    "temp_dict: Dict[str, int] = gen_class_counts_dict(valid_df, num2class_list)\n",
    "print(f\"class_counts of `valid_df` : {temp_dict}\")\n",
    "print(f\"class_weight of `valid_df` : {calculate_class_weight(temp_dict)}\\n\")"
   ]
  }
 ],
 "metadata": {
  "kernelspec": {
   "display_name": "zebrafish_py310",
   "language": "python",
   "name": "python3"
  },
  "language_info": {
   "codemirror_mode": {
    "name": "ipython",
    "version": 3
   },
   "file_extension": ".py",
   "mimetype": "text/x-python",
   "name": "python",
   "nbconvert_exporter": "python",
   "pygments_lexer": "ipython3",
   "version": "3.10.12"
  }
 },
 "nbformat": 4,
 "nbformat_minor": 2
}
