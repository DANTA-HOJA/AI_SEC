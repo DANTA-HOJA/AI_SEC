{
 "cells": [
  {
   "cell_type": "code",
   "execution_count": null,
   "metadata": {},
   "outputs": [],
   "source": [
    "import cv2\n",
    "from pathlib import Path\n",
    "from rich.progress import track\n",
    "from rich import print\n",
    "\n",
    "root = Path(r\"\")\n",
    "\n",
    "found_list = list(root.glob(\"**/*.tiff\"))\n",
    "\n",
    "if len(found_list) == 0:\n",
    "    raise ValueError(\"Can't find any images!\")\n",
    "\n",
    "for path in track(found_list, description=\"Reading... \"):\n",
    "    if cv2.imread(str(path)) is None:\n",
    "        print(path)"
   ]
  }
 ],
 "metadata": {
  "kernelspec": {
   "display_name": "zebrafish_py310",
   "language": "python",
   "name": "python3"
  },
  "language_info": {
   "name": "python",
   "version": "3.10.12"
  }
 },
 "nbformat": 4,
 "nbformat_minor": 2
}
