{
 "cells": [
  {
   "cell_type": "code",
   "execution_count": null,
   "metadata": {},
   "outputs": [],
   "source": [
    "import sys\n",
    "from pathlib import Path\n",
    "\n",
    "import cv2\n",
    "from rich import print\n",
    "from tqdm.auto import tqdm\n",
    "\n",
    "abs_module_path = Path(\"./../\").resolve()\n",
    "if (abs_module_path.exists()) and (str(abs_module_path) not in sys.path):\n",
    "    sys.path.append(str(abs_module_path)) # add path to scan customized module\n",
    "\n",
    "from modules.shared.config import load_config\n",
    "# -----------------------------------------------------------------------------/\n",
    "\n",
    "root = Path(load_config(\"tool-com.toml\")[\"dir\"])\n",
    "print(f\"root = '{root}'\")\n",
    "\n",
    "found_list = list(root.glob(\"**/*.tif\"))\n",
    "if len(found_list) == 0:\n",
    "    raise ValueError(\"Can't find any images!\")\n",
    "print(f\"found {len(found_list)} images\")\n",
    "\n",
    "for path in tqdm(found_list, desc=\"Reading \"):\n",
    "    if cv2.imread(str(path)) is None:\n",
    "        print(path)"
   ]
  }
 ],
 "metadata": {
  "kernelspec": {
   "display_name": "zebrafish_py310",
   "language": "python",
   "name": "python3"
  },
  "language_info": {
   "codemirror_mode": {
    "name": "ipython",
    "version": 3
   },
   "file_extension": ".py",
   "mimetype": "text/x-python",
   "name": "python",
   "nbconvert_exporter": "python",
   "pygments_lexer": "ipython3",
   "version": "3.10.12"
  }
 },
 "nbformat": 4,
 "nbformat_minor": 2
}
