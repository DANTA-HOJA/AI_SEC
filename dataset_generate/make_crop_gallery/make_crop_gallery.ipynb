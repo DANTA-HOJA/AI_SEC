{
 "cells": [
  {
   "cell_type": "code",
   "execution_count": 1,
   "metadata": {},
   "outputs": [],
   "source": [
    "import os\n",
    "import sys\n",
    "import re\n",
    "from copy import deepcopy\n",
    "from typing import List, Dict, Tuple\n",
    "from collections import OrderedDict\n",
    "from glob import glob\n",
    "import json\n",
    "import yaml\n",
    "\n",
    "from tqdm.auto import tqdm\n",
    "import cv2\n",
    "from PIL import Image\n",
    "import numpy as np\n",
    "\n",
    "sys.path.append(\"/home/rime97410000/ZebraFish_Code/ZebraFish_AP_POS/modules\") # add path to scan customized module\n",
    "from fileop import create_new_dir\n",
    "from gallery_utils import draw_x_on_image, draw_drop_info_on_image\n",
    "from datasetop import sortFishNameForDataset\n",
    "import plt_show\n",
    "\n",
    "# print(\"=\"*100, \"\\n\")"
   ]
  },
  {
   "attachments": {},
   "cell_type": "markdown",
   "metadata": {},
   "source": [
    "Load `make_crop_gallery.yaml`"
   ]
  },
  {
   "cell_type": "code",
   "execution_count": 2,
   "metadata": {},
   "outputs": [],
   "source": [
    "with open(\"make_crop_gallery.yaml\", mode=\"r\") as f_reader:\n",
    "    config = yaml.load(f_reader, Loader=yaml.SafeLoader)\n",
    "\n",
    "column = config[\"column\"]\n",
    "\n",
    "line_color = config[\"draw\"][\"line\"][\"color\"]\n",
    "line_width = config[\"draw\"][\"line\"][\"width\"]\n",
    "\n",
    "text_selected_color = config[\"draw\"][\"text\"][\"color\"][\"selected\"]\n",
    "text_drop_color     = config[\"draw\"][\"text\"][\"color\"][\"drop\"]\n",
    "text_shadow_color   = config[\"draw\"][\"text\"][\"color\"][\"shadow\"]\n",
    "text_font_style = config[\"draw\"][\"text\"][\"font_style\"]\n",
    "text_font_size  = config[\"draw\"][\"text\"][\"font_size\"] # if None, do auto-detection\n",
    "\n",
    "dataset_root       = os.path.normpath(config[\"dataset\"][\"root\"])\n",
    "dataset_name       = config[\"dataset\"][\"name\"]\n",
    "dataset_gen_method = config[\"dataset\"][\"gen_method\"]\n",
    "dataset_stdev      = config[\"dataset\"][\"stdev\"]\n",
    "dataset_param_name = config[\"dataset\"][\"param_name\"]"
   ]
  },
  {
   "attachments": {},
   "cell_type": "markdown",
   "metadata": {},
   "source": [
    "Load `dataset_config.yaml`"
   ]
  },
  {
   "cell_type": "code",
   "execution_count": 3,
   "metadata": {},
   "outputs": [],
   "source": [
    "dataset_dir = os.path.join(dataset_root, dataset_name, dataset_gen_method, dataset_stdev, dataset_param_name)\n",
    "dataset_config_path = os.path.join(dataset_dir, \"dataset_config.yaml\")\n",
    "\n",
    "with open(dataset_config_path, mode=\"r\") as f_reader:\n",
    "    dataset_config = yaml.load(f_reader, Loader=yaml.SafeLoader)\n",
    "    \n",
    "intensity = dataset_config[\"gen_param\"][\"intensity\"]\n",
    "drop_ratio = dataset_config[\"gen_param\"][\"drop_ratio\"]"
   ]
  },
  {
   "attachments": {},
   "cell_type": "markdown",
   "metadata": {},
   "source": [
    "Generate `path_vars`"
   ]
  },
  {
   "cell_type": "code",
   "execution_count": 4,
   "metadata": {},
   "outputs": [],
   "source": [
    "test_selected_dir = os.path.join(dataset_dir, \"test\", \"selected\")\n",
    "test_drop_dir = os.path.join(dataset_dir, \"test\", \"drop\")\n",
    "\n",
    "train_selected_dir = os.path.join(dataset_dir, \"train\", \"selected\")\n",
    "train_drop_dir = os.path.join(dataset_dir, \"train\", \"drop\")\n",
    "\n",
    "# crop_gallery_dir\n",
    "test_crop_gallery_dir = os.path.join(dataset_dir, \"!--- Crop Gallery/test\")\n",
    "train_crop_gallery_dir = os.path.join(dataset_dir, \"!--- Crop Gallery/train\")\n",
    "\n",
    "# crop_gallery_class_dir\n",
    "logs_path = os.path.join(dataset_dir, r\"{Logs}_train_selected_summary.log\")\n",
    "with open(logs_path, 'r') as f_reader: class_counts: Dict[str, int] = json.load(f_reader)\n",
    "for key, _ in class_counts.items():\n",
    "    create_new_dir(os.path.join(test_crop_gallery_dir, key), display_in_CLI=False)\n",
    "    create_new_dir(os.path.join(train_crop_gallery_dir, key), display_in_CLI=False)"
   ]
  },
  {
   "attachments": {},
   "cell_type": "markdown",
   "metadata": {},
   "source": [
    "Run"
   ]
  },
  {
   "cell_type": "code",
   "execution_count": 5,
   "metadata": {},
   "outputs": [],
   "source": [
    "# Scan 'dark_ratio.log'\n",
    "train_dark_ratio_path_list = glob(os.path.normpath(f\"{dataset_dir}/*train*_dark_ratio.log\"))\n",
    "test_dark_ratio_path_list = glob(os.path.normpath(f\"{dataset_dir}/*test*_dark_ratio.log\"))\n",
    "\n",
    "\n",
    "# train_dark_ratio\n",
    "train_dark_ratio_dict = {}\n",
    "for train_dark_ratio_path in train_dark_ratio_path_list:\n",
    "    with open(train_dark_ratio_path, 'r') as f_reader: \n",
    "        train_dark_ratio = json.load(f_reader)\n",
    "    train_dark_ratio_dict.update(train_dark_ratio)\n",
    "train_key_list = [ key for key, _ in train_dark_ratio_dict.items() ]\n",
    "\n",
    "\n",
    "# test_dark_ratio\n",
    "test_dark_ratio_dict = {}\n",
    "for test_dark_ratio_path in test_dark_ratio_path_list:\n",
    "    with open(test_dark_ratio_path, 'r') as f_reader: \n",
    "        test_dark_ratio = json.load(f_reader)\n",
    "    test_dark_ratio_dict.update(test_dark_ratio)\n",
    "test_key_list = [ key for key, _ in test_dark_ratio_dict.items() ]\n",
    "\n",
    "\n",
    "assert train_key_list == test_key_list"
   ]
  },
  {
   "cell_type": "code",
   "execution_count": 6,
   "metadata": {},
   "outputs": [],
   "source": [
    "def make_crop_gallery(fish_name_for_dataset_list:List[str], selected_dir:str, drop_dir:str, \n",
    "                      dark_ratio_dict:Dict[str, Dict[str, float]], crop_gallery_dir:str):\n",
    "    \n",
    "    pbar_n_fish = tqdm(total=len(fish_name_for_dataset_list), desc=\"Crop Gallery \")\n",
    "    fish_name_for_dataset_list.sort()\n",
    "    \n",
    "    for fish_name_for_dataset in fish_name_for_dataset_list:\n",
    "        \n",
    "        pbar_n_fish.desc = f\"Generate ' {fish_name_for_dataset} ' \"\n",
    "        pbar_n_fish.refresh()\n",
    "        \n",
    "        fish_name_for_dataset_split_list = re.split(\" |_|-\", fish_name_for_dataset)\n",
    "        \n",
    "        selected_path_list = glob(os.path.normpath((f\"{selected_dir}/{fish_name_for_dataset_split_list[0]}/\"\n",
    "                                                    f\"{fish_name_for_dataset}_selected_*.tiff\")))\n",
    "        \n",
    "        drop_path_list = glob(os.path.normpath((f\"{drop_dir}/{fish_name_for_dataset_split_list[0]}/\"\n",
    "                                                f\"{fish_name_for_dataset}_drop_*.tiff\")))\n",
    "        \n",
    "        # read images as Dict[path, cv2.Mat]\n",
    "        selected_img_dict = { img_path: cv2.imread(img_path) for img_path in selected_path_list }\n",
    "        drop_img_dict = { img_path: cv2.imread(img_path) for img_path in drop_path_list }\n",
    "        \n",
    "        \n",
    "        # draw on 'drop' images\n",
    "        for path, bgr_img in drop_img_dict.items():\n",
    "            \n",
    "            drop_image_name = path.split(os.sep)[-1].split(\".\")[0]\n",
    "            dark_ratio = dark_ratio_dict[fish_name_for_dataset][drop_image_name]\n",
    "            \n",
    "            rgb_img = cv2.cvtColor(bgr_img, cv2.COLOR_BGR2RGB)\n",
    "            rgb_img = np.uint8(rgb_img*0.5) # suppress brightness\n",
    "            \n",
    "            rgb_img = Image.fromarray(rgb_img)\n",
    "            draw_x_on_image(rgb_img, line_color, line_width)\n",
    "            draw_drop_info_on_image(rgb_img, intensity, dark_ratio, drop_ratio,\n",
    "                                    text_font_style, text_font_size,\n",
    "                                    text_selected_color,\n",
    "                                    text_drop_color,\n",
    "                                    text_shadow_color)\n",
    "            drop_img_dict[path] = cv2.cvtColor(np.array(rgb_img), cv2.COLOR_RGB2BGR)\n",
    "            \n",
    "        \n",
    "        # draw on 'selected' images\n",
    "        for path, bgr_img in selected_img_dict.items():\n",
    "            \n",
    "            selected_image_name = path.split(os.sep)[-1].split(\".\")[0]\n",
    "            dark_ratio = dark_ratio_dict[fish_name_for_dataset][selected_image_name]\n",
    "            \n",
    "            rgb_img = cv2.cvtColor(bgr_img, cv2.COLOR_BGR2RGB)\n",
    "            \n",
    "            rgb_img = Image.fromarray(rgb_img)\n",
    "            draw_drop_info_on_image(rgb_img, intensity, dark_ratio, drop_ratio,\n",
    "                                    text_font_style, text_font_size,\n",
    "                                    text_selected_color,\n",
    "                                    text_drop_color,\n",
    "                                    text_shadow_color)\n",
    "            selected_img_dict[path] = cv2.cvtColor(np.array(rgb_img), cv2.COLOR_RGB2BGR)\n",
    "            \n",
    "        \n",
    "        both_img_dict = deepcopy(selected_img_dict)\n",
    "        both_img_dict.update(drop_img_dict)\n",
    "        sorted_both_img_dict = OrderedDict(sorted(list(both_img_dict.items()), key=lambda x: sortFishNameForDataset(x[0])))\n",
    "        both_img_list = [ img for _, img in sorted_both_img_dict.items() ]\n",
    "        \n",
    "        # plot with 'Auto Row Calculation'\n",
    "        kwargs_plot_with_imglist_auto_row = {\n",
    "            \"img_list\"   : both_img_list,\n",
    "            \"column\"     : column,\n",
    "            \"fig_dpi\"    : 200,\n",
    "            \"figtitle\"   : (f\"( Crop Condition ) {fish_name_for_dataset} : {both_img_list[-1].shape[:2]}, \"\n",
    "                            f\"drop_ratio = {dataset_config['gen_param']['drop_ratio']}, drop : {len(drop_path_list)}\") ,\n",
    "            \"save_path\"  : f\"{crop_gallery_dir}/{fish_name_for_dataset_split_list[0]}/{fish_name_for_dataset}_crop.png\",\n",
    "            \"show_fig\"   : False\n",
    "        }\n",
    "        plt_show.plot_with_imglist_auto_row(**kwargs_plot_with_imglist_auto_row)\n",
    "        \n",
    "        pbar_n_fish.update(1)\n",
    "        pbar_n_fish.refresh()\n",
    "    \n",
    "    pbar_n_fish.close()"
   ]
  },
  {
   "cell_type": "code",
   "execution_count": null,
   "metadata": {},
   "outputs": [],
   "source": [
    "make_crop_gallery(train_key_list, train_selected_dir, train_drop_dir, train_dark_ratio_dict, train_crop_gallery_dir)\n",
    "make_crop_gallery(test_key_list, test_selected_dir, test_drop_dir, test_dark_ratio_dict, test_crop_gallery_dir)"
   ]
  }
 ],
 "metadata": {
  "kernelspec": {
   "display_name": "zebrafish",
   "language": "python",
   "name": "python3"
  },
  "language_info": {
   "codemirror_mode": {
    "name": "ipython",
    "version": 3
   },
   "file_extension": ".py",
   "mimetype": "text/x-python",
   "name": "python",
   "nbconvert_exporter": "python",
   "pygments_lexer": "ipython3",
   "version": "3.8.10"
  },
  "orig_nbformat": 4
 },
 "nbformat": 4,
 "nbformat_minor": 2
}
